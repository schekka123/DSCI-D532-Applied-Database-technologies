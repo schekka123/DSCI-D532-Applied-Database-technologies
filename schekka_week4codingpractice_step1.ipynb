{
 "cells": [
  {
   "cell_type": "markdown",
   "id": "7d04d93b-06ff-4146-ac9c-ba65a0e5a96a",
   "metadata": {},
   "source": [
    "### Week-4 practice solutions. SQL CookBook (Chapter 5-7)"
   ]
  },
  {
   "cell_type": "markdown",
   "id": "b0870b77-4398-4dd4-b856-f81b02f0ddc6",
   "metadata": {},
   "source": [
    "##### Connect to MySQL database (Sakila)"
   ]
  },
  {
   "cell_type": "code",
   "execution_count": 1,
   "id": "6ccda6f7-bd35-410f-b86f-1af0e0d5b52e",
   "metadata": {},
   "outputs": [],
   "source": [
    "config = {\n",
    "  'user': 'root',\n",
    "  'password': 'root',\n",
    "  'host': '127.0.0.1',\n",
    "  'port': 8889,\n",
    "  'database': 'sakila',\n",
    "  'raise_on_warnings': True\n",
    "}"
   ]
  },
  {
   "cell_type": "code",
   "execution_count": 3,
   "id": "1da480e9",
   "metadata": {},
   "outputs": [
    {
     "name": "stdout",
     "output_type": "stream",
     "text": [
      "Defaulting to user installation because normal site-packages is not writeable\n",
      "Collecting mysql-connector-python\n",
      "  Downloading mysql_connector_python-8.3.0-cp39-cp39-macosx_13_0_arm64.whl (15.3 MB)\n",
      "\u001b[2K     \u001b[90m━━━━━━━━━━━━━━━━━━━━━━━━━━━━━━━━━━━━━━━━\u001b[0m \u001b[32m15.3/15.3 MB\u001b[0m \u001b[31m2.2 MB/s\u001b[0m eta \u001b[36m0:00:00\u001b[0m00:01\u001b[0m00:01\u001b[0mm\n",
      "\u001b[?25hInstalling collected packages: mysql-connector-python\n",
      "Successfully installed mysql-connector-python-8.3.0\n",
      "\n",
      "\u001b[1m[\u001b[0m\u001b[34;49mnotice\u001b[0m\u001b[1;39;49m]\u001b[0m\u001b[39;49m A new release of pip is available: \u001b[0m\u001b[31;49m23.0.1\u001b[0m\u001b[39;49m -> \u001b[0m\u001b[32;49m24.0\u001b[0m\n",
      "\u001b[1m[\u001b[0m\u001b[34;49mnotice\u001b[0m\u001b[1;39;49m]\u001b[0m\u001b[39;49m To update, run: \u001b[0m\u001b[32;49m/Library/Developer/CommandLineTools/usr/bin/python3 -m pip install --upgrade pip\u001b[0m\n",
      "Note: you may need to restart the kernel to use updated packages.\n"
     ]
    }
   ],
   "source": [
    "pip install mysql-connector-python"
   ]
  },
  {
   "cell_type": "code",
   "execution_count": 4,
   "id": "098db5f1-eda8-446e-b569-3c1d0a8f7a46",
   "metadata": {},
   "outputs": [],
   "source": [
    "# create a MySQL server connection object\n",
    "import mysql.connector\n",
    "mydb = mysql.connector.connect(**config)"
   ]
  },
  {
   "cell_type": "code",
   "execution_count": 5,
   "id": "4664da82-bc76-4264-b025-398d60dc4c7f",
   "metadata": {},
   "outputs": [],
   "source": [
    "# cursor object\n",
    "my_cursor = mydb.cursor(dictionary=True)"
   ]
  },
  {
   "cell_type": "markdown",
   "id": "cc6b34e4-5309-4f7b-b5de-c448b1e3b30d",
   "metadata": {},
   "source": [
    "##### Chapter-5"
   ]
  },
  {
   "cell_type": "raw",
   "id": "e063f80d-040b-4a0d-acf1-1018352c05e5",
   "metadata": {},
   "source": [
    "5.1 Listing tables in a schema"
   ]
  },
  {
   "cell_type": "markdown",
   "id": "7dd3b7a1",
   "metadata": {},
   "source": [
    "information_schema.tables->storing information about all the tables in that particular schema\n",
    "\n",
    "information_schema.column->storing information about all the columns in that particular table\n",
    "\n",
    "information_schema.key_column_usage-> storing information about all the keys and indexes in that particular schema\n",
    "\n",
    "information_schema.table_constraints -> storing information about all the constraints in all the tables in that particular schema"
   ]
  },
  {
   "cell_type": "code",
   "execution_count": 6,
   "id": "d8f792d3-d1d6-4909-a39d-69b06a9728f6",
   "metadata": {},
   "outputs": [],
   "source": [
    "my_cursor.execute(\" SELECT table_name FROM information_schema.tables WHERE table_schema ='sakila' \")\n",
    "my_result = my_cursor.fetchall()"
   ]
  },
  {
   "cell_type": "code",
   "execution_count": 7,
   "id": "256db242-91cc-48d6-8b22-d8a0abe5df4a",
   "metadata": {},
   "outputs": [
    {
     "name": "stdout",
     "output_type": "stream",
     "text": [
      "{'table_name': 'actor'}\n",
      "{'table_name': 'actor_info'}\n",
      "{'table_name': 'address'}\n",
      "{'table_name': 'category'}\n",
      "{'table_name': 'char_data_types'}\n",
      "{'table_name': 'city'}\n",
      "{'table_name': 'country'}\n",
      "{'table_name': 'customer'}\n",
      "{'table_name': 'customer_list'}\n",
      "{'table_name': 'date_time_types'}\n",
      "{'table_name': 'film'}\n",
      "{'table_name': 'film_actor'}\n",
      "{'table_name': 'film_category'}\n",
      "{'table_name': 'film_list'}\n",
      "{'table_name': 'film_text'}\n",
      "{'table_name': 'inventory'}\n",
      "{'table_name': 'language'}\n",
      "{'table_name': 'nicer_but_slower_film_list'}\n",
      "{'table_name': 'number_data_types'}\n",
      "{'table_name': 'payment'}\n",
      "{'table_name': 'people'}\n",
      "{'table_name': 'rental'}\n",
      "{'table_name': 'sales_by_film_category'}\n",
      "{'table_name': 'sales_by_store'}\n",
      "{'table_name': 'staff'}\n",
      "{'table_name': 'staff_list'}\n",
      "{'table_name': 'store'}\n"
     ]
    }
   ],
   "source": [
    "for table in my_result:\n",
    "    print(table)"
   ]
  },
  {
   "cell_type": "raw",
   "id": "8d723d0d-fdfc-48c3-8a87-b777e9f20757",
   "metadata": {},
   "source": [
    "5.2 Listing a table's columns"
   ]
  },
  {
   "cell_type": "code",
   "execution_count": 8,
   "id": "a5950ab1-7dfe-4fe6-aa03-4f9f3560fa4d",
   "metadata": {},
   "outputs": [
    {
     "name": "stdout",
     "output_type": "stream",
     "text": [
      "Table: actor\n",
      "Total number of tables: 27\n"
     ]
    }
   ],
   "source": [
    "# Just fetching the tables\n",
    "print(f\"Table: {my_result[0]['table_name']}\")\n",
    "print(f\"Total number of tables: {len(my_result)}\")"
   ]
  },
  {
   "cell_type": "code",
   "execution_count": 9,
   "id": "0f8b4a8e-08b4-4d66-9a71-f242e4c72157",
   "metadata": {},
   "outputs": [
    {
     "name": "stdout",
     "output_type": "stream",
     "text": [
      "\n",
      "column names for table: actor\n",
      "-------------------------------------\n",
      "[{'column_name': 'actor_id', 'data_type': 'smallint', 'ordinal_position': 1}, {'column_name': 'first_name', 'data_type': 'varchar', 'ordinal_position': 2}, {'column_name': 'last_name', 'data_type': 'varchar', 'ordinal_position': 3}, {'column_name': 'last_update', 'data_type': 'timestamp', 'ordinal_position': 4}]\n",
      "\n",
      "column names for table: actor_info\n",
      "-------------------------------------\n",
      "[{'column_name': 'actor_id', 'data_type': 'smallint', 'ordinal_position': 1}, {'column_name': 'first_name', 'data_type': 'varchar', 'ordinal_position': 2}, {'column_name': 'last_name', 'data_type': 'varchar', 'ordinal_position': 3}, {'column_name': 'film_info', 'data_type': 'text', 'ordinal_position': 4}]\n",
      "\n",
      "column names for table: address\n",
      "-------------------------------------\n",
      "[{'column_name': 'address_id', 'data_type': 'smallint', 'ordinal_position': 1}, {'column_name': 'address', 'data_type': 'varchar', 'ordinal_position': 2}, {'column_name': 'address2', 'data_type': 'varchar', 'ordinal_position': 3}, {'column_name': 'district', 'data_type': 'varchar', 'ordinal_position': 4}, {'column_name': 'city_id', 'data_type': 'smallint', 'ordinal_position': 5}, {'column_name': 'postal_code', 'data_type': 'varchar', 'ordinal_position': 6}, {'column_name': 'phone', 'data_type': 'varchar', 'ordinal_position': 7}, {'column_name': 'location', 'data_type': 'geometry', 'ordinal_position': 8}, {'column_name': 'last_update', 'data_type': 'timestamp', 'ordinal_position': 9}]\n",
      "\n",
      "column names for table: category\n",
      "-------------------------------------\n",
      "[{'column_name': 'category_id', 'data_type': 'tinyint', 'ordinal_position': 1}, {'column_name': 'name', 'data_type': 'varchar', 'ordinal_position': 2}, {'column_name': 'last_update', 'data_type': 'timestamp', 'ordinal_position': 3}]\n",
      "\n",
      "column names for table: char_data_types\n",
      "-------------------------------------\n",
      "[{'column_name': 'varchar_column', 'data_type': 'varchar', 'ordinal_position': 1}, {'column_name': 'char_column', 'data_type': 'char', 'ordinal_position': 2}, {'column_name': 'text_column', 'data_type': 'text', 'ordinal_position': 3}]\n",
      "\n",
      "column names for table: city\n",
      "-------------------------------------\n",
      "[{'column_name': 'city_id', 'data_type': 'smallint', 'ordinal_position': 1}, {'column_name': 'city', 'data_type': 'varchar', 'ordinal_position': 2}, {'column_name': 'country_id', 'data_type': 'smallint', 'ordinal_position': 3}, {'column_name': 'last_update', 'data_type': 'timestamp', 'ordinal_position': 4}]\n",
      "\n",
      "column names for table: country\n",
      "-------------------------------------\n",
      "[{'column_name': 'country_id', 'data_type': 'smallint', 'ordinal_position': 1}, {'column_name': 'country', 'data_type': 'varchar', 'ordinal_position': 2}, {'column_name': 'last_update', 'data_type': 'timestamp', 'ordinal_position': 3}]\n",
      "\n",
      "column names for table: customer\n",
      "-------------------------------------\n",
      "[{'column_name': 'customer_id', 'data_type': 'smallint', 'ordinal_position': 1}, {'column_name': 'store_id', 'data_type': 'tinyint', 'ordinal_position': 2}, {'column_name': 'first_name', 'data_type': 'varchar', 'ordinal_position': 3}, {'column_name': 'last_name', 'data_type': 'varchar', 'ordinal_position': 4}, {'column_name': 'email', 'data_type': 'varchar', 'ordinal_position': 5}, {'column_name': 'address_id', 'data_type': 'smallint', 'ordinal_position': 6}, {'column_name': 'active', 'data_type': 'tinyint', 'ordinal_position': 7}, {'column_name': 'create_date', 'data_type': 'datetime', 'ordinal_position': 8}, {'column_name': 'last_update', 'data_type': 'timestamp', 'ordinal_position': 9}]\n",
      "\n",
      "column names for table: customer_list\n",
      "-------------------------------------\n",
      "[{'column_name': 'ID', 'data_type': 'smallint', 'ordinal_position': 1}, {'column_name': 'name', 'data_type': 'varchar', 'ordinal_position': 2}, {'column_name': 'address', 'data_type': 'varchar', 'ordinal_position': 3}, {'column_name': 'zip code', 'data_type': 'varchar', 'ordinal_position': 4}, {'column_name': 'phone', 'data_type': 'varchar', 'ordinal_position': 5}, {'column_name': 'city', 'data_type': 'varchar', 'ordinal_position': 6}, {'column_name': 'country', 'data_type': 'varchar', 'ordinal_position': 7}, {'column_name': 'notes', 'data_type': 'varchar', 'ordinal_position': 8}, {'column_name': 'SID', 'data_type': 'tinyint', 'ordinal_position': 9}]\n",
      "\n",
      "column names for table: date_time_types\n",
      "-------------------------------------\n",
      "[{'column_name': 'timestamp_column', 'data_type': 'timestamp', 'ordinal_position': 1}, {'column_name': 'interval_column', 'data_type': 'time', 'ordinal_position': 2}]\n",
      "\n",
      "column names for table: film\n",
      "-------------------------------------\n",
      "[{'column_name': 'film_id', 'data_type': 'smallint', 'ordinal_position': 1}, {'column_name': 'title', 'data_type': 'varchar', 'ordinal_position': 2}, {'column_name': 'description', 'data_type': 'text', 'ordinal_position': 3}, {'column_name': 'release_year', 'data_type': 'year', 'ordinal_position': 4}, {'column_name': 'language_id', 'data_type': 'tinyint', 'ordinal_position': 5}, {'column_name': 'original_language_id', 'data_type': 'tinyint', 'ordinal_position': 6}, {'column_name': 'rental_duration', 'data_type': 'tinyint', 'ordinal_position': 7}, {'column_name': 'rental_rate', 'data_type': 'decimal', 'ordinal_position': 8}, {'column_name': 'length', 'data_type': 'smallint', 'ordinal_position': 9}, {'column_name': 'replacement_cost', 'data_type': 'decimal', 'ordinal_position': 10}, {'column_name': 'rating', 'data_type': 'enum', 'ordinal_position': 11}, {'column_name': 'special_features', 'data_type': 'set', 'ordinal_position': 12}, {'column_name': 'last_update', 'data_type': 'timestamp', 'ordinal_position': 13}]\n",
      "\n",
      "column names for table: film_actor\n",
      "-------------------------------------\n",
      "[{'column_name': 'actor_id', 'data_type': 'smallint', 'ordinal_position': 1}, {'column_name': 'film_id', 'data_type': 'smallint', 'ordinal_position': 2}, {'column_name': 'last_update', 'data_type': 'timestamp', 'ordinal_position': 3}]\n",
      "\n",
      "column names for table: film_category\n",
      "-------------------------------------\n",
      "[{'column_name': 'film_id', 'data_type': 'smallint', 'ordinal_position': 1}, {'column_name': 'category_id', 'data_type': 'tinyint', 'ordinal_position': 2}, {'column_name': 'last_update', 'data_type': 'timestamp', 'ordinal_position': 3}]\n",
      "\n",
      "column names for table: film_list\n",
      "-------------------------------------\n",
      "[{'column_name': 'FID', 'data_type': 'smallint', 'ordinal_position': 1}, {'column_name': 'title', 'data_type': 'varchar', 'ordinal_position': 2}, {'column_name': 'description', 'data_type': 'text', 'ordinal_position': 3}, {'column_name': 'category', 'data_type': 'varchar', 'ordinal_position': 4}, {'column_name': 'price', 'data_type': 'decimal', 'ordinal_position': 5}, {'column_name': 'length', 'data_type': 'smallint', 'ordinal_position': 6}, {'column_name': 'rating', 'data_type': 'enum', 'ordinal_position': 7}, {'column_name': 'actors', 'data_type': 'text', 'ordinal_position': 8}]\n",
      "\n",
      "column names for table: film_text\n",
      "-------------------------------------\n",
      "[{'column_name': 'film_id', 'data_type': 'smallint', 'ordinal_position': 1}, {'column_name': 'title', 'data_type': 'varchar', 'ordinal_position': 2}, {'column_name': 'description', 'data_type': 'text', 'ordinal_position': 3}]\n",
      "\n",
      "column names for table: inventory\n",
      "-------------------------------------\n",
      "[{'column_name': 'inventory_id', 'data_type': 'mediumint', 'ordinal_position': 1}, {'column_name': 'film_id', 'data_type': 'smallint', 'ordinal_position': 2}, {'column_name': 'store_id', 'data_type': 'tinyint', 'ordinal_position': 3}, {'column_name': 'last_update', 'data_type': 'timestamp', 'ordinal_position': 4}]\n",
      "\n",
      "column names for table: language\n",
      "-------------------------------------\n",
      "[{'column_name': 'language_id', 'data_type': 'tinyint', 'ordinal_position': 1}, {'column_name': 'name', 'data_type': 'char', 'ordinal_position': 2}, {'column_name': 'last_update', 'data_type': 'timestamp', 'ordinal_position': 3}]\n",
      "\n",
      "column names for table: nicer_but_slower_film_list\n",
      "-------------------------------------\n",
      "[{'column_name': 'FID', 'data_type': 'smallint', 'ordinal_position': 1}, {'column_name': 'title', 'data_type': 'varchar', 'ordinal_position': 2}, {'column_name': 'description', 'data_type': 'text', 'ordinal_position': 3}, {'column_name': 'category', 'data_type': 'varchar', 'ordinal_position': 4}, {'column_name': 'price', 'data_type': 'decimal', 'ordinal_position': 5}, {'column_name': 'length', 'data_type': 'smallint', 'ordinal_position': 6}, {'column_name': 'rating', 'data_type': 'enum', 'ordinal_position': 7}, {'column_name': 'actors', 'data_type': 'text', 'ordinal_position': 8}]\n",
      "\n",
      "column names for table: number_data_types\n",
      "-------------------------------------\n",
      "[{'column_name': 'numeric_column', 'data_type': 'decimal', 'ordinal_position': 1}, {'column_name': 'real_column', 'data_type': 'double', 'ordinal_position': 2}, {'column_name': 'double_column', 'data_type': 'double', 'ordinal_position': 3}]\n",
      "\n",
      "column names for table: payment\n",
      "-------------------------------------\n",
      "[{'column_name': 'payment_id', 'data_type': 'smallint', 'ordinal_position': 1}, {'column_name': 'customer_id', 'data_type': 'smallint', 'ordinal_position': 2}, {'column_name': 'staff_id', 'data_type': 'tinyint', 'ordinal_position': 3}, {'column_name': 'rental_id', 'data_type': 'int', 'ordinal_position': 4}, {'column_name': 'amount', 'data_type': 'decimal', 'ordinal_position': 5}, {'column_name': 'payment_date', 'data_type': 'datetime', 'ordinal_position': 6}, {'column_name': 'last_update', 'data_type': 'timestamp', 'ordinal_position': 7}]\n",
      "\n",
      "column names for table: people\n",
      "-------------------------------------\n",
      "[{'column_name': 'id', 'data_type': 'bigint', 'ordinal_position': 1}, {'column_name': 'person_name', 'data_type': 'varchar', 'ordinal_position': 2}]\n",
      "\n",
      "column names for table: rental\n",
      "-------------------------------------\n",
      "[{'column_name': 'rental_id', 'data_type': 'int', 'ordinal_position': 1}, {'column_name': 'rental_date', 'data_type': 'datetime', 'ordinal_position': 2}, {'column_name': 'inventory_id', 'data_type': 'mediumint', 'ordinal_position': 3}, {'column_name': 'customer_id', 'data_type': 'smallint', 'ordinal_position': 4}, {'column_name': 'return_date', 'data_type': 'datetime', 'ordinal_position': 5}, {'column_name': 'staff_id', 'data_type': 'tinyint', 'ordinal_position': 6}, {'column_name': 'last_update', 'data_type': 'timestamp', 'ordinal_position': 7}]\n",
      "\n",
      "column names for table: sales_by_film_category\n",
      "-------------------------------------\n",
      "[{'column_name': 'category', 'data_type': 'varchar', 'ordinal_position': 1}, {'column_name': 'total_sales', 'data_type': 'decimal', 'ordinal_position': 2}]\n",
      "\n",
      "column names for table: sales_by_store\n",
      "-------------------------------------\n",
      "[{'column_name': 'store', 'data_type': 'varchar', 'ordinal_position': 1}, {'column_name': 'manager', 'data_type': 'varchar', 'ordinal_position': 2}, {'column_name': 'total_sales', 'data_type': 'decimal', 'ordinal_position': 3}]\n",
      "\n",
      "column names for table: staff\n",
      "-------------------------------------\n",
      "[{'column_name': 'staff_id', 'data_type': 'tinyint', 'ordinal_position': 1}, {'column_name': 'first_name', 'data_type': 'varchar', 'ordinal_position': 2}, {'column_name': 'last_name', 'data_type': 'varchar', 'ordinal_position': 3}, {'column_name': 'address_id', 'data_type': 'smallint', 'ordinal_position': 4}, {'column_name': 'picture', 'data_type': 'blob', 'ordinal_position': 5}, {'column_name': 'email', 'data_type': 'varchar', 'ordinal_position': 6}, {'column_name': 'store_id', 'data_type': 'tinyint', 'ordinal_position': 7}, {'column_name': 'active', 'data_type': 'tinyint', 'ordinal_position': 8}, {'column_name': 'username', 'data_type': 'varchar', 'ordinal_position': 9}, {'column_name': 'password', 'data_type': 'varchar', 'ordinal_position': 10}, {'column_name': 'last_update', 'data_type': 'timestamp', 'ordinal_position': 11}]\n",
      "\n",
      "column names for table: staff_list\n",
      "-------------------------------------\n",
      "[{'column_name': 'ID', 'data_type': 'tinyint', 'ordinal_position': 1}, {'column_name': 'name', 'data_type': 'varchar', 'ordinal_position': 2}, {'column_name': 'address', 'data_type': 'varchar', 'ordinal_position': 3}, {'column_name': 'zip code', 'data_type': 'varchar', 'ordinal_position': 4}, {'column_name': 'phone', 'data_type': 'varchar', 'ordinal_position': 5}, {'column_name': 'city', 'data_type': 'varchar', 'ordinal_position': 6}, {'column_name': 'country', 'data_type': 'varchar', 'ordinal_position': 7}, {'column_name': 'SID', 'data_type': 'tinyint', 'ordinal_position': 8}]\n",
      "\n",
      "column names for table: store\n",
      "-------------------------------------\n",
      "[{'column_name': 'store_id', 'data_type': 'tinyint', 'ordinal_position': 1}, {'column_name': 'manager_staff_id', 'data_type': 'tinyint', 'ordinal_position': 2}, {'column_name': 'address_id', 'data_type': 'smallint', 'ordinal_position': 3}, {'column_name': 'last_update', 'data_type': 'timestamp', 'ordinal_position': 4}]\n"
     ]
    }
   ],
   "source": [
    "for table_num in range(len(my_result)):\n",
    "    table_name = my_result[table_num]['table_name']\n",
    "    my_cursor.execute(f\" SELECT column_name, data_type, ordinal_position FROM information_schema.columns WHERE table_schema ='sakila' AND table_name='{table_name}' \")\n",
    "    column_names = my_cursor.fetchall()\n",
    "    print()\n",
    "    print(f'column names for table: {table_name}')\n",
    "    print('-------------------------------------')\n",
    "    print(column_names)"
   ]
  },
  {
   "cell_type": "markdown",
   "id": "34a383eb",
   "metadata": {},
   "source": [
    "5.3 Listing Indexed Columns for a Table"
   ]
  },
  {
   "cell_type": "code",
   "execution_count": 10,
   "id": "6746a052",
   "metadata": {},
   "outputs": [
    {
     "name": "stdout",
     "output_type": "stream",
     "text": [
      "{'Table': 'actor', 'Non_unique': 0, 'Key_name': 'PRIMARY', 'Seq_in_index': 1, 'Column_name': 'actor_id', 'Collation': 'A', 'Cardinality': 200, 'Sub_part': None, 'Packed': None, 'Null': '', 'Index_type': 'BTREE', 'Comment': '', 'Index_comment': ''}\n",
      "{'Table': 'actor', 'Non_unique': 1, 'Key_name': 'idx_actor_last_name', 'Seq_in_index': 1, 'Column_name': 'last_name', 'Collation': 'A', 'Cardinality': 121, 'Sub_part': None, 'Packed': None, 'Null': '', 'Index_type': 'BTREE', 'Comment': '', 'Index_comment': ''}\n"
     ]
    }
   ],
   "source": [
    "my_cursor.execute(\"show index from actor;\")\n",
    "my_index= my_cursor.fetchall()\n",
    "for idx in my_index:\n",
    "    print(idx)\n"
   ]
  },
  {
   "cell_type": "markdown",
   "id": "e1b7665a",
   "metadata": {},
   "source": [
    "5.4 Listing Constraints on a Table"
   ]
  },
  {
   "cell_type": "code",
   "execution_count": 11,
   "id": "bb0d33a8",
   "metadata": {},
   "outputs": [
    {
     "name": "stdout",
     "output_type": "stream",
     "text": [
      "{'table_name': 'address', 'constraint_name': 'PRIMARY', 'column_name': 'address_id', 'constraint_type': 'PRIMARY KEY'}\n",
      "{'table_name': 'address', 'constraint_name': 'fk_address_city', 'column_name': 'city_id', 'constraint_type': 'FOREIGN KEY'}\n"
     ]
    }
   ],
   "source": [
    "sql_query='''SELECT a.table_name,\n",
    "       a.constraint_name,\n",
    "       b.column_name,\n",
    "       a.constraint_type\n",
    "FROM information_schema.table_constraints AS a,\n",
    "     information_schema.key_column_usage AS b\n",
    "WHERE a.table_name = 'address'\n",
    "AND a.table_schema = 'sakila'\n",
    "and a.table_name = b.table_name\n",
    "AND a.table_schema = b.table_schema\n",
    "AND a.constraint_name = b.constraint_name;\n",
    "'''\n",
    "\n",
    "my_cursor.execute(sql_query)\n",
    "constraints=my_cursor.fetchall()\n",
    "for row in constraints:\n",
    "    print(row)"
   ]
  },
  {
   "cell_type": "markdown",
   "id": "3f05c36f",
   "metadata": {},
   "source": [
    "5.5 Listing Foreign Keys Without Corresponding Indexes"
   ]
  },
  {
   "cell_type": "code",
   "execution_count": 12,
   "id": "decb2a30",
   "metadata": {},
   "outputs": [
    {
     "name": "stdout",
     "output_type": "stream",
     "text": [
      "{'CONSTRAINT_CATALOG': 'def', 'CONSTRAINT_SCHEMA': 'sakila', 'CONSTRAINT_NAME': 'PRIMARY', 'TABLE_CATALOG': 'def', 'TABLE_SCHEMA': 'sakila', 'TABLE_NAME': 'address', 'COLUMN_NAME': 'address_id', 'ORDINAL_POSITION': 1, 'POSITION_IN_UNIQUE_CONSTRAINT': None, 'REFERENCED_TABLE_SCHEMA': None, 'REFERENCED_TABLE_NAME': None, 'REFERENCED_COLUMN_NAME': None}\n",
      "{'CONSTRAINT_CATALOG': 'def', 'CONSTRAINT_SCHEMA': 'sakila', 'CONSTRAINT_NAME': 'fk_address_city', 'TABLE_CATALOG': 'def', 'TABLE_SCHEMA': 'sakila', 'TABLE_NAME': 'address', 'COLUMN_NAME': 'city_id', 'ORDINAL_POSITION': 1, 'POSITION_IN_UNIQUE_CONSTRAINT': 1, 'REFERENCED_TABLE_SCHEMA': 'sakila', 'REFERENCED_TABLE_NAME': 'city', 'REFERENCED_COLUMN_NAME': 'city_id'}\n"
     ]
    }
   ],
   "source": [
    "sql_query='''SELECT * FROM INFORMATION_SCHEMA.KEY_COLUMN_USAGE \n",
    "WHERE TABLE_SCHEMA = 'sakila' AND TABLE_NAME = 'address';\n",
    "'''\n",
    "\n",
    "my_cursor.execute(sql_query)\n",
    "foreign_keys=my_cursor.fetchall()\n",
    "for row in foreign_keys:\n",
    "    print(row)"
   ]
  },
  {
   "cell_type": "code",
   "execution_count": 13,
   "id": "ddceda19",
   "metadata": {},
   "outputs": [
    {
     "name": "stdout",
     "output_type": "stream",
     "text": [
      "{'Table': 'address', 'Non_unique': 0, 'Key_name': 'PRIMARY', 'Seq_in_index': 1, 'Column_name': 'address_id', 'Collation': 'A', 'Cardinality': 603, 'Sub_part': None, 'Packed': None, 'Null': '', 'Index_type': 'BTREE', 'Comment': '', 'Index_comment': ''}\n",
      "{'Table': 'address', 'Non_unique': 1, 'Key_name': 'idx_fk_city_id', 'Seq_in_index': 1, 'Column_name': 'city_id', 'Collation': 'A', 'Cardinality': 599, 'Sub_part': None, 'Packed': None, 'Null': '', 'Index_type': 'BTREE', 'Comment': '', 'Index_comment': ''}\n",
      "{'Table': 'address', 'Non_unique': 1, 'Key_name': 'idx_location', 'Seq_in_index': 1, 'Column_name': 'location', 'Collation': 'A', 'Cardinality': 603, 'Sub_part': 32, 'Packed': None, 'Null': '', 'Index_type': 'SPATIAL', 'Comment': '', 'Index_comment': ''}\n"
     ]
    }
   ],
   "source": [
    "sql_query='''SHOW INDEX FROM sakila.address;\n",
    "'''\n",
    "\n",
    "my_cursor.execute(sql_query)\n",
    "foreign_index=my_cursor.fetchall()\n",
    "for row in foreign_index:\n",
    "    print(row)"
   ]
  },
  {
   "cell_type": "markdown",
   "id": "75b09c05",
   "metadata": {},
   "source": [
    "Here, we can see that there is an index present on the foreign key on the column city_id. In MySQL, when you define a foreign key constraint, an index on the columns involved is automatically created if it does not exist. \n"
   ]
  },
  {
   "cell_type": "markdown",
   "id": "3247c991",
   "metadata": {},
   "source": [
    "5.6 Using SQL to Generate SQL "
   ]
  },
  {
   "cell_type": "code",
   "execution_count": 14,
   "id": "0141dbd2",
   "metadata": {},
   "outputs": [
    {
     "name": "stdout",
     "output_type": "stream",
     "text": [
      "SELECT COUNT(*) FROM sakila.actor;\n",
      "SELECT COUNT(*) FROM sakila.actor_info;\n",
      "SELECT COUNT(*) FROM sakila.address;\n",
      "SELECT COUNT(*) FROM sakila.category;\n",
      "SELECT COUNT(*) FROM sakila.char_data_types;\n",
      "SELECT COUNT(*) FROM sakila.city;\n",
      "SELECT COUNT(*) FROM sakila.country;\n",
      "SELECT COUNT(*) FROM sakila.customer;\n",
      "SELECT COUNT(*) FROM sakila.customer_list;\n",
      "SELECT COUNT(*) FROM sakila.date_time_types;\n",
      "SELECT COUNT(*) FROM sakila.film;\n",
      "SELECT COUNT(*) FROM sakila.film_actor;\n",
      "SELECT COUNT(*) FROM sakila.film_category;\n",
      "SELECT COUNT(*) FROM sakila.film_list;\n",
      "SELECT COUNT(*) FROM sakila.film_text;\n",
      "SELECT COUNT(*) FROM sakila.inventory;\n",
      "SELECT COUNT(*) FROM sakila.language;\n",
      "SELECT COUNT(*) FROM sakila.nicer_but_slower_film_list;\n",
      "SELECT COUNT(*) FROM sakila.number_data_types;\n",
      "SELECT COUNT(*) FROM sakila.payment;\n",
      "SELECT COUNT(*) FROM sakila.people;\n",
      "SELECT COUNT(*) FROM sakila.rental;\n",
      "SELECT COUNT(*) FROM sakila.sales_by_film_category;\n",
      "SELECT COUNT(*) FROM sakila.sales_by_store;\n",
      "SELECT COUNT(*) FROM sakila.staff;\n",
      "SELECT COUNT(*) FROM sakila.staff_list;\n",
      "SELECT COUNT(*) FROM sakila.store;\n"
     ]
    }
   ],
   "source": [
    "sql_query='''SELECT CONCAT('SELECT COUNT(*) FROM ', table_schema, '.', table_name, ';') \n",
    "FROM information_schema.tables \n",
    "WHERE table_schema = 'sakila';\n",
    "'''\n",
    "\n",
    "my_cursor.execute(sql_query)\n",
    "cnt=my_cursor.fetchall()\n",
    "for row in cnt:\n",
    "    print(list(row.values())[0])"
   ]
  },
  {
   "cell_type": "code",
   "execution_count": 15,
   "id": "0cd48087",
   "metadata": {},
   "outputs": [
    {
     "name": "stdout",
     "output_type": "stream",
     "text": [
      "ALTER TABLE address DROP FOREIGN KEY fk_address_city;\n",
      "ALTER TABLE city DROP FOREIGN KEY fk_city_country;\n",
      "ALTER TABLE customer DROP FOREIGN KEY fk_customer_address;\n",
      "ALTER TABLE customer DROP FOREIGN KEY fk_customer_store;\n",
      "ALTER TABLE film DROP FOREIGN KEY fk_film_language;\n",
      "ALTER TABLE film DROP FOREIGN KEY fk_film_language_original;\n",
      "ALTER TABLE film_actor DROP FOREIGN KEY fk_film_actor_actor;\n",
      "ALTER TABLE film_actor DROP FOREIGN KEY fk_film_actor_film;\n",
      "ALTER TABLE film_category DROP FOREIGN KEY fk_film_category_category;\n",
      "ALTER TABLE film_category DROP FOREIGN KEY fk_film_category_film;\n",
      "ALTER TABLE inventory DROP FOREIGN KEY fk_inventory_film;\n",
      "ALTER TABLE inventory DROP FOREIGN KEY fk_inventory_store;\n",
      "ALTER TABLE payment DROP FOREIGN KEY fk_payment_customer;\n",
      "ALTER TABLE payment DROP FOREIGN KEY fk_payment_rental;\n",
      "ALTER TABLE payment DROP FOREIGN KEY fk_payment_staff;\n",
      "ALTER TABLE rental DROP FOREIGN KEY fk_rental_customer;\n",
      "ALTER TABLE rental DROP FOREIGN KEY fk_rental_inventory;\n",
      "ALTER TABLE rental DROP FOREIGN KEY fk_rental_staff;\n",
      "ALTER TABLE staff DROP FOREIGN KEY fk_staff_address;\n",
      "ALTER TABLE staff DROP FOREIGN KEY fk_staff_store;\n",
      "ALTER TABLE store DROP FOREIGN KEY fk_store_address;\n",
      "ALTER TABLE store DROP FOREIGN KEY fk_store_staff;\n"
     ]
    }
   ],
   "source": [
    "sql_query='''SELECT CONCAT('ALTER TABLE ', table_name,' DROP FOREIGN KEY ', constraint_name, ';') \n",
    "FROM information_schema.KEY_COLUMN_USAGE \n",
    "WHERE table_schema = 'sakila' AND REFERENCED_TABLE_NAME IS NOT NULL;\n",
    "'''\n",
    "\n",
    "my_cursor.execute(sql_query)\n",
    "cnt=my_cursor.fetchall()\n",
    "for row in cnt:\n",
    "    print(list(row.values())[0])"
   ]
  },
  {
   "cell_type": "markdown",
   "id": "73dca632",
   "metadata": {},
   "source": [
    "You check the foreign key constraints are present in all the tables in the database"
   ]
  },
  {
   "cell_type": "code",
   "execution_count": 16,
   "id": "5e5a764e",
   "metadata": {},
   "outputs": [
    {
     "name": "stdout",
     "output_type": "stream",
     "text": [
      "{'table_name': 'address', 'column_name': 'city_id', 'constraint_name': 'fk_address_city', 'referenced_table_name': 'city', 'referenced_column_name': 'city_id'}\n",
      "{'table_name': 'city', 'column_name': 'country_id', 'constraint_name': 'fk_city_country', 'referenced_table_name': 'country', 'referenced_column_name': 'country_id'}\n",
      "{'table_name': 'customer', 'column_name': 'address_id', 'constraint_name': 'fk_customer_address', 'referenced_table_name': 'address', 'referenced_column_name': 'address_id'}\n",
      "{'table_name': 'customer', 'column_name': 'store_id', 'constraint_name': 'fk_customer_store', 'referenced_table_name': 'store', 'referenced_column_name': 'store_id'}\n",
      "{'table_name': 'film', 'column_name': 'language_id', 'constraint_name': 'fk_film_language', 'referenced_table_name': 'language', 'referenced_column_name': 'language_id'}\n",
      "{'table_name': 'film', 'column_name': 'original_language_id', 'constraint_name': 'fk_film_language_original', 'referenced_table_name': 'language', 'referenced_column_name': 'language_id'}\n",
      "{'table_name': 'film_actor', 'column_name': 'actor_id', 'constraint_name': 'fk_film_actor_actor', 'referenced_table_name': 'actor', 'referenced_column_name': 'actor_id'}\n",
      "{'table_name': 'film_actor', 'column_name': 'film_id', 'constraint_name': 'fk_film_actor_film', 'referenced_table_name': 'film', 'referenced_column_name': 'film_id'}\n",
      "{'table_name': 'film_category', 'column_name': 'category_id', 'constraint_name': 'fk_film_category_category', 'referenced_table_name': 'category', 'referenced_column_name': 'category_id'}\n",
      "{'table_name': 'film_category', 'column_name': 'film_id', 'constraint_name': 'fk_film_category_film', 'referenced_table_name': 'film', 'referenced_column_name': 'film_id'}\n",
      "{'table_name': 'inventory', 'column_name': 'film_id', 'constraint_name': 'fk_inventory_film', 'referenced_table_name': 'film', 'referenced_column_name': 'film_id'}\n",
      "{'table_name': 'inventory', 'column_name': 'store_id', 'constraint_name': 'fk_inventory_store', 'referenced_table_name': 'store', 'referenced_column_name': 'store_id'}\n",
      "{'table_name': 'payment', 'column_name': 'customer_id', 'constraint_name': 'fk_payment_customer', 'referenced_table_name': 'customer', 'referenced_column_name': 'customer_id'}\n",
      "{'table_name': 'payment', 'column_name': 'rental_id', 'constraint_name': 'fk_payment_rental', 'referenced_table_name': 'rental', 'referenced_column_name': 'rental_id'}\n",
      "{'table_name': 'payment', 'column_name': 'staff_id', 'constraint_name': 'fk_payment_staff', 'referenced_table_name': 'staff', 'referenced_column_name': 'staff_id'}\n",
      "{'table_name': 'rental', 'column_name': 'customer_id', 'constraint_name': 'fk_rental_customer', 'referenced_table_name': 'customer', 'referenced_column_name': 'customer_id'}\n",
      "{'table_name': 'rental', 'column_name': 'inventory_id', 'constraint_name': 'fk_rental_inventory', 'referenced_table_name': 'inventory', 'referenced_column_name': 'inventory_id'}\n",
      "{'table_name': 'rental', 'column_name': 'staff_id', 'constraint_name': 'fk_rental_staff', 'referenced_table_name': 'staff', 'referenced_column_name': 'staff_id'}\n",
      "{'table_name': 'staff', 'column_name': 'address_id', 'constraint_name': 'fk_staff_address', 'referenced_table_name': 'address', 'referenced_column_name': 'address_id'}\n",
      "{'table_name': 'staff', 'column_name': 'store_id', 'constraint_name': 'fk_staff_store', 'referenced_table_name': 'store', 'referenced_column_name': 'store_id'}\n",
      "{'table_name': 'store', 'column_name': 'address_id', 'constraint_name': 'fk_store_address', 'referenced_table_name': 'address', 'referenced_column_name': 'address_id'}\n",
      "{'table_name': 'store', 'column_name': 'manager_staff_id', 'constraint_name': 'fk_store_staff', 'referenced_table_name': 'staff', 'referenced_column_name': 'staff_id'}\n"
     ]
    }
   ],
   "source": [
    "# OPTIONAL\n",
    "sql_query='''SELECT \n",
    "  table_name,\n",
    "  column_name,\n",
    "  constraint_name,\n",
    "  referenced_table_name,\n",
    "  referenced_column_name\n",
    "FROM\n",
    "  information_schema.KEY_COLUMN_USAGE\n",
    "WHERE\n",
    "  REFERENCED_TABLE_SCHEMA = 'sakila'\n",
    "  AND REFERENCED_TABLE_NAME IS NOT NULL;\n",
    "'''\n",
    "\n",
    "\n",
    "my_cursor.execute(sql_query)\n",
    "foreign_keys=my_cursor.fetchall()\n",
    "for row in foreign_keys:\n",
    "    print(row)"
   ]
  },
  {
   "cell_type": "code",
   "execution_count": 17,
   "id": "f994b61a",
   "metadata": {},
   "outputs": [
    {
     "name": "stdout",
     "output_type": "stream",
     "text": [
      "INSERT INTO actor(actor_id, first_name, last_name) VALUES(10, \"CHRISTIAN\", \"GABLE\");\n"
     ]
    }
   ],
   "source": [
    "sql_query='''SELECT CONCAT('INSERT INTO actor(actor_id, first_name, last_name) VALUES(', actor_id, ', \"', first_name, '\", \"', last_name, '\");') \n",
    "FROM actor \n",
    "WHERE actor_id = 10;\n",
    "'''\n",
    "\n",
    "my_cursor.execute(sql_query)\n",
    "cnt=my_cursor.fetchall()\n",
    "for row in cnt:\n",
    "    print(list(row.values())[0])"
   ]
  },
  {
   "cell_type": "markdown",
   "id": "2741df58",
   "metadata": {},
   "source": [
    "5.7 Describing the Data Dictionary Views "
   ]
  },
  {
   "cell_type": "code",
   "execution_count": 18,
   "id": "eff11552",
   "metadata": {},
   "outputs": [
    {
     "name": "stdout",
     "output_type": "stream",
     "text": [
      "{'table_name': 'actor', 'table_comment': ''}\n",
      "{'table_name': 'actor_info', 'table_comment': 'VIEW'}\n",
      "{'table_name': 'address', 'table_comment': ''}\n",
      "{'table_name': 'category', 'table_comment': ''}\n",
      "{'table_name': 'char_data_types', 'table_comment': ''}\n",
      "{'table_name': 'city', 'table_comment': ''}\n",
      "{'table_name': 'country', 'table_comment': ''}\n",
      "{'table_name': 'customer', 'table_comment': ''}\n",
      "{'table_name': 'customer_list', 'table_comment': 'VIEW'}\n",
      "{'table_name': 'date_time_types', 'table_comment': ''}\n",
      "{'table_name': 'film', 'table_comment': ''}\n",
      "{'table_name': 'film_actor', 'table_comment': ''}\n",
      "{'table_name': 'film_category', 'table_comment': ''}\n",
      "{'table_name': 'film_list', 'table_comment': 'VIEW'}\n",
      "{'table_name': 'film_text', 'table_comment': ''}\n",
      "{'table_name': 'inventory', 'table_comment': ''}\n",
      "{'table_name': 'language', 'table_comment': ''}\n",
      "{'table_name': 'nicer_but_slower_film_list', 'table_comment': 'VIEW'}\n",
      "{'table_name': 'number_data_types', 'table_comment': ''}\n",
      "{'table_name': 'payment', 'table_comment': ''}\n",
      "{'table_name': 'people', 'table_comment': ''}\n",
      "{'table_name': 'rental', 'table_comment': ''}\n",
      "{'table_name': 'sales_by_film_category', 'table_comment': 'VIEW'}\n",
      "{'table_name': 'sales_by_store', 'table_comment': 'VIEW'}\n",
      "{'table_name': 'staff', 'table_comment': ''}\n",
      "{'table_name': 'staff_list', 'table_comment': 'VIEW'}\n",
      "{'table_name': 'store', 'table_comment': ''}\n"
     ]
    }
   ],
   "source": [
    "##Query to list data dictionary views and their purposes:\n",
    "sql_query='''SELECT table_name, table_comment \n",
    "FROM information_schema.TABLES \n",
    "WHERE TABLE_SCHEMA = 'sakila';\n",
    "\n",
    "'''\n",
    "\n",
    "\n",
    "my_cursor.execute(sql_query)\n",
    "views=my_cursor.fetchall()\n",
    "for row in views:\n",
    "    print(row)"
   ]
  },
  {
   "cell_type": "code",
   "execution_count": 19,
   "id": "2596790b",
   "metadata": {},
   "outputs": [
    {
     "name": "stdout",
     "output_type": "stream",
     "text": [
      "{'COLUMN_NAME': 'actor_id', 'COLUMN_COMMENT': ''}\n",
      "{'COLUMN_NAME': 'first_name', 'COLUMN_COMMENT': ''}\n",
      "{'COLUMN_NAME': 'last_name', 'COLUMN_COMMENT': ''}\n",
      "{'COLUMN_NAME': 'last_update', 'COLUMN_COMMENT': ''}\n"
     ]
    }
   ],
   "source": [
    "##Query to describe the columns in a given data dictionary view:\n",
    "sql_query='''SELECT COLUMN_NAME, COLUMN_COMMENT \n",
    "FROM information_schema.COLUMNS \n",
    "WHERE TABLE_SCHEMA = 'sakila' AND TABLE_NAME = 'actor';\n",
    "\n",
    "\n",
    "'''\n",
    "\n",
    "\n",
    "my_cursor.execute(sql_query)\n",
    "views=my_cursor.fetchall()\n",
    "for row in views:\n",
    "    print(row)"
   ]
  },
  {
   "cell_type": "markdown",
   "id": "9bd39c9e-5fc3-4c4d-b860-850db322f1fa",
   "metadata": {},
   "source": [
    "##### Chapter-6\n",
    "##### Working with Strings"
   ]
  },
  {
   "cell_type": "markdown",
   "id": "a0ee620f-d7ab-4023-a157-150f680c0842",
   "metadata": {},
   "source": [
    "##### Counting the occurances of a Charecter in a string"
   ]
  },
  {
   "cell_type": "markdown",
   "id": "2de85e53-8ef0-45fa-8967-af48f1fceaa1",
   "metadata": {},
   "source": [
    "- Counting the number of open brackets in a string."
   ]
  },
  {
   "cell_type": "markdown",
   "id": "a194358a",
   "metadata": {},
   "source": [
    "Make sure to use a different connection and different cursor object"
   ]
  },
  {
   "cell_type": "code",
   "execution_count": 30,
   "id": "0845dfb9",
   "metadata": {},
   "outputs": [],
   "source": [
    "schekka_config = {\n",
    "  'user': 'root',\n",
    "  'password': 'root',\n",
    "  'host': '127.0.0.1',\n",
    "  'port': 8889,\n",
    "  'database': 'Saiabhinav',\n",
    "  'raise_on_warnings': True\n",
    "}"
   ]
  },
  {
   "cell_type": "code",
   "execution_count": 31,
   "id": "bf7c8d09",
   "metadata": {},
   "outputs": [],
   "source": [
    "schekka_db = mysql.connector.connect(**schekka_config)\n",
    "# cursor object\n",
    "new_cursor = schekka_db.cursor(dictionary=True)"
   ]
  },
  {
   "cell_type": "code",
   "execution_count": 32,
   "id": "01233919",
   "metadata": {},
   "outputs": [
    {
     "name": "stdout",
     "output_type": "stream",
     "text": [
      "{'EMPNO': 7369, 'ENAME': 'SMITH', 'JOB': 'CLERK', 'MGR': '7902', 'HIREDATE': '17-Dec-05', 'SAL': 800, 'COMM': '', 'DEPTNO': 20}\n",
      "{'EMPNO': 7499, 'ENAME': 'ALLEN', 'JOB': 'SALESMAN', 'MGR': '7698', 'HIREDATE': '20-Feb-06', 'SAL': 1600, 'COMM': '300', 'DEPTNO': 30}\n",
      "{'EMPNO': 7521, 'ENAME': 'WARD', 'JOB': 'SALESMAN', 'MGR': '7698', 'HIREDATE': '22-Feb-06', 'SAL': 1250, 'COMM': '500', 'DEPTNO': 30}\n",
      "{'EMPNO': 7566, 'ENAME': 'JONES', 'JOB': 'MANAGER', 'MGR': '7839', 'HIREDATE': '2-Apr-06', 'SAL': 2975, 'COMM': '', 'DEPTNO': 20}\n",
      "{'EMPNO': 7654, 'ENAME': 'MARTIN', 'JOB': 'SALESMAN', 'MGR': '7698', 'HIREDATE': '28-Sep-06', 'SAL': 1250, 'COMM': '1400', 'DEPTNO': 30}\n",
      "{'EMPNO': 7698, 'ENAME': 'BLAKE', 'JOB': 'MANAGER', 'MGR': '7839', 'HIREDATE': '1-May-06', 'SAL': 2850, 'COMM': '', 'DEPTNO': 30}\n",
      "{'EMPNO': 7782, 'ENAME': 'CLARK', 'JOB': 'MANAGER', 'MGR': '7839', 'HIREDATE': '9-Jun-06', 'SAL': 2450, 'COMM': '', 'DEPTNO': 10}\n",
      "{'EMPNO': 7788, 'ENAME': 'SCOTT', 'JOB': 'ANALYST', 'MGR': '7566', 'HIREDATE': '9-Dec-07', 'SAL': 3000, 'COMM': '', 'DEPTNO': 20}\n",
      "{'EMPNO': 7839, 'ENAME': 'KING', 'JOB': 'PRESIDENT', 'MGR': '', 'HIREDATE': '17-Nov-06', 'SAL': 5000, 'COMM': '', 'DEPTNO': 10}\n",
      "{'EMPNO': 7844, 'ENAME': 'TURNER', 'JOB': 'SALESMAN', 'MGR': '7698', 'HIREDATE': '8-Sep-06', 'SAL': 1500, 'COMM': '0', 'DEPTNO': 30}\n",
      "{'EMPNO': 7876, 'ENAME': 'ADAMS', 'JOB': 'CLERK', 'MGR': '7788', 'HIREDATE': '12-Jan-08', 'SAL': 1100, 'COMM': '', 'DEPTNO': 20}\n",
      "{'EMPNO': 7900, 'ENAME': 'JAMES', 'JOB': 'CLERK', 'MGR': '7698', 'HIREDATE': '3-Dec-06', 'SAL': 950, 'COMM': '', 'DEPTNO': 30}\n",
      "{'EMPNO': 7902, 'ENAME': 'FORD', 'JOB': 'ANALYST', 'MGR': '7566', 'HIREDATE': '3-Dec-06', 'SAL': 3000, 'COMM': '', 'DEPTNO': 20}\n",
      "{'EMPNO': 7934, 'ENAME': 'MILLER', 'JOB': 'CLERK', 'MGR': '7782', 'HIREDATE': '23-Jan-07', 'SAL': 1300, 'COMM': '', 'DEPTNO': 10}\n"
     ]
    }
   ],
   "source": [
    "new_cursor.execute('''SELECT * FROM emp''')\n",
    "for emp_table in new_cursor:\n",
    "    print(emp_table)\n"
   ]
  },
  {
   "cell_type": "code",
   "execution_count": 33,
   "id": "8963c54a",
   "metadata": {},
   "outputs": [
    {
     "name": "stdout",
     "output_type": "stream",
     "text": [
      "{'DEPTNO': 10, 'DNAME': 'ACCOUNTING', 'LOC': 'NEW YORK'}\n",
      "{'DEPTNO': 20, 'DNAME': 'RESEARCH', 'LOC': 'DALLAS'}\n",
      "{'DEPTNO': 30, 'DNAME': 'SALES', 'LOC': 'CHICAGO'}\n",
      "{'DEPTNO': 40, 'DNAME': 'OPERATIONS', 'LOC': 'BOSTON'}\n"
     ]
    }
   ],
   "source": [
    "new_cursor.execute('''SELECT * FROM dept''')\n",
    "for dept_table in new_cursor:\n",
    "    print(dept_table)\n"
   ]
  },
  {
   "cell_type": "markdown",
   "id": "6ee29575",
   "metadata": {},
   "source": [
    "##### 6.4 Removing unwanted characters from string"
   ]
  },
  {
   "cell_type": "markdown",
   "id": "e17e5840",
   "metadata": {},
   "source": [
    "- For Example, removing char 'P' from the name"
   ]
  },
  {
   "cell_type": "code",
   "execution_count": 34,
   "id": "39f751ce",
   "metadata": {},
   "outputs": [
    {
     "name": "stdout",
     "output_type": "stream",
     "text": [
      "{'ename': 'SMITH', 'stripped1': 'SMTH'}\n",
      "{'ename': 'ALLEN', 'stripped1': 'LLN'}\n",
      "{'ename': 'WARD', 'stripped1': 'WRD'}\n",
      "{'ename': 'JONES', 'stripped1': 'JNS'}\n",
      "{'ename': 'MARTIN', 'stripped1': 'MRTN'}\n",
      "{'ename': 'BLAKE', 'stripped1': 'BLK'}\n",
      "{'ename': 'CLARK', 'stripped1': 'CLRK'}\n",
      "{'ename': 'SCOTT', 'stripped1': 'SCTT'}\n",
      "{'ename': 'KING', 'stripped1': 'KNG'}\n",
      "{'ename': 'TURNER', 'stripped1': 'TRNR'}\n",
      "{'ename': 'ADAMS', 'stripped1': 'DMS'}\n",
      "{'ename': 'JAMES', 'stripped1': 'JMS'}\n",
      "{'ename': 'FORD', 'stripped1': 'FRD'}\n",
      "{'ename': 'MILLER', 'stripped1': 'MLLR'}\n"
     ]
    }
   ],
   "source": [
    "new_cursor.execute('''select ename,\n",
    "            replace(\n",
    "            replace(\n",
    "            replace(\n",
    "            replace(\n",
    "            replace(ename,'A',''),'E',''),'I',''),'O',''),'U','')\n",
    "            as stripped1\n",
    "            from emp;''')\n",
    "for characters in new_cursor:\n",
    "    print(characters)"
   ]
  },
  {
   "cell_type": "markdown",
   "id": "92b68385",
   "metadata": {},
   "source": [
    "Using the my_cursor object as we are connecting to sakila database to execute this query"
   ]
  },
  {
   "cell_type": "code",
   "execution_count": 35,
   "id": "65c2f23a",
   "metadata": {},
   "outputs": [
    {
     "name": "stdout",
     "output_type": "stream",
     "text": [
      "{'first_name': 'PENELOPE', 'strp1': 'ENELOE'}\n"
     ]
    }
   ],
   "source": [
    "my_cursor.execute(''' SELECT first_name, REPLACE(first_name, 'P', '') as strp1 FROM actor LIMIT 1''')\n",
    "for repc in my_cursor:\n",
    "    print(repc)"
   ]
  },
  {
   "cell_type": "markdown",
   "id": "761576b4",
   "metadata": {},
   "source": [
    "6.5 Separating Numeric and Character Data - Skip as it uses Translate function"
   ]
  },
  {
   "cell_type": "markdown",
   "id": "01566809",
   "metadata": {},
   "source": [
    "6.6 Determining Whether a String Is Alphanumeric"
   ]
  },
  {
   "cell_type": "code",
   "execution_count": 36,
   "id": "4013eed7",
   "metadata": {},
   "outputs": [],
   "source": [
    "new_cursor.execute('''create view V as\n",
    "    select ename as data\n",
    "    from emp\n",
    "    where deptno=10\n",
    "    union all\n",
    "    select concat(ename,', $',sal,'.00') as data\n",
    "    from emp\n",
    "    where deptno=20\n",
    "    union all\n",
    "    select concat(ename,deptno) as data\n",
    "    from emp\n",
    "    where deptno=30;''')\n",
    "for V_view in new_cursor:\n",
    "    print(V_view)"
   ]
  },
  {
   "cell_type": "code",
   "execution_count": 37,
   "id": "c82e5031",
   "metadata": {},
   "outputs": [
    {
     "name": "stdout",
     "output_type": "stream",
     "text": [
      "{'data': 'CLARK'}\n",
      "{'data': 'KING'}\n",
      "{'data': 'MILLER'}\n",
      "{'data': 'SMITH, $800.00'}\n",
      "{'data': 'JONES, $2975.00'}\n",
      "{'data': 'SCOTT, $3000.00'}\n",
      "{'data': 'ADAMS, $1100.00'}\n",
      "{'data': 'FORD, $3000.00'}\n",
      "{'data': 'ALLEN30'}\n",
      "{'data': 'WARD30'}\n",
      "{'data': 'MARTIN30'}\n",
      "{'data': 'BLAKE30'}\n",
      "{'data': 'TURNER30'}\n",
      "{'data': 'JAMES30'}\n"
     ]
    }
   ],
   "source": [
    "new_cursor.execute('''select * from V''')\n",
    "for V_view in new_cursor:\n",
    "    print(V_view)"
   ]
  },
  {
   "cell_type": "code",
   "execution_count": 38,
   "id": "6f3484a3",
   "metadata": {},
   "outputs": [
    {
     "name": "stdout",
     "output_type": "stream",
     "text": [
      "{'data': 'CLARK'}\n",
      "{'data': 'KING'}\n",
      "{'data': 'MILLER'}\n",
      "{'data': 'ALLEN30'}\n",
      "{'data': 'WARD30'}\n",
      "{'data': 'MARTIN30'}\n",
      "{'data': 'BLAKE30'}\n",
      "{'data': 'TURNER30'}\n",
      "{'data': 'JAMES30'}\n"
     ]
    }
   ],
   "source": [
    "new_cursor.execute('''select data from V where data regexp '[^0-9a-zA-Z]' = 0;''')\n",
    "for V_view in new_cursor:\n",
    "    print(V_view)"
   ]
  },
  {
   "cell_type": "markdown",
   "id": "f4b281a6",
   "metadata": {},
   "source": [
    "6.7 Extracting Initials from a Name"
   ]
  },
  {
   "cell_type": "markdown",
   "id": "0cb6b230",
   "metadata": {},
   "source": [
    "Using the my_cursor object as we are connecting to sakila database for this query"
   ]
  },
  {
   "cell_type": "code",
   "execution_count": 39,
   "id": "0e57bf60-15af-4c04-8c63-c32f6a976fa3",
   "metadata": {},
   "outputs": [
    {
     "name": "stdout",
     "output_type": "stream",
     "text": [
      "{'cnt': Decimal('1.0000')}\n"
     ]
    }
   ],
   "source": [
    "my_cursor.execute('''SELECT ((LENGTH('334 Munger (Monghyr) Lane')) - LENGTH(REPLACE('334 Munger (Monghyr) Lane', '(', ''))) / LENGTH(\"(\") AS cnt ''')\n",
    "for cnt in my_cursor:\n",
    "    print(cnt)"
   ]
  },
  {
   "cell_type": "code",
   "execution_count": 40,
   "id": "9a7fd9d8",
   "metadata": {},
   "outputs": [
    {
     "name": "stdout",
     "output_type": "stream",
     "text": [
      "{'actor_id': 1, 'first_name': 'PENELOPE', 'last_name': 'GUINESS', 'last_update': datetime.datetime(2006, 2, 15, 4, 34, 33)}\n",
      "{'actor_id': 2, 'first_name': 'NICK', 'last_name': 'WAHLBERG', 'last_update': datetime.datetime(2006, 2, 15, 4, 34, 33)}\n",
      "{'actor_id': 3, 'first_name': 'ED', 'last_name': 'CHASE', 'last_update': datetime.datetime(2006, 2, 15, 4, 34, 33)}\n",
      "{'actor_id': 4, 'first_name': 'JENNIFER', 'last_name': 'DAVIS', 'last_update': datetime.datetime(2006, 2, 15, 4, 34, 33)}\n",
      "{'actor_id': 5, 'first_name': 'JOHNNY', 'last_name': 'LOLLOBRIGIDA', 'last_update': datetime.datetime(2006, 2, 15, 4, 34, 33)}\n",
      "{'actor_id': 6, 'first_name': 'BETTE', 'last_name': 'NICHOLSON', 'last_update': datetime.datetime(2006, 2, 15, 4, 34, 33)}\n",
      "{'actor_id': 7, 'first_name': 'GRACE', 'last_name': 'MOSTEL', 'last_update': datetime.datetime(2006, 2, 15, 4, 34, 33)}\n",
      "{'actor_id': 8, 'first_name': 'MATTHEW', 'last_name': 'JOHANSSON', 'last_update': datetime.datetime(2006, 2, 15, 4, 34, 33)}\n",
      "{'actor_id': 9, 'first_name': 'JOE', 'last_name': 'SWANK', 'last_update': datetime.datetime(2006, 2, 15, 4, 34, 33)}\n",
      "{'actor_id': 10, 'first_name': 'CHRISTIAN', 'last_name': 'GABLE', 'last_update': datetime.datetime(2006, 2, 15, 4, 34, 33)}\n",
      "{'actor_id': 11, 'first_name': 'ZERO', 'last_name': 'CAGE', 'last_update': datetime.datetime(2006, 2, 15, 4, 34, 33)}\n",
      "{'actor_id': 12, 'first_name': 'KARL', 'last_name': 'BERRY', 'last_update': datetime.datetime(2006, 2, 15, 4, 34, 33)}\n",
      "{'actor_id': 13, 'first_name': 'UMA', 'last_name': 'WOOD', 'last_update': datetime.datetime(2006, 2, 15, 4, 34, 33)}\n",
      "{'actor_id': 14, 'first_name': 'VIVIEN', 'last_name': 'BERGEN', 'last_update': datetime.datetime(2006, 2, 15, 4, 34, 33)}\n",
      "{'actor_id': 15, 'first_name': 'CUBA', 'last_name': 'OLIVIER', 'last_update': datetime.datetime(2006, 2, 15, 4, 34, 33)}\n",
      "{'actor_id': 16, 'first_name': 'FRED', 'last_name': 'COSTNER', 'last_update': datetime.datetime(2006, 2, 15, 4, 34, 33)}\n",
      "{'actor_id': 17, 'first_name': 'HELEN', 'last_name': 'VOIGHT', 'last_update': datetime.datetime(2006, 2, 15, 4, 34, 33)}\n",
      "{'actor_id': 18, 'first_name': 'DAN', 'last_name': 'TORN', 'last_update': datetime.datetime(2006, 2, 15, 4, 34, 33)}\n",
      "{'actor_id': 19, 'first_name': 'BOB', 'last_name': 'FAWCETT', 'last_update': datetime.datetime(2006, 2, 15, 4, 34, 33)}\n",
      "{'actor_id': 20, 'first_name': 'LUCILLE', 'last_name': 'TRACY', 'last_update': datetime.datetime(2006, 2, 15, 4, 34, 33)}\n",
      "{'actor_id': 21, 'first_name': 'KIRSTEN', 'last_name': 'PALTROW', 'last_update': datetime.datetime(2006, 2, 15, 4, 34, 33)}\n",
      "{'actor_id': 22, 'first_name': 'ELVIS', 'last_name': 'MARX', 'last_update': datetime.datetime(2006, 2, 15, 4, 34, 33)}\n",
      "{'actor_id': 23, 'first_name': 'SANDRA', 'last_name': 'KILMER', 'last_update': datetime.datetime(2006, 2, 15, 4, 34, 33)}\n",
      "{'actor_id': 24, 'first_name': 'CAMERON', 'last_name': 'STREEP', 'last_update': datetime.datetime(2006, 2, 15, 4, 34, 33)}\n",
      "{'actor_id': 25, 'first_name': 'KEVIN', 'last_name': 'BLOOM', 'last_update': datetime.datetime(2006, 2, 15, 4, 34, 33)}\n",
      "{'actor_id': 26, 'first_name': 'RIP', 'last_name': 'CRAWFORD', 'last_update': datetime.datetime(2006, 2, 15, 4, 34, 33)}\n",
      "{'actor_id': 27, 'first_name': 'JULIA', 'last_name': 'MCQUEEN', 'last_update': datetime.datetime(2006, 2, 15, 4, 34, 33)}\n",
      "{'actor_id': 28, 'first_name': 'WOODY', 'last_name': 'HOFFMAN', 'last_update': datetime.datetime(2006, 2, 15, 4, 34, 33)}\n",
      "{'actor_id': 29, 'first_name': 'ALEC', 'last_name': 'WAYNE', 'last_update': datetime.datetime(2006, 2, 15, 4, 34, 33)}\n",
      "{'actor_id': 30, 'first_name': 'SANDRA', 'last_name': 'PECK', 'last_update': datetime.datetime(2006, 2, 15, 4, 34, 33)}\n",
      "{'actor_id': 31, 'first_name': 'SISSY', 'last_name': 'SOBIESKI', 'last_update': datetime.datetime(2006, 2, 15, 4, 34, 33)}\n",
      "{'actor_id': 32, 'first_name': 'TIM', 'last_name': 'HACKMAN', 'last_update': datetime.datetime(2006, 2, 15, 4, 34, 33)}\n",
      "{'actor_id': 33, 'first_name': 'MILLA', 'last_name': 'PECK', 'last_update': datetime.datetime(2006, 2, 15, 4, 34, 33)}\n",
      "{'actor_id': 34, 'first_name': 'AUDREY', 'last_name': 'OLIVIER', 'last_update': datetime.datetime(2006, 2, 15, 4, 34, 33)}\n",
      "{'actor_id': 35, 'first_name': 'JUDY', 'last_name': 'DEAN', 'last_update': datetime.datetime(2006, 2, 15, 4, 34, 33)}\n",
      "{'actor_id': 36, 'first_name': 'BURT', 'last_name': 'DUKAKIS', 'last_update': datetime.datetime(2006, 2, 15, 4, 34, 33)}\n",
      "{'actor_id': 37, 'first_name': 'VAL', 'last_name': 'BOLGER', 'last_update': datetime.datetime(2006, 2, 15, 4, 34, 33)}\n",
      "{'actor_id': 38, 'first_name': 'TOM', 'last_name': 'MCKELLEN', 'last_update': datetime.datetime(2006, 2, 15, 4, 34, 33)}\n",
      "{'actor_id': 39, 'first_name': 'GOLDIE', 'last_name': 'BRODY', 'last_update': datetime.datetime(2006, 2, 15, 4, 34, 33)}\n",
      "{'actor_id': 40, 'first_name': 'JOHNNY', 'last_name': 'CAGE', 'last_update': datetime.datetime(2006, 2, 15, 4, 34, 33)}\n",
      "{'actor_id': 41, 'first_name': 'JODIE', 'last_name': 'DEGENERES', 'last_update': datetime.datetime(2006, 2, 15, 4, 34, 33)}\n",
      "{'actor_id': 42, 'first_name': 'TOM', 'last_name': 'MIRANDA', 'last_update': datetime.datetime(2006, 2, 15, 4, 34, 33)}\n",
      "{'actor_id': 43, 'first_name': 'KIRK', 'last_name': 'JOVOVICH', 'last_update': datetime.datetime(2006, 2, 15, 4, 34, 33)}\n",
      "{'actor_id': 44, 'first_name': 'NICK', 'last_name': 'STALLONE', 'last_update': datetime.datetime(2006, 2, 15, 4, 34, 33)}\n",
      "{'actor_id': 45, 'first_name': 'REESE', 'last_name': 'KILMER', 'last_update': datetime.datetime(2006, 2, 15, 4, 34, 33)}\n",
      "{'actor_id': 46, 'first_name': 'PARKER', 'last_name': 'GOLDBERG', 'last_update': datetime.datetime(2006, 2, 15, 4, 34, 33)}\n",
      "{'actor_id': 47, 'first_name': 'JULIA', 'last_name': 'BARRYMORE', 'last_update': datetime.datetime(2006, 2, 15, 4, 34, 33)}\n",
      "{'actor_id': 48, 'first_name': 'FRANCES', 'last_name': 'DAY-LEWIS', 'last_update': datetime.datetime(2006, 2, 15, 4, 34, 33)}\n",
      "{'actor_id': 49, 'first_name': 'ANNE', 'last_name': 'CRONYN', 'last_update': datetime.datetime(2006, 2, 15, 4, 34, 33)}\n",
      "{'actor_id': 50, 'first_name': 'NATALIE', 'last_name': 'HOPKINS', 'last_update': datetime.datetime(2006, 2, 15, 4, 34, 33)}\n",
      "{'actor_id': 51, 'first_name': 'GARY', 'last_name': 'PHOENIX', 'last_update': datetime.datetime(2006, 2, 15, 4, 34, 33)}\n",
      "{'actor_id': 52, 'first_name': 'CARMEN', 'last_name': 'HUNT', 'last_update': datetime.datetime(2006, 2, 15, 4, 34, 33)}\n",
      "{'actor_id': 53, 'first_name': 'MENA', 'last_name': 'TEMPLE', 'last_update': datetime.datetime(2006, 2, 15, 4, 34, 33)}\n",
      "{'actor_id': 54, 'first_name': 'PENELOPE', 'last_name': 'PINKETT', 'last_update': datetime.datetime(2006, 2, 15, 4, 34, 33)}\n",
      "{'actor_id': 55, 'first_name': 'FAY', 'last_name': 'KILMER', 'last_update': datetime.datetime(2006, 2, 15, 4, 34, 33)}\n",
      "{'actor_id': 56, 'first_name': 'DAN', 'last_name': 'HARRIS', 'last_update': datetime.datetime(2006, 2, 15, 4, 34, 33)}\n",
      "{'actor_id': 57, 'first_name': 'JUDE', 'last_name': 'CRUISE', 'last_update': datetime.datetime(2006, 2, 15, 4, 34, 33)}\n",
      "{'actor_id': 58, 'first_name': 'CHRISTIAN', 'last_name': 'AKROYD', 'last_update': datetime.datetime(2006, 2, 15, 4, 34, 33)}\n",
      "{'actor_id': 59, 'first_name': 'DUSTIN', 'last_name': 'TAUTOU', 'last_update': datetime.datetime(2006, 2, 15, 4, 34, 33)}\n",
      "{'actor_id': 60, 'first_name': 'HENRY', 'last_name': 'BERRY', 'last_update': datetime.datetime(2006, 2, 15, 4, 34, 33)}\n",
      "{'actor_id': 61, 'first_name': 'CHRISTIAN', 'last_name': 'NEESON', 'last_update': datetime.datetime(2006, 2, 15, 4, 34, 33)}\n",
      "{'actor_id': 62, 'first_name': 'JAYNE', 'last_name': 'NEESON', 'last_update': datetime.datetime(2006, 2, 15, 4, 34, 33)}\n",
      "{'actor_id': 63, 'first_name': 'CAMERON', 'last_name': 'WRAY', 'last_update': datetime.datetime(2006, 2, 15, 4, 34, 33)}\n",
      "{'actor_id': 64, 'first_name': 'RAY', 'last_name': 'JOHANSSON', 'last_update': datetime.datetime(2006, 2, 15, 4, 34, 33)}\n",
      "{'actor_id': 65, 'first_name': 'ANGELA', 'last_name': 'HUDSON', 'last_update': datetime.datetime(2006, 2, 15, 4, 34, 33)}\n",
      "{'actor_id': 66, 'first_name': 'MARY', 'last_name': 'TANDY', 'last_update': datetime.datetime(2006, 2, 15, 4, 34, 33)}\n",
      "{'actor_id': 67, 'first_name': 'JESSICA', 'last_name': 'BAILEY', 'last_update': datetime.datetime(2006, 2, 15, 4, 34, 33)}\n",
      "{'actor_id': 68, 'first_name': 'RIP', 'last_name': 'WINSLET', 'last_update': datetime.datetime(2006, 2, 15, 4, 34, 33)}\n",
      "{'actor_id': 69, 'first_name': 'KENNETH', 'last_name': 'PALTROW', 'last_update': datetime.datetime(2006, 2, 15, 4, 34, 33)}\n",
      "{'actor_id': 70, 'first_name': 'MICHELLE', 'last_name': 'MCCONAUGHEY', 'last_update': datetime.datetime(2006, 2, 15, 4, 34, 33)}\n",
      "{'actor_id': 71, 'first_name': 'ADAM', 'last_name': 'GRANT', 'last_update': datetime.datetime(2006, 2, 15, 4, 34, 33)}\n",
      "{'actor_id': 72, 'first_name': 'SEAN', 'last_name': 'WILLIAMS', 'last_update': datetime.datetime(2006, 2, 15, 4, 34, 33)}\n",
      "{'actor_id': 73, 'first_name': 'GARY', 'last_name': 'PENN', 'last_update': datetime.datetime(2006, 2, 15, 4, 34, 33)}\n",
      "{'actor_id': 74, 'first_name': 'MILLA', 'last_name': 'KEITEL', 'last_update': datetime.datetime(2006, 2, 15, 4, 34, 33)}\n",
      "{'actor_id': 75, 'first_name': 'BURT', 'last_name': 'POSEY', 'last_update': datetime.datetime(2006, 2, 15, 4, 34, 33)}\n",
      "{'actor_id': 76, 'first_name': 'ANGELINA', 'last_name': 'ASTAIRE', 'last_update': datetime.datetime(2006, 2, 15, 4, 34, 33)}\n",
      "{'actor_id': 77, 'first_name': 'CARY', 'last_name': 'MCCONAUGHEY', 'last_update': datetime.datetime(2006, 2, 15, 4, 34, 33)}\n",
      "{'actor_id': 78, 'first_name': 'GROUCHO', 'last_name': 'SINATRA', 'last_update': datetime.datetime(2006, 2, 15, 4, 34, 33)}\n",
      "{'actor_id': 79, 'first_name': 'MAE', 'last_name': 'HOFFMAN', 'last_update': datetime.datetime(2006, 2, 15, 4, 34, 33)}\n",
      "{'actor_id': 80, 'first_name': 'RALPH', 'last_name': 'CRUZ', 'last_update': datetime.datetime(2006, 2, 15, 4, 34, 33)}\n",
      "{'actor_id': 81, 'first_name': 'SCARLETT', 'last_name': 'DAMON', 'last_update': datetime.datetime(2006, 2, 15, 4, 34, 33)}\n",
      "{'actor_id': 82, 'first_name': 'WOODY', 'last_name': 'JOLIE', 'last_update': datetime.datetime(2006, 2, 15, 4, 34, 33)}\n",
      "{'actor_id': 83, 'first_name': 'BEN', 'last_name': 'WILLIS', 'last_update': datetime.datetime(2006, 2, 15, 4, 34, 33)}\n",
      "{'actor_id': 84, 'first_name': 'JAMES', 'last_name': 'PITT', 'last_update': datetime.datetime(2006, 2, 15, 4, 34, 33)}\n",
      "{'actor_id': 85, 'first_name': 'MINNIE', 'last_name': 'ZELLWEGER', 'last_update': datetime.datetime(2006, 2, 15, 4, 34, 33)}\n",
      "{'actor_id': 86, 'first_name': 'GREG', 'last_name': 'CHAPLIN', 'last_update': datetime.datetime(2006, 2, 15, 4, 34, 33)}\n",
      "{'actor_id': 87, 'first_name': 'SPENCER', 'last_name': 'PECK', 'last_update': datetime.datetime(2006, 2, 15, 4, 34, 33)}\n",
      "{'actor_id': 88, 'first_name': 'KENNETH', 'last_name': 'PESCI', 'last_update': datetime.datetime(2006, 2, 15, 4, 34, 33)}\n",
      "{'actor_id': 89, 'first_name': 'CHARLIZE', 'last_name': 'DENCH', 'last_update': datetime.datetime(2006, 2, 15, 4, 34, 33)}\n",
      "{'actor_id': 90, 'first_name': 'SEAN', 'last_name': 'GUINESS', 'last_update': datetime.datetime(2006, 2, 15, 4, 34, 33)}\n",
      "{'actor_id': 91, 'first_name': 'CHRISTOPHER', 'last_name': 'BERRY', 'last_update': datetime.datetime(2006, 2, 15, 4, 34, 33)}\n",
      "{'actor_id': 92, 'first_name': 'KIRSTEN', 'last_name': 'AKROYD', 'last_update': datetime.datetime(2006, 2, 15, 4, 34, 33)}\n",
      "{'actor_id': 93, 'first_name': 'ELLEN', 'last_name': 'PRESLEY', 'last_update': datetime.datetime(2006, 2, 15, 4, 34, 33)}\n",
      "{'actor_id': 94, 'first_name': 'KENNETH', 'last_name': 'TORN', 'last_update': datetime.datetime(2006, 2, 15, 4, 34, 33)}\n",
      "{'actor_id': 95, 'first_name': 'DARYL', 'last_name': 'WAHLBERG', 'last_update': datetime.datetime(2006, 2, 15, 4, 34, 33)}\n",
      "{'actor_id': 96, 'first_name': 'GENE', 'last_name': 'WILLIS', 'last_update': datetime.datetime(2006, 2, 15, 4, 34, 33)}\n",
      "{'actor_id': 97, 'first_name': 'MEG', 'last_name': 'HAWKE', 'last_update': datetime.datetime(2006, 2, 15, 4, 34, 33)}\n",
      "{'actor_id': 98, 'first_name': 'CHRIS', 'last_name': 'BRIDGES', 'last_update': datetime.datetime(2006, 2, 15, 4, 34, 33)}\n",
      "{'actor_id': 99, 'first_name': 'JIM', 'last_name': 'MOSTEL', 'last_update': datetime.datetime(2006, 2, 15, 4, 34, 33)}\n",
      "{'actor_id': 100, 'first_name': 'SPENCER', 'last_name': 'DEPP', 'last_update': datetime.datetime(2006, 2, 15, 4, 34, 33)}\n",
      "{'actor_id': 101, 'first_name': 'SUSAN', 'last_name': 'DAVIS', 'last_update': datetime.datetime(2006, 2, 15, 4, 34, 33)}\n",
      "{'actor_id': 102, 'first_name': 'WALTER', 'last_name': 'TORN', 'last_update': datetime.datetime(2006, 2, 15, 4, 34, 33)}\n",
      "{'actor_id': 103, 'first_name': 'MATTHEW', 'last_name': 'LEIGH', 'last_update': datetime.datetime(2006, 2, 15, 4, 34, 33)}\n",
      "{'actor_id': 104, 'first_name': 'PENELOPE', 'last_name': 'CRONYN', 'last_update': datetime.datetime(2006, 2, 15, 4, 34, 33)}\n",
      "{'actor_id': 105, 'first_name': 'SIDNEY', 'last_name': 'CROWE', 'last_update': datetime.datetime(2006, 2, 15, 4, 34, 33)}\n",
      "{'actor_id': 106, 'first_name': 'GROUCHO', 'last_name': 'DUNST', 'last_update': datetime.datetime(2006, 2, 15, 4, 34, 33)}\n",
      "{'actor_id': 107, 'first_name': 'GINA', 'last_name': 'DEGENERES', 'last_update': datetime.datetime(2006, 2, 15, 4, 34, 33)}\n",
      "{'actor_id': 108, 'first_name': 'WARREN', 'last_name': 'NOLTE', 'last_update': datetime.datetime(2006, 2, 15, 4, 34, 33)}\n",
      "{'actor_id': 109, 'first_name': 'SYLVESTER', 'last_name': 'DERN', 'last_update': datetime.datetime(2006, 2, 15, 4, 34, 33)}\n",
      "{'actor_id': 110, 'first_name': 'SUSAN', 'last_name': 'DAVIS', 'last_update': datetime.datetime(2006, 2, 15, 4, 34, 33)}\n",
      "{'actor_id': 111, 'first_name': 'CAMERON', 'last_name': 'ZELLWEGER', 'last_update': datetime.datetime(2006, 2, 15, 4, 34, 33)}\n",
      "{'actor_id': 112, 'first_name': 'RUSSELL', 'last_name': 'BACALL', 'last_update': datetime.datetime(2006, 2, 15, 4, 34, 33)}\n",
      "{'actor_id': 113, 'first_name': 'MORGAN', 'last_name': 'HOPKINS', 'last_update': datetime.datetime(2006, 2, 15, 4, 34, 33)}\n",
      "{'actor_id': 114, 'first_name': 'MORGAN', 'last_name': 'MCDORMAND', 'last_update': datetime.datetime(2006, 2, 15, 4, 34, 33)}\n",
      "{'actor_id': 115, 'first_name': 'HARRISON', 'last_name': 'BALE', 'last_update': datetime.datetime(2006, 2, 15, 4, 34, 33)}\n",
      "{'actor_id': 116, 'first_name': 'DAN', 'last_name': 'STREEP', 'last_update': datetime.datetime(2006, 2, 15, 4, 34, 33)}\n",
      "{'actor_id': 117, 'first_name': 'RENEE', 'last_name': 'TRACY', 'last_update': datetime.datetime(2006, 2, 15, 4, 34, 33)}\n",
      "{'actor_id': 118, 'first_name': 'CUBA', 'last_name': 'ALLEN', 'last_update': datetime.datetime(2006, 2, 15, 4, 34, 33)}\n",
      "{'actor_id': 119, 'first_name': 'WARREN', 'last_name': 'JACKMAN', 'last_update': datetime.datetime(2006, 2, 15, 4, 34, 33)}\n",
      "{'actor_id': 120, 'first_name': 'PENELOPE', 'last_name': 'MONROE', 'last_update': datetime.datetime(2006, 2, 15, 4, 34, 33)}\n",
      "{'actor_id': 121, 'first_name': 'LIZA', 'last_name': 'BERGMAN', 'last_update': datetime.datetime(2006, 2, 15, 4, 34, 33)}\n",
      "{'actor_id': 122, 'first_name': 'SALMA', 'last_name': 'NOLTE', 'last_update': datetime.datetime(2006, 2, 15, 4, 34, 33)}\n",
      "{'actor_id': 123, 'first_name': 'JULIANNE', 'last_name': 'DENCH', 'last_update': datetime.datetime(2006, 2, 15, 4, 34, 33)}\n",
      "{'actor_id': 124, 'first_name': 'SCARLETT', 'last_name': 'BENING', 'last_update': datetime.datetime(2006, 2, 15, 4, 34, 33)}\n",
      "{'actor_id': 125, 'first_name': 'ALBERT', 'last_name': 'NOLTE', 'last_update': datetime.datetime(2006, 2, 15, 4, 34, 33)}\n",
      "{'actor_id': 126, 'first_name': 'FRANCES', 'last_name': 'TOMEI', 'last_update': datetime.datetime(2006, 2, 15, 4, 34, 33)}\n",
      "{'actor_id': 127, 'first_name': 'KEVIN', 'last_name': 'GARLAND', 'last_update': datetime.datetime(2006, 2, 15, 4, 34, 33)}\n",
      "{'actor_id': 128, 'first_name': 'CATE', 'last_name': 'MCQUEEN', 'last_update': datetime.datetime(2006, 2, 15, 4, 34, 33)}\n",
      "{'actor_id': 129, 'first_name': 'DARYL', 'last_name': 'CRAWFORD', 'last_update': datetime.datetime(2006, 2, 15, 4, 34, 33)}\n",
      "{'actor_id': 130, 'first_name': 'GRETA', 'last_name': 'KEITEL', 'last_update': datetime.datetime(2006, 2, 15, 4, 34, 33)}\n",
      "{'actor_id': 131, 'first_name': 'JANE', 'last_name': 'JACKMAN', 'last_update': datetime.datetime(2006, 2, 15, 4, 34, 33)}\n",
      "{'actor_id': 132, 'first_name': 'ADAM', 'last_name': 'HOPPER', 'last_update': datetime.datetime(2006, 2, 15, 4, 34, 33)}\n",
      "{'actor_id': 133, 'first_name': 'RICHARD', 'last_name': 'PENN', 'last_update': datetime.datetime(2006, 2, 15, 4, 34, 33)}\n",
      "{'actor_id': 134, 'first_name': 'GENE', 'last_name': 'HOPKINS', 'last_update': datetime.datetime(2006, 2, 15, 4, 34, 33)}\n",
      "{'actor_id': 135, 'first_name': 'RITA', 'last_name': 'REYNOLDS', 'last_update': datetime.datetime(2006, 2, 15, 4, 34, 33)}\n",
      "{'actor_id': 136, 'first_name': 'ED', 'last_name': 'MANSFIELD', 'last_update': datetime.datetime(2006, 2, 15, 4, 34, 33)}\n",
      "{'actor_id': 137, 'first_name': 'MORGAN', 'last_name': 'WILLIAMS', 'last_update': datetime.datetime(2006, 2, 15, 4, 34, 33)}\n",
      "{'actor_id': 138, 'first_name': 'LUCILLE', 'last_name': 'DEE', 'last_update': datetime.datetime(2006, 2, 15, 4, 34, 33)}\n",
      "{'actor_id': 139, 'first_name': 'EWAN', 'last_name': 'GOODING', 'last_update': datetime.datetime(2006, 2, 15, 4, 34, 33)}\n",
      "{'actor_id': 140, 'first_name': 'WHOOPI', 'last_name': 'HURT', 'last_update': datetime.datetime(2006, 2, 15, 4, 34, 33)}\n",
      "{'actor_id': 141, 'first_name': 'CATE', 'last_name': 'HARRIS', 'last_update': datetime.datetime(2006, 2, 15, 4, 34, 33)}\n",
      "{'actor_id': 142, 'first_name': 'JADA', 'last_name': 'RYDER', 'last_update': datetime.datetime(2006, 2, 15, 4, 34, 33)}\n",
      "{'actor_id': 143, 'first_name': 'RIVER', 'last_name': 'DEAN', 'last_update': datetime.datetime(2006, 2, 15, 4, 34, 33)}\n",
      "{'actor_id': 144, 'first_name': 'ANGELA', 'last_name': 'WITHERSPOON', 'last_update': datetime.datetime(2006, 2, 15, 4, 34, 33)}\n",
      "{'actor_id': 145, 'first_name': 'KIM', 'last_name': 'ALLEN', 'last_update': datetime.datetime(2006, 2, 15, 4, 34, 33)}\n",
      "{'actor_id': 146, 'first_name': 'ALBERT', 'last_name': 'JOHANSSON', 'last_update': datetime.datetime(2006, 2, 15, 4, 34, 33)}\n",
      "{'actor_id': 147, 'first_name': 'FAY', 'last_name': 'WINSLET', 'last_update': datetime.datetime(2006, 2, 15, 4, 34, 33)}\n",
      "{'actor_id': 148, 'first_name': 'EMILY', 'last_name': 'DEE', 'last_update': datetime.datetime(2006, 2, 15, 4, 34, 33)}\n",
      "{'actor_id': 149, 'first_name': 'RUSSELL', 'last_name': 'TEMPLE', 'last_update': datetime.datetime(2006, 2, 15, 4, 34, 33)}\n",
      "{'actor_id': 150, 'first_name': 'JAYNE', 'last_name': 'NOLTE', 'last_update': datetime.datetime(2006, 2, 15, 4, 34, 33)}\n",
      "{'actor_id': 151, 'first_name': 'GEOFFREY', 'last_name': 'HESTON', 'last_update': datetime.datetime(2006, 2, 15, 4, 34, 33)}\n",
      "{'actor_id': 152, 'first_name': 'BEN', 'last_name': 'HARRIS', 'last_update': datetime.datetime(2006, 2, 15, 4, 34, 33)}\n",
      "{'actor_id': 153, 'first_name': 'MINNIE', 'last_name': 'KILMER', 'last_update': datetime.datetime(2006, 2, 15, 4, 34, 33)}\n",
      "{'actor_id': 154, 'first_name': 'MERYL', 'last_name': 'GIBSON', 'last_update': datetime.datetime(2006, 2, 15, 4, 34, 33)}\n",
      "{'actor_id': 155, 'first_name': 'IAN', 'last_name': 'TANDY', 'last_update': datetime.datetime(2006, 2, 15, 4, 34, 33)}\n",
      "{'actor_id': 156, 'first_name': 'FAY', 'last_name': 'WOOD', 'last_update': datetime.datetime(2006, 2, 15, 4, 34, 33)}\n",
      "{'actor_id': 157, 'first_name': 'GRETA', 'last_name': 'MALDEN', 'last_update': datetime.datetime(2006, 2, 15, 4, 34, 33)}\n",
      "{'actor_id': 158, 'first_name': 'VIVIEN', 'last_name': 'BASINGER', 'last_update': datetime.datetime(2006, 2, 15, 4, 34, 33)}\n",
      "{'actor_id': 159, 'first_name': 'LAURA', 'last_name': 'BRODY', 'last_update': datetime.datetime(2006, 2, 15, 4, 34, 33)}\n",
      "{'actor_id': 160, 'first_name': 'CHRIS', 'last_name': 'DEPP', 'last_update': datetime.datetime(2006, 2, 15, 4, 34, 33)}\n",
      "{'actor_id': 161, 'first_name': 'HARVEY', 'last_name': 'HOPE', 'last_update': datetime.datetime(2006, 2, 15, 4, 34, 33)}\n",
      "{'actor_id': 162, 'first_name': 'OPRAH', 'last_name': 'KILMER', 'last_update': datetime.datetime(2006, 2, 15, 4, 34, 33)}\n",
      "{'actor_id': 163, 'first_name': 'CHRISTOPHER', 'last_name': 'WEST', 'last_update': datetime.datetime(2006, 2, 15, 4, 34, 33)}\n",
      "{'actor_id': 164, 'first_name': 'HUMPHREY', 'last_name': 'WILLIS', 'last_update': datetime.datetime(2006, 2, 15, 4, 34, 33)}\n",
      "{'actor_id': 165, 'first_name': 'AL', 'last_name': 'GARLAND', 'last_update': datetime.datetime(2006, 2, 15, 4, 34, 33)}\n",
      "{'actor_id': 166, 'first_name': 'NICK', 'last_name': 'DEGENERES', 'last_update': datetime.datetime(2006, 2, 15, 4, 34, 33)}\n",
      "{'actor_id': 167, 'first_name': 'LAURENCE', 'last_name': 'BULLOCK', 'last_update': datetime.datetime(2006, 2, 15, 4, 34, 33)}\n",
      "{'actor_id': 168, 'first_name': 'WILL', 'last_name': 'WILSON', 'last_update': datetime.datetime(2006, 2, 15, 4, 34, 33)}\n",
      "{'actor_id': 169, 'first_name': 'KENNETH', 'last_name': 'HOFFMAN', 'last_update': datetime.datetime(2006, 2, 15, 4, 34, 33)}\n",
      "{'actor_id': 170, 'first_name': 'MENA', 'last_name': 'HOPPER', 'last_update': datetime.datetime(2006, 2, 15, 4, 34, 33)}\n",
      "{'actor_id': 171, 'first_name': 'OLYMPIA', 'last_name': 'PFEIFFER', 'last_update': datetime.datetime(2006, 2, 15, 4, 34, 33)}\n",
      "{'actor_id': 172, 'first_name': 'GROUCHO', 'last_name': 'WILLIAMS', 'last_update': datetime.datetime(2006, 2, 15, 4, 34, 33)}\n",
      "{'actor_id': 173, 'first_name': 'ALAN', 'last_name': 'DREYFUSS', 'last_update': datetime.datetime(2006, 2, 15, 4, 34, 33)}\n",
      "{'actor_id': 174, 'first_name': 'MICHAEL', 'last_name': 'BENING', 'last_update': datetime.datetime(2006, 2, 15, 4, 34, 33)}\n",
      "{'actor_id': 175, 'first_name': 'WILLIAM', 'last_name': 'HACKMAN', 'last_update': datetime.datetime(2006, 2, 15, 4, 34, 33)}\n",
      "{'actor_id': 176, 'first_name': 'JON', 'last_name': 'CHASE', 'last_update': datetime.datetime(2006, 2, 15, 4, 34, 33)}\n",
      "{'actor_id': 177, 'first_name': 'GENE', 'last_name': 'MCKELLEN', 'last_update': datetime.datetime(2006, 2, 15, 4, 34, 33)}\n",
      "{'actor_id': 178, 'first_name': 'LISA', 'last_name': 'MONROE', 'last_update': datetime.datetime(2006, 2, 15, 4, 34, 33)}\n",
      "{'actor_id': 179, 'first_name': 'ED', 'last_name': 'GUINESS', 'last_update': datetime.datetime(2006, 2, 15, 4, 34, 33)}\n",
      "{'actor_id': 180, 'first_name': 'JEFF', 'last_name': 'SILVERSTONE', 'last_update': datetime.datetime(2006, 2, 15, 4, 34, 33)}\n",
      "{'actor_id': 181, 'first_name': 'MATTHEW', 'last_name': 'CARREY', 'last_update': datetime.datetime(2006, 2, 15, 4, 34, 33)}\n",
      "{'actor_id': 182, 'first_name': 'DEBBIE', 'last_name': 'AKROYD', 'last_update': datetime.datetime(2006, 2, 15, 4, 34, 33)}\n",
      "{'actor_id': 183, 'first_name': 'RUSSELL', 'last_name': 'CLOSE', 'last_update': datetime.datetime(2006, 2, 15, 4, 34, 33)}\n",
      "{'actor_id': 184, 'first_name': 'HUMPHREY', 'last_name': 'GARLAND', 'last_update': datetime.datetime(2006, 2, 15, 4, 34, 33)}\n",
      "{'actor_id': 185, 'first_name': 'MICHAEL', 'last_name': 'BOLGER', 'last_update': datetime.datetime(2006, 2, 15, 4, 34, 33)}\n",
      "{'actor_id': 186, 'first_name': 'JULIA', 'last_name': 'ZELLWEGER', 'last_update': datetime.datetime(2006, 2, 15, 4, 34, 33)}\n",
      "{'actor_id': 187, 'first_name': 'RENEE', 'last_name': 'BALL', 'last_update': datetime.datetime(2006, 2, 15, 4, 34, 33)}\n",
      "{'actor_id': 188, 'first_name': 'ROCK', 'last_name': 'DUKAKIS', 'last_update': datetime.datetime(2006, 2, 15, 4, 34, 33)}\n",
      "{'actor_id': 189, 'first_name': 'CUBA', 'last_name': 'BIRCH', 'last_update': datetime.datetime(2006, 2, 15, 4, 34, 33)}\n",
      "{'actor_id': 190, 'first_name': 'AUDREY', 'last_name': 'BAILEY', 'last_update': datetime.datetime(2006, 2, 15, 4, 34, 33)}\n",
      "{'actor_id': 191, 'first_name': 'GREGORY', 'last_name': 'GOODING', 'last_update': datetime.datetime(2006, 2, 15, 4, 34, 33)}\n",
      "{'actor_id': 192, 'first_name': 'JOHN', 'last_name': 'SUVARI', 'last_update': datetime.datetime(2006, 2, 15, 4, 34, 33)}\n",
      "{'actor_id': 193, 'first_name': 'BURT', 'last_name': 'TEMPLE', 'last_update': datetime.datetime(2006, 2, 15, 4, 34, 33)}\n",
      "{'actor_id': 194, 'first_name': 'MERYL', 'last_name': 'ALLEN', 'last_update': datetime.datetime(2006, 2, 15, 4, 34, 33)}\n",
      "{'actor_id': 195, 'first_name': 'JAYNE', 'last_name': 'SILVERSTONE', 'last_update': datetime.datetime(2006, 2, 15, 4, 34, 33)}\n",
      "{'actor_id': 196, 'first_name': 'BELA', 'last_name': 'WALKEN', 'last_update': datetime.datetime(2006, 2, 15, 4, 34, 33)}\n",
      "{'actor_id': 197, 'first_name': 'REESE', 'last_name': 'WEST', 'last_update': datetime.datetime(2006, 2, 15, 4, 34, 33)}\n",
      "{'actor_id': 198, 'first_name': 'MARY', 'last_name': 'KEITEL', 'last_update': datetime.datetime(2006, 2, 15, 4, 34, 33)}\n",
      "{'actor_id': 199, 'first_name': 'JULIA', 'last_name': 'FAWCETT', 'last_update': datetime.datetime(2006, 2, 15, 4, 34, 33)}\n",
      "{'actor_id': 200, 'first_name': 'THORA', 'last_name': 'TEMPLE', 'last_update': datetime.datetime(2006, 2, 15, 4, 34, 33)}\n"
     ]
    }
   ],
   "source": [
    "my_cursor.execute('''\n",
    "    SELECT * from actor\n",
    "''')\n",
    "for cnt in my_cursor:\n",
    "    print(cnt)"
   ]
  },
  {
   "cell_type": "code",
   "execution_count": 41,
   "id": "5739fdae",
   "metadata": {},
   "outputs": [
    {
     "name": "stdout",
     "output_type": "stream",
     "text": [
      "{'first_name': 'PENELOPE', 'last_name': 'GUINESS', 'initials': 'P.G'}\n",
      "{'first_name': 'NICK', 'last_name': 'WAHLBERG', 'initials': 'N.W'}\n",
      "{'first_name': 'ED', 'last_name': 'CHASE', 'initials': 'E.C'}\n",
      "{'first_name': 'JENNIFER', 'last_name': 'DAVIS', 'initials': 'J.D'}\n",
      "{'first_name': 'JOHNNY', 'last_name': 'LOLLOBRIGIDA', 'initials': 'J.L'}\n",
      "{'first_name': 'BETTE', 'last_name': 'NICHOLSON', 'initials': 'B.N'}\n",
      "{'first_name': 'GRACE', 'last_name': 'MOSTEL', 'initials': 'G.M'}\n",
      "{'first_name': 'MATTHEW', 'last_name': 'JOHANSSON', 'initials': 'M.J'}\n",
      "{'first_name': 'JOE', 'last_name': 'SWANK', 'initials': 'J.S'}\n",
      "{'first_name': 'CHRISTIAN', 'last_name': 'GABLE', 'initials': 'C.G'}\n",
      "{'first_name': 'ZERO', 'last_name': 'CAGE', 'initials': 'Z.C'}\n",
      "{'first_name': 'KARL', 'last_name': 'BERRY', 'initials': 'K.B'}\n",
      "{'first_name': 'UMA', 'last_name': 'WOOD', 'initials': 'U.W'}\n",
      "{'first_name': 'VIVIEN', 'last_name': 'BERGEN', 'initials': 'V.B'}\n",
      "{'first_name': 'CUBA', 'last_name': 'OLIVIER', 'initials': 'C.O'}\n",
      "{'first_name': 'FRED', 'last_name': 'COSTNER', 'initials': 'F.C'}\n",
      "{'first_name': 'HELEN', 'last_name': 'VOIGHT', 'initials': 'H.V'}\n",
      "{'first_name': 'DAN', 'last_name': 'TORN', 'initials': 'D.T'}\n",
      "{'first_name': 'BOB', 'last_name': 'FAWCETT', 'initials': 'B.F'}\n",
      "{'first_name': 'LUCILLE', 'last_name': 'TRACY', 'initials': 'L.T'}\n",
      "{'first_name': 'KIRSTEN', 'last_name': 'PALTROW', 'initials': 'K.P'}\n",
      "{'first_name': 'ELVIS', 'last_name': 'MARX', 'initials': 'E.M'}\n",
      "{'first_name': 'SANDRA', 'last_name': 'KILMER', 'initials': 'S.K'}\n",
      "{'first_name': 'CAMERON', 'last_name': 'STREEP', 'initials': 'C.S'}\n",
      "{'first_name': 'KEVIN', 'last_name': 'BLOOM', 'initials': 'K.B'}\n",
      "{'first_name': 'RIP', 'last_name': 'CRAWFORD', 'initials': 'R.C'}\n",
      "{'first_name': 'JULIA', 'last_name': 'MCQUEEN', 'initials': 'J.M'}\n",
      "{'first_name': 'WOODY', 'last_name': 'HOFFMAN', 'initials': 'W.H'}\n",
      "{'first_name': 'ALEC', 'last_name': 'WAYNE', 'initials': 'A.W'}\n",
      "{'first_name': 'SANDRA', 'last_name': 'PECK', 'initials': 'S.P'}\n",
      "{'first_name': 'SISSY', 'last_name': 'SOBIESKI', 'initials': 'S.S'}\n",
      "{'first_name': 'TIM', 'last_name': 'HACKMAN', 'initials': 'T.H'}\n",
      "{'first_name': 'MILLA', 'last_name': 'PECK', 'initials': 'M.P'}\n",
      "{'first_name': 'AUDREY', 'last_name': 'OLIVIER', 'initials': 'A.O'}\n",
      "{'first_name': 'JUDY', 'last_name': 'DEAN', 'initials': 'J.D'}\n",
      "{'first_name': 'BURT', 'last_name': 'DUKAKIS', 'initials': 'B.D'}\n",
      "{'first_name': 'VAL', 'last_name': 'BOLGER', 'initials': 'V.B'}\n",
      "{'first_name': 'TOM', 'last_name': 'MCKELLEN', 'initials': 'T.M'}\n",
      "{'first_name': 'GOLDIE', 'last_name': 'BRODY', 'initials': 'G.B'}\n",
      "{'first_name': 'JOHNNY', 'last_name': 'CAGE', 'initials': 'J.C'}\n",
      "{'first_name': 'JODIE', 'last_name': 'DEGENERES', 'initials': 'J.D'}\n",
      "{'first_name': 'TOM', 'last_name': 'MIRANDA', 'initials': 'T.M'}\n",
      "{'first_name': 'KIRK', 'last_name': 'JOVOVICH', 'initials': 'K.J'}\n",
      "{'first_name': 'NICK', 'last_name': 'STALLONE', 'initials': 'N.S'}\n",
      "{'first_name': 'REESE', 'last_name': 'KILMER', 'initials': 'R.K'}\n",
      "{'first_name': 'PARKER', 'last_name': 'GOLDBERG', 'initials': 'P.G'}\n",
      "{'first_name': 'JULIA', 'last_name': 'BARRYMORE', 'initials': 'J.B'}\n",
      "{'first_name': 'FRANCES', 'last_name': 'DAY-LEWIS', 'initials': 'F.D'}\n",
      "{'first_name': 'ANNE', 'last_name': 'CRONYN', 'initials': 'A.C'}\n",
      "{'first_name': 'NATALIE', 'last_name': 'HOPKINS', 'initials': 'N.H'}\n",
      "{'first_name': 'GARY', 'last_name': 'PHOENIX', 'initials': 'G.P'}\n",
      "{'first_name': 'CARMEN', 'last_name': 'HUNT', 'initials': 'C.H'}\n",
      "{'first_name': 'MENA', 'last_name': 'TEMPLE', 'initials': 'M.T'}\n",
      "{'first_name': 'PENELOPE', 'last_name': 'PINKETT', 'initials': 'P.P'}\n",
      "{'first_name': 'FAY', 'last_name': 'KILMER', 'initials': 'F.K'}\n",
      "{'first_name': 'DAN', 'last_name': 'HARRIS', 'initials': 'D.H'}\n",
      "{'first_name': 'JUDE', 'last_name': 'CRUISE', 'initials': 'J.C'}\n",
      "{'first_name': 'CHRISTIAN', 'last_name': 'AKROYD', 'initials': 'C.A'}\n",
      "{'first_name': 'DUSTIN', 'last_name': 'TAUTOU', 'initials': 'D.T'}\n",
      "{'first_name': 'HENRY', 'last_name': 'BERRY', 'initials': 'H.B'}\n",
      "{'first_name': 'CHRISTIAN', 'last_name': 'NEESON', 'initials': 'C.N'}\n",
      "{'first_name': 'JAYNE', 'last_name': 'NEESON', 'initials': 'J.N'}\n",
      "{'first_name': 'CAMERON', 'last_name': 'WRAY', 'initials': 'C.W'}\n",
      "{'first_name': 'RAY', 'last_name': 'JOHANSSON', 'initials': 'R.J'}\n",
      "{'first_name': 'ANGELA', 'last_name': 'HUDSON', 'initials': 'A.H'}\n",
      "{'first_name': 'MARY', 'last_name': 'TANDY', 'initials': 'M.T'}\n",
      "{'first_name': 'JESSICA', 'last_name': 'BAILEY', 'initials': 'J.B'}\n",
      "{'first_name': 'RIP', 'last_name': 'WINSLET', 'initials': 'R.W'}\n",
      "{'first_name': 'KENNETH', 'last_name': 'PALTROW', 'initials': 'K.P'}\n",
      "{'first_name': 'MICHELLE', 'last_name': 'MCCONAUGHEY', 'initials': 'M.M'}\n",
      "{'first_name': 'ADAM', 'last_name': 'GRANT', 'initials': 'A.G'}\n",
      "{'first_name': 'SEAN', 'last_name': 'WILLIAMS', 'initials': 'S.W'}\n",
      "{'first_name': 'GARY', 'last_name': 'PENN', 'initials': 'G.P'}\n",
      "{'first_name': 'MILLA', 'last_name': 'KEITEL', 'initials': 'M.K'}\n",
      "{'first_name': 'BURT', 'last_name': 'POSEY', 'initials': 'B.P'}\n",
      "{'first_name': 'ANGELINA', 'last_name': 'ASTAIRE', 'initials': 'A.A'}\n",
      "{'first_name': 'CARY', 'last_name': 'MCCONAUGHEY', 'initials': 'C.M'}\n",
      "{'first_name': 'GROUCHO', 'last_name': 'SINATRA', 'initials': 'G.S'}\n",
      "{'first_name': 'MAE', 'last_name': 'HOFFMAN', 'initials': 'M.H'}\n",
      "{'first_name': 'RALPH', 'last_name': 'CRUZ', 'initials': 'R.C'}\n",
      "{'first_name': 'SCARLETT', 'last_name': 'DAMON', 'initials': 'S.D'}\n",
      "{'first_name': 'WOODY', 'last_name': 'JOLIE', 'initials': 'W.J'}\n",
      "{'first_name': 'BEN', 'last_name': 'WILLIS', 'initials': 'B.W'}\n",
      "{'first_name': 'JAMES', 'last_name': 'PITT', 'initials': 'J.P'}\n",
      "{'first_name': 'MINNIE', 'last_name': 'ZELLWEGER', 'initials': 'M.Z'}\n",
      "{'first_name': 'GREG', 'last_name': 'CHAPLIN', 'initials': 'G.C'}\n",
      "{'first_name': 'SPENCER', 'last_name': 'PECK', 'initials': 'S.P'}\n",
      "{'first_name': 'KENNETH', 'last_name': 'PESCI', 'initials': 'K.P'}\n",
      "{'first_name': 'CHARLIZE', 'last_name': 'DENCH', 'initials': 'C.D'}\n",
      "{'first_name': 'SEAN', 'last_name': 'GUINESS', 'initials': 'S.G'}\n",
      "{'first_name': 'CHRISTOPHER', 'last_name': 'BERRY', 'initials': 'C.B'}\n",
      "{'first_name': 'KIRSTEN', 'last_name': 'AKROYD', 'initials': 'K.A'}\n",
      "{'first_name': 'ELLEN', 'last_name': 'PRESLEY', 'initials': 'E.P'}\n",
      "{'first_name': 'KENNETH', 'last_name': 'TORN', 'initials': 'K.T'}\n",
      "{'first_name': 'DARYL', 'last_name': 'WAHLBERG', 'initials': 'D.W'}\n",
      "{'first_name': 'GENE', 'last_name': 'WILLIS', 'initials': 'G.W'}\n",
      "{'first_name': 'MEG', 'last_name': 'HAWKE', 'initials': 'M.H'}\n",
      "{'first_name': 'CHRIS', 'last_name': 'BRIDGES', 'initials': 'C.B'}\n",
      "{'first_name': 'JIM', 'last_name': 'MOSTEL', 'initials': 'J.M'}\n",
      "{'first_name': 'SPENCER', 'last_name': 'DEPP', 'initials': 'S.D'}\n",
      "{'first_name': 'SUSAN', 'last_name': 'DAVIS', 'initials': 'S.D'}\n",
      "{'first_name': 'WALTER', 'last_name': 'TORN', 'initials': 'W.T'}\n",
      "{'first_name': 'MATTHEW', 'last_name': 'LEIGH', 'initials': 'M.L'}\n",
      "{'first_name': 'PENELOPE', 'last_name': 'CRONYN', 'initials': 'P.C'}\n",
      "{'first_name': 'SIDNEY', 'last_name': 'CROWE', 'initials': 'S.C'}\n",
      "{'first_name': 'GROUCHO', 'last_name': 'DUNST', 'initials': 'G.D'}\n",
      "{'first_name': 'GINA', 'last_name': 'DEGENERES', 'initials': 'G.D'}\n",
      "{'first_name': 'WARREN', 'last_name': 'NOLTE', 'initials': 'W.N'}\n",
      "{'first_name': 'SYLVESTER', 'last_name': 'DERN', 'initials': 'S.D'}\n",
      "{'first_name': 'SUSAN', 'last_name': 'DAVIS', 'initials': 'S.D'}\n",
      "{'first_name': 'CAMERON', 'last_name': 'ZELLWEGER', 'initials': 'C.Z'}\n",
      "{'first_name': 'RUSSELL', 'last_name': 'BACALL', 'initials': 'R.B'}\n",
      "{'first_name': 'MORGAN', 'last_name': 'HOPKINS', 'initials': 'M.H'}\n",
      "{'first_name': 'MORGAN', 'last_name': 'MCDORMAND', 'initials': 'M.M'}\n",
      "{'first_name': 'HARRISON', 'last_name': 'BALE', 'initials': 'H.B'}\n",
      "{'first_name': 'DAN', 'last_name': 'STREEP', 'initials': 'D.S'}\n",
      "{'first_name': 'RENEE', 'last_name': 'TRACY', 'initials': 'R.T'}\n",
      "{'first_name': 'CUBA', 'last_name': 'ALLEN', 'initials': 'C.A'}\n",
      "{'first_name': 'WARREN', 'last_name': 'JACKMAN', 'initials': 'W.J'}\n",
      "{'first_name': 'PENELOPE', 'last_name': 'MONROE', 'initials': 'P.M'}\n",
      "{'first_name': 'LIZA', 'last_name': 'BERGMAN', 'initials': 'L.B'}\n",
      "{'first_name': 'SALMA', 'last_name': 'NOLTE', 'initials': 'S.N'}\n",
      "{'first_name': 'JULIANNE', 'last_name': 'DENCH', 'initials': 'J.D'}\n",
      "{'first_name': 'SCARLETT', 'last_name': 'BENING', 'initials': 'S.B'}\n",
      "{'first_name': 'ALBERT', 'last_name': 'NOLTE', 'initials': 'A.N'}\n",
      "{'first_name': 'FRANCES', 'last_name': 'TOMEI', 'initials': 'F.T'}\n",
      "{'first_name': 'KEVIN', 'last_name': 'GARLAND', 'initials': 'K.G'}\n",
      "{'first_name': 'CATE', 'last_name': 'MCQUEEN', 'initials': 'C.M'}\n",
      "{'first_name': 'DARYL', 'last_name': 'CRAWFORD', 'initials': 'D.C'}\n",
      "{'first_name': 'GRETA', 'last_name': 'KEITEL', 'initials': 'G.K'}\n",
      "{'first_name': 'JANE', 'last_name': 'JACKMAN', 'initials': 'J.J'}\n",
      "{'first_name': 'ADAM', 'last_name': 'HOPPER', 'initials': 'A.H'}\n",
      "{'first_name': 'RICHARD', 'last_name': 'PENN', 'initials': 'R.P'}\n",
      "{'first_name': 'GENE', 'last_name': 'HOPKINS', 'initials': 'G.H'}\n",
      "{'first_name': 'RITA', 'last_name': 'REYNOLDS', 'initials': 'R.R'}\n",
      "{'first_name': 'ED', 'last_name': 'MANSFIELD', 'initials': 'E.M'}\n",
      "{'first_name': 'MORGAN', 'last_name': 'WILLIAMS', 'initials': 'M.W'}\n",
      "{'first_name': 'LUCILLE', 'last_name': 'DEE', 'initials': 'L.D'}\n",
      "{'first_name': 'EWAN', 'last_name': 'GOODING', 'initials': 'E.G'}\n",
      "{'first_name': 'WHOOPI', 'last_name': 'HURT', 'initials': 'W.H'}\n",
      "{'first_name': 'CATE', 'last_name': 'HARRIS', 'initials': 'C.H'}\n",
      "{'first_name': 'JADA', 'last_name': 'RYDER', 'initials': 'J.R'}\n",
      "{'first_name': 'RIVER', 'last_name': 'DEAN', 'initials': 'R.D'}\n",
      "{'first_name': 'ANGELA', 'last_name': 'WITHERSPOON', 'initials': 'A.W'}\n",
      "{'first_name': 'KIM', 'last_name': 'ALLEN', 'initials': 'K.A'}\n",
      "{'first_name': 'ALBERT', 'last_name': 'JOHANSSON', 'initials': 'A.J'}\n",
      "{'first_name': 'FAY', 'last_name': 'WINSLET', 'initials': 'F.W'}\n",
      "{'first_name': 'EMILY', 'last_name': 'DEE', 'initials': 'E.D'}\n",
      "{'first_name': 'RUSSELL', 'last_name': 'TEMPLE', 'initials': 'R.T'}\n",
      "{'first_name': 'JAYNE', 'last_name': 'NOLTE', 'initials': 'J.N'}\n",
      "{'first_name': 'GEOFFREY', 'last_name': 'HESTON', 'initials': 'G.H'}\n",
      "{'first_name': 'BEN', 'last_name': 'HARRIS', 'initials': 'B.H'}\n",
      "{'first_name': 'MINNIE', 'last_name': 'KILMER', 'initials': 'M.K'}\n",
      "{'first_name': 'MERYL', 'last_name': 'GIBSON', 'initials': 'M.G'}\n",
      "{'first_name': 'IAN', 'last_name': 'TANDY', 'initials': 'I.T'}\n",
      "{'first_name': 'FAY', 'last_name': 'WOOD', 'initials': 'F.W'}\n",
      "{'first_name': 'GRETA', 'last_name': 'MALDEN', 'initials': 'G.M'}\n",
      "{'first_name': 'VIVIEN', 'last_name': 'BASINGER', 'initials': 'V.B'}\n",
      "{'first_name': 'LAURA', 'last_name': 'BRODY', 'initials': 'L.B'}\n",
      "{'first_name': 'CHRIS', 'last_name': 'DEPP', 'initials': 'C.D'}\n",
      "{'first_name': 'HARVEY', 'last_name': 'HOPE', 'initials': 'H.H'}\n",
      "{'first_name': 'OPRAH', 'last_name': 'KILMER', 'initials': 'O.K'}\n",
      "{'first_name': 'CHRISTOPHER', 'last_name': 'WEST', 'initials': 'C.W'}\n",
      "{'first_name': 'HUMPHREY', 'last_name': 'WILLIS', 'initials': 'H.W'}\n",
      "{'first_name': 'AL', 'last_name': 'GARLAND', 'initials': 'A.G'}\n",
      "{'first_name': 'NICK', 'last_name': 'DEGENERES', 'initials': 'N.D'}\n",
      "{'first_name': 'LAURENCE', 'last_name': 'BULLOCK', 'initials': 'L.B'}\n",
      "{'first_name': 'WILL', 'last_name': 'WILSON', 'initials': 'W.W'}\n",
      "{'first_name': 'KENNETH', 'last_name': 'HOFFMAN', 'initials': 'K.H'}\n",
      "{'first_name': 'MENA', 'last_name': 'HOPPER', 'initials': 'M.H'}\n",
      "{'first_name': 'OLYMPIA', 'last_name': 'PFEIFFER', 'initials': 'O.P'}\n",
      "{'first_name': 'GROUCHO', 'last_name': 'WILLIAMS', 'initials': 'G.W'}\n",
      "{'first_name': 'ALAN', 'last_name': 'DREYFUSS', 'initials': 'A.D'}\n",
      "{'first_name': 'MICHAEL', 'last_name': 'BENING', 'initials': 'M.B'}\n",
      "{'first_name': 'WILLIAM', 'last_name': 'HACKMAN', 'initials': 'W.H'}\n",
      "{'first_name': 'JON', 'last_name': 'CHASE', 'initials': 'J.C'}\n",
      "{'first_name': 'GENE', 'last_name': 'MCKELLEN', 'initials': 'G.M'}\n",
      "{'first_name': 'LISA', 'last_name': 'MONROE', 'initials': 'L.M'}\n",
      "{'first_name': 'ED', 'last_name': 'GUINESS', 'initials': 'E.G'}\n",
      "{'first_name': 'JEFF', 'last_name': 'SILVERSTONE', 'initials': 'J.S'}\n",
      "{'first_name': 'MATTHEW', 'last_name': 'CARREY', 'initials': 'M.C'}\n",
      "{'first_name': 'DEBBIE', 'last_name': 'AKROYD', 'initials': 'D.A'}\n",
      "{'first_name': 'RUSSELL', 'last_name': 'CLOSE', 'initials': 'R.C'}\n",
      "{'first_name': 'HUMPHREY', 'last_name': 'GARLAND', 'initials': 'H.G'}\n",
      "{'first_name': 'MICHAEL', 'last_name': 'BOLGER', 'initials': 'M.B'}\n",
      "{'first_name': 'JULIA', 'last_name': 'ZELLWEGER', 'initials': 'J.Z'}\n",
      "{'first_name': 'RENEE', 'last_name': 'BALL', 'initials': 'R.B'}\n",
      "{'first_name': 'ROCK', 'last_name': 'DUKAKIS', 'initials': 'R.D'}\n",
      "{'first_name': 'CUBA', 'last_name': 'BIRCH', 'initials': 'C.B'}\n",
      "{'first_name': 'AUDREY', 'last_name': 'BAILEY', 'initials': 'A.B'}\n",
      "{'first_name': 'GREGORY', 'last_name': 'GOODING', 'initials': 'G.G'}\n",
      "{'first_name': 'JOHN', 'last_name': 'SUVARI', 'initials': 'J.S'}\n",
      "{'first_name': 'BURT', 'last_name': 'TEMPLE', 'initials': 'B.T'}\n",
      "{'first_name': 'MERYL', 'last_name': 'ALLEN', 'initials': 'M.A'}\n",
      "{'first_name': 'JAYNE', 'last_name': 'SILVERSTONE', 'initials': 'J.S'}\n",
      "{'first_name': 'BELA', 'last_name': 'WALKEN', 'initials': 'B.W'}\n",
      "{'first_name': 'REESE', 'last_name': 'WEST', 'initials': 'R.W'}\n",
      "{'first_name': 'MARY', 'last_name': 'KEITEL', 'initials': 'M.K'}\n",
      "{'first_name': 'JULIA', 'last_name': 'FAWCETT', 'initials': 'J.F'}\n",
      "{'first_name': 'THORA', 'last_name': 'TEMPLE', 'initials': 'T.T'}\n"
     ]
    }
   ],
   "source": [
    "my_cursor.execute('''\n",
    "    SELECT first_name, last_name, CONCAT(SUBSTRING(SUBSTRING_INDEX(first_name, ' ', 1), 1, 1), '.', SUBSTRING(SUBSTRING_INDEX(last_name, ' ', -1), 1, 1)) AS initials\n",
    "    FROM actor;\n",
    "''')\n",
    "for cnt in my_cursor:\n",
    "    print(cnt)"
   ]
  },
  {
   "cell_type": "markdown",
   "id": "e887ae3b",
   "metadata": {},
   "source": [
    "6.8 Ordering by Parts of a String"
   ]
  },
  {
   "cell_type": "code",
   "execution_count": 42,
   "id": "14ac46ad",
   "metadata": {},
   "outputs": [
    {
     "name": "stdout",
     "output_type": "stream",
     "text": [
      "{'ename': 'ALLEN'}\n",
      "{'ename': 'TURNER'}\n",
      "{'ename': 'MILLER'}\n",
      "{'ename': 'JONES'}\n",
      "{'ename': 'JAMES'}\n",
      "{'ename': 'MARTIN'}\n",
      "{'ename': 'BLAKE'}\n",
      "{'ename': 'ADAMS'}\n",
      "{'ename': 'KING'}\n",
      "{'ename': 'WARD'}\n",
      "{'ename': 'FORD'}\n",
      "{'ename': 'CLARK'}\n",
      "{'ename': 'SMITH'}\n",
      "{'ename': 'SCOTT'}\n"
     ]
    }
   ],
   "source": [
    "## ordering by last two characters\n",
    "new_cursor.execute('''select ename from emp order by substr(ename,length(ename)-1,2);''')\n",
    "for sub in new_cursor:\n",
    "    print(sub)"
   ]
  },
  {
   "cell_type": "code",
   "execution_count": 43,
   "id": "b714d6f8",
   "metadata": {},
   "outputs": [
    {
     "name": "stdout",
     "output_type": "stream",
     "text": [
      "[{'title': 'FROST HEAD'}, {'title': 'CATCH AMISTAD'}, {'title': 'PACIFIC AMISTAD'}, {'title': 'COMA HEAD'}, {'title': 'ROUGE SQUAD'}]\n"
     ]
    }
   ],
   "source": [
    "my_cursor.execute(''' SELECT title FROM film ORDER BY SUBSTR(title, LENGTH(title) - 1) LIMIT 5; ''')\n",
    "conc_res = my_cursor.fetchall()\n",
    "print(conc_res)"
   ]
  },
  {
   "cell_type": "markdown",
   "id": "74526d90",
   "metadata": {},
   "source": [
    "6.9 Ordering by a Number in a String - Cannot execute as MySQL does not provide the TRANSLATE function"
   ]
  },
  {
   "cell_type": "markdown",
   "id": "32dd6426",
   "metadata": {},
   "source": [
    "6.10 Creating a Delimited List from Table Rows"
   ]
  },
  {
   "cell_type": "code",
   "execution_count": 44,
   "id": "b729be60",
   "metadata": {},
   "outputs": [
    {
     "name": "stdout",
     "output_type": "stream",
     "text": [
      "{'deptno': 10, 'emps': 'CLARK,KING,MILLER'}\n",
      "{'deptno': 20, 'emps': 'SMITH,JONES,SCOTT,ADAMS,FORD'}\n",
      "{'deptno': 30, 'emps': 'ALLEN,WARD,MARTIN,BLAKE,TURNER,JAMES'}\n"
     ]
    }
   ],
   "source": [
    "new_cursor.execute('''select deptno, group_concat(ename order by empno separator ',') as emps from emp group by deptno;''')\n",
    "for delimit in new_cursor:\n",
    "    print(delimit)"
   ]
  },
  {
   "cell_type": "markdown",
   "id": "03c4c677",
   "metadata": {},
   "source": [
    "6.11 Converting Delimited Data into a Multivalued IN-List"
   ]
  },
  {
   "cell_type": "code",
   "execution_count": 45,
   "id": "a5518de7",
   "metadata": {},
   "outputs": [
    {
     "name": "stdout",
     "output_type": "stream",
     "text": [
      "{'empno': 7654, 'ename': 'MARTIN', 'sal': 1250, 'deptno': 30}\n",
      "{'empno': 7698, 'ename': 'BLAKE', 'sal': 2850, 'deptno': 30}\n",
      "{'empno': 7782, 'ename': 'CLARK', 'sal': 2450, 'deptno': 10}\n",
      "{'empno': 7788, 'ename': 'SCOTT', 'sal': 3000, 'deptno': 20}\n"
     ]
    }
   ],
   "source": [
    "## here, the IN LIST ( '7654,7698,7782,7788' ) is considered to be a string rather than a comma delimited list\n",
    "new_cursor.execute('''select empno, ename,sal,deptno\n",
    "    from emp\n",
    "    where empno in ( 7654,7698,7782,7788 );''')\n",
    "for delimit in new_cursor:\n",
    "    print(delimit)"
   ]
  },
  {
   "cell_type": "code",
   "execution_count": 46,
   "id": "dfb44cbf",
   "metadata": {},
   "outputs": [
    {
     "name": "stdout",
     "output_type": "stream",
     "text": [
      "{'ename': 'MARTIN', 'sal': 1250, 'deptno': 30}\n"
     ]
    }
   ],
   "source": [
    "new_cursor.execute('''select ename,sal,deptno\n",
    "    from emp\n",
    "    where empno= 7654;''')\n",
    "for delimit in new_cursor:\n",
    "    print(delimit)"
   ]
  },
  {
   "cell_type": "code",
   "execution_count": 47,
   "id": "e776377f",
   "metadata": {},
   "outputs": [],
   "source": [
    "new_cursor.execute('''CREATE TEMPORARY TABLE temp_numbers (id INT);''')\n",
    "for temp in new_cursor:\n",
    "    print(temp)"
   ]
  },
  {
   "cell_type": "code",
   "execution_count": 48,
   "id": "c8846faa",
   "metadata": {},
   "outputs": [],
   "source": [
    "new_cursor.execute('''INSERT INTO temp_numbers (id) VALUES \n",
    "(1), (2), (3), (4), (5), (6), (7), (8), (9), (10),\n",
    "(11), (12), (13), (14), (15), (16), (17), (18), (19), (20);''')\n",
    "for temp in new_cursor:\n",
    "    print(temp)"
   ]
  },
  {
   "cell_type": "code",
   "execution_count": 49,
   "id": "489e842a",
   "metadata": {},
   "outputs": [
    {
     "name": "stdout",
     "output_type": "stream",
     "text": [
      "{'empno': 7654, 'ename': 'MARTIN', 'sal': 1250, 'deptno': 30}\n",
      "{'empno': 7698, 'ename': 'BLAKE', 'sal': 2850, 'deptno': 30}\n",
      "{'empno': 7782, 'ename': 'CLARK', 'sal': 2450, 'deptno': 10}\n",
      "{'empno': 7788, 'ename': 'SCOTT', 'sal': 3000, 'deptno': 20}\n"
     ]
    }
   ],
   "source": [
    "new_cursor.execute('''select empno, ename, sal, deptno \n",
    "    from emp\n",
    "    where empno in\n",
    "    ( select substring_index(\n",
    "     substring_index(list.vals,',',iter.id),',',-1) empno\n",
    "    from temp_numbers as iter,\n",
    "    (select '7654,7698,7782,7788' as vals\n",
    "    from (select 1) as dummy_table\n",
    "    )list\n",
    "    where iter.id <=\n",
    "    (length(list.vals)-length(replace(list.vals,',','')))+1\n",
    "    );''')\n",
    "for delimit in new_cursor:\n",
    "    print(delimit)"
   ]
  },
  {
   "cell_type": "markdown",
   "id": "584f39bc",
   "metadata": {},
   "source": [
    "6.12 Alphabetizing a String"
   ]
  },
  {
   "cell_type": "code",
   "execution_count": 50,
   "id": "47195077",
   "metadata": {},
   "outputs": [
    {
     "name": "stdout",
     "output_type": "stream",
     "text": [
      "{'ename': 'ADAMS', 'sorted_ename': 'AADMS'}\n",
      "{'ename': 'ALLEN', 'sorted_ename': 'AELLN'}\n",
      "{'ename': 'BLAKE', 'sorted_ename': 'ABEKL'}\n",
      "{'ename': 'CLARK', 'sorted_ename': 'ACKLR'}\n",
      "{'ename': 'FORD', 'sorted_ename': 'DFOR'}\n",
      "{'ename': 'JAMES', 'sorted_ename': 'AEJMS'}\n",
      "{'ename': 'JONES', 'sorted_ename': 'EJNOS'}\n",
      "{'ename': 'KING', 'sorted_ename': 'GIKN'}\n",
      "{'ename': 'MARTIN', 'sorted_ename': 'AIMNRT'}\n",
      "{'ename': 'MILLER', 'sorted_ename': 'EILLMR'}\n",
      "{'ename': 'SCOTT', 'sorted_ename': 'COSTT'}\n",
      "{'ename': 'SMITH', 'sorted_ename': 'HIMST'}\n",
      "{'ename': 'TURNER', 'sorted_ename': 'ENRRTU'}\n",
      "{'ename': 'WARD', 'sorted_ename': 'ADRW'}\n"
     ]
    }
   ],
   "source": [
    "new_cursor.execute('''select ename, group_concat(c order by c separator '') AS sorted_ename\n",
    "    from (\n",
    "    select ename, substr(a.ename,iter.id,1) c\n",
    "    from emp a, temp_numbers iter\n",
    "    WHERE iter.id <= LENGTH(a.ename)\n",
    "    ) x\n",
    "    GROUP BY ename;''')\n",
    "for alpha in new_cursor:\n",
    "    print(alpha)"
   ]
  },
  {
   "cell_type": "markdown",
   "id": "0f998420",
   "metadata": {},
   "source": [
    "6.13 Identifying Strings That Can Be Treated as Numbers\n"
   ]
  },
  {
   "cell_type": "code",
   "execution_count": 51,
   "id": "cf944c6a",
   "metadata": {},
   "outputs": [],
   "source": [
    "new_cursor.execute('''create view P as\n",
    "    select concat(\n",
    "    substr(ename,1,2),\n",
    "    replace(cast(deptno as char(4)),' ',''),\n",
    "    substr(ename,3,2)\n",
    "    ) as mixed\n",
    "    from emp\n",
    "    where deptno = 10\n",
    "    union all\n",
    "    select replace(cast(empno as char(4)), ' ', '')\n",
    "    from emp where deptno = 20\n",
    "    union all\n",
    "    select ename from emp where deptno = 30;''')\n",
    "for View_P in new_cursor:\n",
    "    print(View_P)"
   ]
  },
  {
   "cell_type": "code",
   "execution_count": 52,
   "id": "97069093",
   "metadata": {},
   "outputs": [
    {
     "name": "stdout",
     "output_type": "stream",
     "text": [
      "{'mixed': 'CL10AR'}\n",
      "{'mixed': 'KI10NG'}\n",
      "{'mixed': 'MI10LL'}\n",
      "{'mixed': '7369'}\n",
      "{'mixed': '7566'}\n",
      "{'mixed': '7788'}\n",
      "{'mixed': '7876'}\n",
      "{'mixed': '7902'}\n",
      "{'mixed': 'ALLEN'}\n",
      "{'mixed': 'WARD'}\n",
      "{'mixed': 'MARTIN'}\n",
      "{'mixed': 'BLAKE'}\n",
      "{'mixed': 'TURNER'}\n",
      "{'mixed': 'JAMES'}\n"
     ]
    }
   ],
   "source": [
    "new_cursor.execute('''select * from P''')\n",
    "for View_P in new_cursor:\n",
    "    print(View_P)"
   ]
  },
  {
   "cell_type": "code",
   "execution_count": 53,
   "id": "fde6682a",
   "metadata": {
    "scrolled": true
   },
   "outputs": [
    {
     "name": "stdout",
     "output_type": "stream",
     "text": [
      "{'MIXED1': 10}\n",
      "{'MIXED1': 10}\n",
      "{'MIXED1': 10}\n",
      "{'MIXED1': 7369}\n",
      "{'MIXED1': 7566}\n",
      "{'MIXED1': 7788}\n",
      "{'MIXED1': 7876}\n",
      "{'MIXED1': 7902}\n"
     ]
    }
   ],
   "source": [
    "new_cursor.execute('''select cast(group_concat(c order by pos separator '') as unsigned)\n",
    "        as MIXED1\n",
    "        from (\n",
    "        select P.mixed, iter.id AS pos, substr(P.mixed,iter.id,1) as c from P,\n",
    "        temp_numbers as iter where iter.id <= length(P.mixed)\n",
    "        and ascii(substr(P.mixed,iter.id,1)) between 48 and 57)y\n",
    "        \n",
    "        group by mixed\n",
    "        order by 1;''')\n",
    "for str in new_cursor:\n",
    "    print(str)"
   ]
  },
  {
   "cell_type": "markdown",
   "id": "b314894e",
   "metadata": {},
   "source": [
    "6.14 Extracting the nth Delimited Substring"
   ]
  },
  {
   "cell_type": "code",
   "execution_count": 54,
   "id": "e1f5fb22",
   "metadata": {},
   "outputs": [],
   "source": [
    "new_cursor.execute('''CREATE TABLE permanent_numbers (id INT PRIMARY KEY);''')\n",
    "for str in new_cursor:\n",
    "    print(str)"
   ]
  },
  {
   "cell_type": "code",
   "execution_count": 55,
   "id": "0e65768c",
   "metadata": {},
   "outputs": [],
   "source": [
    "new_cursor.execute('''INSERT INTO permanent_numbers VALUES (1), (2), (3),(4), (5), (6), (7), (8), (9), (10),\n",
    "(11), (12), (13), (14), (15), (16), (17), (18), (19), (20);\n",
    "''')\n",
    "for temp in new_cursor:\n",
    "    print(temp)"
   ]
  },
  {
   "cell_type": "code",
   "execution_count": 56,
   "id": "46269fad",
   "metadata": {},
   "outputs": [],
   "source": [
    "new_cursor.execute('''CREATE VIEW C AS\n",
    "    SELECT 'mo,larry,curly' AS name\n",
    "    FROM permanent_numbers\n",
    "    UNION ALL\n",
    "    SELECT 'tina,gina,jaunita,regina,leena' AS name\n",
    "    FROM permanent_numbers;''')\n",
    "for View_C in new_cursor:\n",
    "    print(View_C)"
   ]
  },
  {
   "cell_type": "code",
   "execution_count": 57,
   "id": "97cbab50",
   "metadata": {},
   "outputs": [
    {
     "name": "stdout",
     "output_type": "stream",
     "text": [
      "{'name': 'mo,larry,curly'}\n",
      "{'name': 'tina,gina,jaunita,regina,leena'}\n"
     ]
    }
   ],
   "source": [
    "new_cursor.execute('''select distinct  * from C;''')\n",
    "for View_C in new_cursor:\n",
    "    print(View_C)"
   ]
  },
  {
   "cell_type": "code",
   "execution_count": null,
   "id": "c292ece5",
   "metadata": {},
   "outputs": [],
   "source": []
  },
  {
   "cell_type": "code",
   "execution_count": 58,
   "id": "3bfbdbf4",
   "metadata": {},
   "outputs": [
    {
     "name": "stdout",
     "output_type": "stream",
     "text": [
      "{'name': 'larry'}\n",
      "{'name': 'gina'}\n"
     ]
    }
   ],
   "source": [
    "new_cursor.execute('''Select distinct name\n",
    "        from (\n",
    "        select iter.id AS pos,\n",
    "        substring_index(\n",
    "        substring_index(src.name,',',iter.id),',',-1) AS name\n",
    "        from C src,\n",
    "        temp_numbers iter\n",
    "        where iter.id <=\n",
    "        length(src.name)-length(replace(src.name,',',''))\n",
    "        ) x\n",
    "        where pos = 2 LIMIT 2;''')\n",
    "for View_C in new_cursor:\n",
    "    print(View_C)"
   ]
  },
  {
   "cell_type": "code",
   "execution_count": 59,
   "id": "fcf118f8",
   "metadata": {
    "scrolled": false
   },
   "outputs": [
    {
     "name": "stdout",
     "output_type": "stream",
     "text": [
      "{'pos': 1, 'name': 'mo,larry,curly'}\n"
     ]
    }
   ],
   "source": [
    "new_cursor.execute('''select iter.id AS pos, src.name\n",
    "from temp_numbers iter, C src\n",
    "where iter.id <= length(src.name) - length(replace(src.name, ',', '')) LIMIT 1;''')\n",
    "for View_C in new_cursor:\n",
    "    print(View_C)"
   ]
  },
  {
   "cell_type": "code",
   "execution_count": 60,
   "id": "5256c71b",
   "metadata": {},
   "outputs": [
    {
     "name": "stdout",
     "output_type": "stream",
     "text": [
      "{'pos': 1, 'name1': 'mo,larry,curly', 'name2': 'mo', 'name3': 'mo'}\n",
      "{'pos': 2, 'name1': 'mo,larry,curly', 'name2': 'mo,larry', 'name3': 'larry'}\n"
     ]
    }
   ],
   "source": [
    "new_cursor.execute('''select iter.id AS pos, src.name AS name1,\n",
    "    substring_index(src.name,',',iter.id) AS name2,\n",
    "    substring_index(\n",
    "    substring_index(src.name,',',iter.id),',',-1) AS name3\n",
    "    from temp_numbers iter,\n",
    "    C src\n",
    "    where iter.id <= length(src.name) - length(replace(src.name,',','')) LIMIT 2;''')\n",
    "for View_C in new_cursor:\n",
    "    print(View_C)"
   ]
  },
  {
   "cell_type": "markdown",
   "id": "bea82137",
   "metadata": {},
   "source": [
    "6.15 Parsing an IP Address"
   ]
  },
  {
   "cell_type": "code",
   "execution_count": 61,
   "id": "77d6a06f",
   "metadata": {},
   "outputs": [
    {
     "name": "stdout",
     "output_type": "stream",
     "text": [
      "{'a': '92', 'b': '111', 'c': '0', 'd': '2'}\n"
     ]
    }
   ],
   "source": [
    "new_cursor.execute('''select substring_index(substring_index(y.ip,'.',1),'.',-1) a,\n",
    "       substring_index(substring_index(y.ip,'.',2),'.',-1) b,\n",
    "       substring_index(substring_index(y.ip,'.',3),'.',-1) c,\n",
    "       substring_index(substring_index(y.ip,'.',4),'.',-1) d\n",
    "from (select '92.111.0.2' as ip from temp_numbers LIMIT 1) y;\n",
    "''')\n",
    "for address in new_cursor:\n",
    "    print(address)"
   ]
  },
  {
   "cell_type": "markdown",
   "id": "ad915f77",
   "metadata": {},
   "source": [
    "6.16 Comparing Strings by Sound"
   ]
  },
  {
   "cell_type": "code",
   "execution_count": 62,
   "id": "1e0c5b3e",
   "metadata": {},
   "outputs": [],
   "source": [
    "new_cursor.execute('''CREATE TABLE author_names (\n",
    "    a_name VARCHAR(50));''')\n",
    "for author in new_cursor:\n",
    "    print(author)"
   ]
  },
  {
   "cell_type": "code",
   "execution_count": 63,
   "id": "cf35c7ad",
   "metadata": {},
   "outputs": [],
   "source": [
    "new_cursor.execute('''INSERT INTO author_names (a_name) VALUES\n",
    "('Johnson'),\n",
    "('Jonson'),\n",
    "('Jonsen'),\n",
    "('Jensen'),\n",
    "('Johnsen'),\n",
    "('Shakespeare'),\n",
    "('Shakspear'),\n",
    "('Shaekspir'),\n",
    "('Shakespar');\n",
    "''')\n",
    "\n",
    "for author in new_cursor:\n",
    "    print(author)"
   ]
  },
  {
   "cell_type": "code",
   "execution_count": 64,
   "id": "536d8ddb",
   "metadata": {
    "scrolled": true
   },
   "outputs": [
    {
     "name": "stdout",
     "output_type": "stream",
     "text": [
      "{'name1': 'Jonson', 'name2': 'Johnson', 'Soundex_Name': 'J525'}\n",
      "{'name1': 'Jonsen', 'name2': 'Johnson', 'Soundex_Name': 'J525'}\n",
      "{'name1': 'Jensen', 'name2': 'Johnson', 'Soundex_Name': 'J525'}\n",
      "{'name1': 'Johnsen', 'name2': 'Johnson', 'Soundex_Name': 'J525'}\n",
      "{'name1': 'Johnson', 'name2': 'Jonson', 'Soundex_Name': 'J525'}\n",
      "{'name1': 'Jonsen', 'name2': 'Jonson', 'Soundex_Name': 'J525'}\n",
      "{'name1': 'Jensen', 'name2': 'Jonson', 'Soundex_Name': 'J525'}\n",
      "{'name1': 'Johnsen', 'name2': 'Jonson', 'Soundex_Name': 'J525'}\n",
      "{'name1': 'Johnson', 'name2': 'Jonsen', 'Soundex_Name': 'J525'}\n",
      "{'name1': 'Jonson', 'name2': 'Jonsen', 'Soundex_Name': 'J525'}\n",
      "{'name1': 'Jensen', 'name2': 'Jonsen', 'Soundex_Name': 'J525'}\n",
      "{'name1': 'Johnsen', 'name2': 'Jonsen', 'Soundex_Name': 'J525'}\n",
      "{'name1': 'Johnson', 'name2': 'Jensen', 'Soundex_Name': 'J525'}\n",
      "{'name1': 'Jonson', 'name2': 'Jensen', 'Soundex_Name': 'J525'}\n",
      "{'name1': 'Jonsen', 'name2': 'Jensen', 'Soundex_Name': 'J525'}\n",
      "{'name1': 'Johnsen', 'name2': 'Jensen', 'Soundex_Name': 'J525'}\n",
      "{'name1': 'Johnson', 'name2': 'Johnsen', 'Soundex_Name': 'J525'}\n",
      "{'name1': 'Jonson', 'name2': 'Johnsen', 'Soundex_Name': 'J525'}\n",
      "{'name1': 'Jonsen', 'name2': 'Johnsen', 'Soundex_Name': 'J525'}\n",
      "{'name1': 'Jensen', 'name2': 'Johnsen', 'Soundex_Name': 'J525'}\n",
      "{'name1': 'Shakspear', 'name2': 'Shakespeare', 'Soundex_Name': 'S160'}\n",
      "{'name1': 'Shaekspir', 'name2': 'Shakespeare', 'Soundex_Name': 'S160'}\n",
      "{'name1': 'Shakespar', 'name2': 'Shakespeare', 'Soundex_Name': 'S160'}\n",
      "{'name1': 'Shakespeare', 'name2': 'Shakspear', 'Soundex_Name': 'S160'}\n",
      "{'name1': 'Shaekspir', 'name2': 'Shakspear', 'Soundex_Name': 'S160'}\n",
      "{'name1': 'Shakespar', 'name2': 'Shakspear', 'Soundex_Name': 'S160'}\n",
      "{'name1': 'Shakespeare', 'name2': 'Shaekspir', 'Soundex_Name': 'S160'}\n",
      "{'name1': 'Shakspear', 'name2': 'Shaekspir', 'Soundex_Name': 'S160'}\n",
      "{'name1': 'Shakespar', 'name2': 'Shaekspir', 'Soundex_Name': 'S160'}\n",
      "{'name1': 'Shakespeare', 'name2': 'Shakespar', 'Soundex_Name': 'S160'}\n",
      "{'name1': 'Shakspear', 'name2': 'Shakespar', 'Soundex_Name': 'S160'}\n",
      "{'name1': 'Shaekspir', 'name2': 'Shakespar', 'Soundex_Name': 'S160'}\n"
     ]
    }
   ],
   "source": [
    "new_cursor.execute('''select distinct an1.a_name as name1, an2.a_name as name2,\n",
    "    SOUNDEX(an1.a_name) as Soundex_Name\n",
    "    from author_names an1\n",
    "    join author_names an2\n",
    "    on (SOUNDEX(an1.a_name)=SOUNDEX(an2.a_name)\n",
    "    and an1.a_name!=  an2.a_name);''')\n",
    "\n",
    "for author in new_cursor:\n",
    "    print(author)"
   ]
  },
  {
   "cell_type": "markdown",
   "id": "f55b9eaa",
   "metadata": {},
   "source": [
    "6.17 Finding Text Not Matching a Pattern:  Skip as this is a specific Oracle Database query."
   ]
  },
  {
   "cell_type": "markdown",
   "id": "cc64c0d6-f6e0-4f81-badf-309076cc5f96",
   "metadata": {},
   "source": [
    "##### Chapter-7\n",
    "- 7.1 Computing an Average"
   ]
  },
  {
   "cell_type": "code",
   "execution_count": 65,
   "id": "599b6a26",
   "metadata": {},
   "outputs": [],
   "source": [
    "# cursor object for sakila database\n",
    "mydb = mysql.connector.connect(**config)\n",
    "my_cursor = mydb.cursor(dictionary=True)"
   ]
  },
  {
   "cell_type": "code",
   "execution_count": 66,
   "id": "7338562b-679c-413a-8890-53180b4334c9",
   "metadata": {},
   "outputs": [
    {
     "name": "stdout",
     "output_type": "stream",
     "text": [
      "[{'avg_amount': Decimal('4.201356')}]\n"
     ]
    }
   ],
   "source": [
    "my_cursor.execute('''SELECT AVG(amount) AS avg_amount FROM payment''')\n",
    "avg_res = my_cursor.fetchall()\n",
    "print(avg_res)"
   ]
  },
  {
   "cell_type": "raw",
   "id": "dce7e279-94f2-4b09-8b5f-db69979655a7",
   "metadata": {},
   "source": [
    "Group the avg payment by date."
   ]
  },
  {
   "cell_type": "code",
   "execution_count": 67,
   "id": "2c56ec2e-0213-47dd-97ed-e8ff808bfbfd",
   "metadata": {},
   "outputs": [
    {
     "name": "stdout",
     "output_type": "stream",
     "text": [
      "[{'avg_amount': Decimal('2.990000')}, {'avg_amount': Decimal('2.990000')}, {'avg_amount': Decimal('3.990000')}, {'avg_amount': Decimal('4.990000')}, {'avg_amount': Decimal('6.990000')}]\n"
     ]
    }
   ],
   "source": [
    "my_cursor.execute('''SELECT AVG(amount) AS avg_amount FROM payment GROUP BY payment_date LIMIT 5''')\n",
    "avg_res = my_cursor.fetchall()\n",
    "print(avg_res)"
   ]
  },
  {
   "cell_type": "raw",
   "id": "47ffefcc-8999-48e8-846d-2875fb77e839",
   "metadata": {},
   "source": [
    "7.2 Finding the Min and Max values"
   ]
  },
  {
   "cell_type": "raw",
   "id": "a7e350b2-75cd-4883-8ee9-09f84d9a67f7",
   "metadata": {},
   "source": [
    "Highest payment done."
   ]
  },
  {
   "cell_type": "code",
   "execution_count": 68,
   "id": "7c3a32cd-5912-43c7-952f-5a0cb2b5ab69",
   "metadata": {},
   "outputs": [
    {
     "name": "stdout",
     "output_type": "stream",
     "text": [
      "[{'MAX_PAYMENT': Decimal('11.99')}]\n"
     ]
    }
   ],
   "source": [
    "my_cursor.execute(''' SELECT MAX(amount) AS MAX_PAYMENT FROM payment ''')\n",
    "minmax_res = my_cursor.fetchall()\n",
    "print(minmax_res)"
   ]
  },
  {
   "cell_type": "raw",
   "id": "0ce904e0-e0c2-4618-9d1f-df551f090385",
   "metadata": {},
   "source": [
    "7.3 Summing the values in a column"
   ]
  },
  {
   "cell_type": "code",
   "execution_count": 69,
   "id": "3208f2cb-5916-45e8-9732-f5054b5a5f65",
   "metadata": {},
   "outputs": [
    {
     "name": "stdout",
     "output_type": "stream",
     "text": [
      "[{'TOTAL_PAYMENT': Decimal('67406.56')}]\n"
     ]
    }
   ],
   "source": [
    "my_cursor.execute(''' SELECT SUM(amount) AS TOTAL_PAYMENT FROM payment ''')\n",
    "minmax_res = my_cursor.fetchall()\n",
    "print(minmax_res)"
   ]
  },
  {
   "cell_type": "raw",
   "id": "cb792d89-2694-453b-8cbc-c22c109587e9",
   "metadata": {},
   "source": [
    "7.4 Counting rows in a table"
   ]
  },
  {
   "cell_type": "code",
   "execution_count": 70,
   "id": "5a4e09e6-a86f-448b-b00b-ac8382002165",
   "metadata": {},
   "outputs": [
    {
     "name": "stdout",
     "output_type": "stream",
     "text": [
      "[{'total': 1000}]\n"
     ]
    }
   ],
   "source": [
    "my_cursor.execute(''' SELECT COUNT(*) AS total FROM film ''')\n",
    "total_rows = my_cursor.fetchall()\n",
    "print(total_rows)"
   ]
  },
  {
   "cell_type": "raw",
   "id": "5b17cc0d-86e7-4929-a088-8b3682e9e4ee",
   "metadata": {},
   "source": [
    "Computing avg without high and low values."
   ]
  },
  {
   "cell_type": "code",
   "execution_count": 71,
   "id": "26d12e7d-1037-4513-9b14-ab7ec672e6b4",
   "metadata": {},
   "outputs": [
    {
     "name": "stdout",
     "output_type": "stream",
     "text": [
      "[{'avg_without_high_low_values': Decimal('4.202790')}]\n"
     ]
    }
   ],
   "source": [
    "# This will exclude all the Max and Min values (if the column contains more than one max and min)\n",
    "my_cursor.execute(''' SELECT AVG(amount) AS avg_without_high_low_values FROM payment WHERE amount NOT IN ((SELECT MAX(amount) FROM payment), (SELECT MIN(amount) FROM payment)) ''')\n",
    "avg_w = my_cursor.fetchall()\n",
    "print(avg_w)"
   ]
  },
  {
   "cell_type": "code",
   "execution_count": 72,
   "id": "40853031-1ecf-441b-b0e3-6f2455e5101e",
   "metadata": {},
   "outputs": [
    {
     "name": "stdout",
     "output_type": "stream",
     "text": [
      "[{'avg_wmm': Decimal('4.201133')}]\n"
     ]
    }
   ],
   "source": [
    "# Use this to exclude only one set of Max and Min\n",
    "my_cursor.execute(''' SELECT (SUM(amount) - MIN(amount) - MAX(amount)) / (COUNT(*) - 2) AS avg_wmm FROM payment''')\n",
    "avg_without_max_min = my_cursor.fetchall()\n",
    "print(avg_without_max_min)"
   ]
  },
  {
   "cell_type": "raw",
   "id": "35e38df0-8417-415e-bf2b-7930d5488bce",
   "metadata": {},
   "source": [
    "This is the sample practice notebook. Please refer the SQL cookbook to continue with the practice. Book has the statistical example queries."
   ]
  },
  {
   "cell_type": "markdown",
   "id": "e0bf2dac",
   "metadata": {},
   "source": [
    "7.6 Generating a Running: Run the queries from 7.6 in sqlite as these queries use window functions which is not supported by MySQL Workbench"
   ]
  },
  {
   "cell_type": "code",
   "execution_count": 73,
   "id": "dbb919ef",
   "metadata": {},
   "outputs": [],
   "source": [
    "import sqlite3\n",
    "import pandas as pd"
   ]
  },
  {
   "cell_type": "code",
   "execution_count": 74,
   "id": "cd7ee245",
   "metadata": {},
   "outputs": [],
   "source": [
    "conn = sqlite3.connect('week1.db')\n",
    "c = conn.cursor()"
   ]
  },
  {
   "cell_type": "code",
   "execution_count": 75,
   "id": "6270aa92",
   "metadata": {},
   "outputs": [
    {
     "data": {
      "text/plain": [
       "14"
      ]
     },
     "execution_count": 75,
     "metadata": {},
     "output_type": "execute_result"
    }
   ],
   "source": [
    "read_emp = pd.read_csv(r'/Users/saiabhinavchekka/Desktop/emp.csv')\n",
    "read_emp.to_sql('emp', conn, if_exists='replace', index = False) # Insert the values from the csv file into the table 'emp'"
   ]
  },
  {
   "cell_type": "code",
   "execution_count": 76,
   "id": "dd1e79cd",
   "metadata": {},
   "outputs": [
    {
     "data": {
      "text/plain": [
       "4"
      ]
     },
     "execution_count": 76,
     "metadata": {},
     "output_type": "execute_result"
    }
   ],
   "source": [
    "read_dept = pd.read_csv(r'/Users/saiabhinavchekka/Desktop/dept.csv')\n",
    "read_dept.to_sql('dept', conn, if_exists='replace', index = False) # Insert the values from the csv file into the table 'dept'"
   ]
  },
  {
   "cell_type": "markdown",
   "id": "d45f5535",
   "metadata": {},
   "source": [
    "7.6 Generating a Running Total"
   ]
  },
  {
   "cell_type": "code",
   "execution_count": 77,
   "id": "4e16cf61",
   "metadata": {},
   "outputs": [
    {
     "data": {
      "text/html": [
       "<div>\n",
       "<style scoped>\n",
       "    .dataframe tbody tr th:only-of-type {\n",
       "        vertical-align: middle;\n",
       "    }\n",
       "\n",
       "    .dataframe tbody tr th {\n",
       "        vertical-align: top;\n",
       "    }\n",
       "\n",
       "    .dataframe thead th {\n",
       "        text-align: right;\n",
       "    }\n",
       "</style>\n",
       "<table border=\"1\" class=\"dataframe\">\n",
       "  <thead>\n",
       "    <tr style=\"text-align: right;\">\n",
       "      <th></th>\n",
       "      <th>ENAME</th>\n",
       "      <th>SAL</th>\n",
       "      <th>running_total</th>\n",
       "    </tr>\n",
       "  </thead>\n",
       "  <tbody>\n",
       "    <tr>\n",
       "      <th>0</th>\n",
       "      <td>SMITH</td>\n",
       "      <td>800</td>\n",
       "      <td>800</td>\n",
       "    </tr>\n",
       "    <tr>\n",
       "      <th>1</th>\n",
       "      <td>JAMES</td>\n",
       "      <td>950</td>\n",
       "      <td>1750</td>\n",
       "    </tr>\n",
       "    <tr>\n",
       "      <th>2</th>\n",
       "      <td>ADAMS</td>\n",
       "      <td>1100</td>\n",
       "      <td>2850</td>\n",
       "    </tr>\n",
       "    <tr>\n",
       "      <th>3</th>\n",
       "      <td>WARD</td>\n",
       "      <td>1250</td>\n",
       "      <td>4100</td>\n",
       "    </tr>\n",
       "    <tr>\n",
       "      <th>4</th>\n",
       "      <td>MARTIN</td>\n",
       "      <td>1250</td>\n",
       "      <td>5350</td>\n",
       "    </tr>\n",
       "    <tr>\n",
       "      <th>5</th>\n",
       "      <td>MILLER</td>\n",
       "      <td>1300</td>\n",
       "      <td>6650</td>\n",
       "    </tr>\n",
       "    <tr>\n",
       "      <th>6</th>\n",
       "      <td>TURNER</td>\n",
       "      <td>1500</td>\n",
       "      <td>8150</td>\n",
       "    </tr>\n",
       "    <tr>\n",
       "      <th>7</th>\n",
       "      <td>ALLEN</td>\n",
       "      <td>1600</td>\n",
       "      <td>9750</td>\n",
       "    </tr>\n",
       "    <tr>\n",
       "      <th>8</th>\n",
       "      <td>CLARK</td>\n",
       "      <td>2450</td>\n",
       "      <td>12200</td>\n",
       "    </tr>\n",
       "    <tr>\n",
       "      <th>9</th>\n",
       "      <td>BLAKE</td>\n",
       "      <td>2850</td>\n",
       "      <td>15050</td>\n",
       "    </tr>\n",
       "    <tr>\n",
       "      <th>10</th>\n",
       "      <td>JONES</td>\n",
       "      <td>2975</td>\n",
       "      <td>18025</td>\n",
       "    </tr>\n",
       "    <tr>\n",
       "      <th>11</th>\n",
       "      <td>SCOTT</td>\n",
       "      <td>3000</td>\n",
       "      <td>21025</td>\n",
       "    </tr>\n",
       "    <tr>\n",
       "      <th>12</th>\n",
       "      <td>FORD</td>\n",
       "      <td>3000</td>\n",
       "      <td>24025</td>\n",
       "    </tr>\n",
       "    <tr>\n",
       "      <th>13</th>\n",
       "      <td>KING</td>\n",
       "      <td>5000</td>\n",
       "      <td>29025</td>\n",
       "    </tr>\n",
       "  </tbody>\n",
       "</table>\n",
       "</div>"
      ],
      "text/plain": [
       "     ENAME   SAL  running_total\n",
       "0    SMITH   800            800\n",
       "1    JAMES   950           1750\n",
       "2    ADAMS  1100           2850\n",
       "3     WARD  1250           4100\n",
       "4   MARTIN  1250           5350\n",
       "5   MILLER  1300           6650\n",
       "6   TURNER  1500           8150\n",
       "7    ALLEN  1600           9750\n",
       "8    CLARK  2450          12200\n",
       "9    BLAKE  2850          15050\n",
       "10   JONES  2975          18025\n",
       "11   SCOTT  3000          21025\n",
       "12    FORD  3000          24025\n",
       "13    KING  5000          29025"
      ]
     },
     "execution_count": 77,
     "metadata": {},
     "output_type": "execute_result"
    }
   ],
   "source": [
    "c.execute('''\n",
    "select ename, sal,\n",
    "sum(sal) over (order by sal,empno) as running_total\n",
    "from emp\n",
    "order by 2;\n",
    "''')\n",
    "\n",
    "colnames = c.description\n",
    "colnames_list = []\n",
    "for row in colnames:\n",
    "    colnames_list.append(row[0])\n",
    "\n",
    "df = pd.DataFrame(c.fetchall(), columns=colnames_list)\n",
    "df"
   ]
  },
  {
   "cell_type": "code",
   "execution_count": 78,
   "id": "ff50cd89",
   "metadata": {},
   "outputs": [
    {
     "data": {
      "text/html": [
       "<div>\n",
       "<style scoped>\n",
       "    .dataframe tbody tr th:only-of-type {\n",
       "        vertical-align: middle;\n",
       "    }\n",
       "\n",
       "    .dataframe tbody tr th {\n",
       "        vertical-align: top;\n",
       "    }\n",
       "\n",
       "    .dataframe thead th {\n",
       "        text-align: right;\n",
       "    }\n",
       "</style>\n",
       "<table border=\"1\" class=\"dataframe\">\n",
       "  <thead>\n",
       "    <tr style=\"text-align: right;\">\n",
       "      <th></th>\n",
       "      <th>EMPNO</th>\n",
       "      <th>SAL</th>\n",
       "      <th>running_total1</th>\n",
       "      <th>running_total2</th>\n",
       "    </tr>\n",
       "  </thead>\n",
       "  <tbody>\n",
       "    <tr>\n",
       "      <th>0</th>\n",
       "      <td>7369</td>\n",
       "      <td>800</td>\n",
       "      <td>800</td>\n",
       "      <td>800</td>\n",
       "    </tr>\n",
       "    <tr>\n",
       "      <th>1</th>\n",
       "      <td>7900</td>\n",
       "      <td>950</td>\n",
       "      <td>1750</td>\n",
       "      <td>1750</td>\n",
       "    </tr>\n",
       "    <tr>\n",
       "      <th>2</th>\n",
       "      <td>7876</td>\n",
       "      <td>1100</td>\n",
       "      <td>2850</td>\n",
       "      <td>2850</td>\n",
       "    </tr>\n",
       "    <tr>\n",
       "      <th>3</th>\n",
       "      <td>7521</td>\n",
       "      <td>1250</td>\n",
       "      <td>4100</td>\n",
       "      <td>5350</td>\n",
       "    </tr>\n",
       "    <tr>\n",
       "      <th>4</th>\n",
       "      <td>7654</td>\n",
       "      <td>1250</td>\n",
       "      <td>5350</td>\n",
       "      <td>5350</td>\n",
       "    </tr>\n",
       "    <tr>\n",
       "      <th>5</th>\n",
       "      <td>7934</td>\n",
       "      <td>1300</td>\n",
       "      <td>6650</td>\n",
       "      <td>6650</td>\n",
       "    </tr>\n",
       "    <tr>\n",
       "      <th>6</th>\n",
       "      <td>7844</td>\n",
       "      <td>1500</td>\n",
       "      <td>8150</td>\n",
       "      <td>8150</td>\n",
       "    </tr>\n",
       "    <tr>\n",
       "      <th>7</th>\n",
       "      <td>7499</td>\n",
       "      <td>1600</td>\n",
       "      <td>9750</td>\n",
       "      <td>9750</td>\n",
       "    </tr>\n",
       "    <tr>\n",
       "      <th>8</th>\n",
       "      <td>7782</td>\n",
       "      <td>2450</td>\n",
       "      <td>12200</td>\n",
       "      <td>12200</td>\n",
       "    </tr>\n",
       "    <tr>\n",
       "      <th>9</th>\n",
       "      <td>7698</td>\n",
       "      <td>2850</td>\n",
       "      <td>15050</td>\n",
       "      <td>15050</td>\n",
       "    </tr>\n",
       "    <tr>\n",
       "      <th>10</th>\n",
       "      <td>7566</td>\n",
       "      <td>2975</td>\n",
       "      <td>18025</td>\n",
       "      <td>18025</td>\n",
       "    </tr>\n",
       "    <tr>\n",
       "      <th>11</th>\n",
       "      <td>7788</td>\n",
       "      <td>3000</td>\n",
       "      <td>21025</td>\n",
       "      <td>24025</td>\n",
       "    </tr>\n",
       "    <tr>\n",
       "      <th>12</th>\n",
       "      <td>7902</td>\n",
       "      <td>3000</td>\n",
       "      <td>24025</td>\n",
       "      <td>24025</td>\n",
       "    </tr>\n",
       "    <tr>\n",
       "      <th>13</th>\n",
       "      <td>7839</td>\n",
       "      <td>5000</td>\n",
       "      <td>29025</td>\n",
       "      <td>29025</td>\n",
       "    </tr>\n",
       "  </tbody>\n",
       "</table>\n",
       "</div>"
      ],
      "text/plain": [
       "    EMPNO   SAL  running_total1  running_total2\n",
       "0    7369   800             800             800\n",
       "1    7900   950            1750            1750\n",
       "2    7876  1100            2850            2850\n",
       "3    7521  1250            4100            5350\n",
       "4    7654  1250            5350            5350\n",
       "5    7934  1300            6650            6650\n",
       "6    7844  1500            8150            8150\n",
       "7    7499  1600            9750            9750\n",
       "8    7782  2450           12200           12200\n",
       "9    7698  2850           15050           15050\n",
       "10   7566  2975           18025           18025\n",
       "11   7788  3000           21025           24025\n",
       "12   7902  3000           24025           24025\n",
       "13   7839  5000           29025           29025"
      ]
     },
     "execution_count": 78,
     "metadata": {},
     "output_type": "execute_result"
    }
   ],
   "source": [
    "c.execute('''\n",
    "select empno, sal,\n",
    "sum(sal)over(order by sal,empno) as running_total1,\n",
    "sum(sal)over(order by sal) as running_total2\n",
    "from emp\n",
    "order by 2;\n",
    "''')\n",
    "\n",
    "colnames = c.description\n",
    "colnames_list = []\n",
    "for row in colnames:\n",
    "    colnames_list.append(row[0])\n",
    "\n",
    "df = pd.DataFrame(c.fetchall(), columns=colnames_list)\n",
    "df"
   ]
  },
  {
   "cell_type": "markdown",
   "id": "73e63127",
   "metadata": {},
   "source": [
    "7.7 Generating a Running Product"
   ]
  },
  {
   "cell_type": "code",
   "execution_count": 79,
   "id": "d703bd38",
   "metadata": {},
   "outputs": [],
   "source": [
    "#if you are facing issues in exp and ln function, it is because of the version of MySQL that you are using.\n",
    "import math"
   ]
  },
  {
   "cell_type": "code",
   "execution_count": 80,
   "id": "b658a26a",
   "metadata": {},
   "outputs": [],
   "source": [
    "conn.create_function(\"exp\", 1, math.exp)\n",
    "conn.create_function(\"ln\", 1, math.log)\n",
    "c= conn.cursor()"
   ]
  },
  {
   "cell_type": "code",
   "execution_count": 81,
   "id": "be069006",
   "metadata": {},
   "outputs": [
    {
     "data": {
      "text/html": [
       "<div>\n",
       "<style scoped>\n",
       "    .dataframe tbody tr th:only-of-type {\n",
       "        vertical-align: middle;\n",
       "    }\n",
       "\n",
       "    .dataframe tbody tr th {\n",
       "        vertical-align: top;\n",
       "    }\n",
       "\n",
       "    .dataframe thead th {\n",
       "        text-align: right;\n",
       "    }\n",
       "</style>\n",
       "<table border=\"1\" class=\"dataframe\">\n",
       "  <thead>\n",
       "    <tr style=\"text-align: right;\">\n",
       "      <th></th>\n",
       "      <th>EMPNO</th>\n",
       "      <th>ENAME</th>\n",
       "      <th>SAL</th>\n",
       "      <th>running_prod</th>\n",
       "    </tr>\n",
       "  </thead>\n",
       "  <tbody>\n",
       "    <tr>\n",
       "      <th>0</th>\n",
       "      <td>7934</td>\n",
       "      <td>MILLER</td>\n",
       "      <td>1300</td>\n",
       "      <td>1.300000e+03</td>\n",
       "    </tr>\n",
       "    <tr>\n",
       "      <th>1</th>\n",
       "      <td>7782</td>\n",
       "      <td>CLARK</td>\n",
       "      <td>2450</td>\n",
       "      <td>3.185000e+06</td>\n",
       "    </tr>\n",
       "    <tr>\n",
       "      <th>2</th>\n",
       "      <td>7839</td>\n",
       "      <td>KING</td>\n",
       "      <td>5000</td>\n",
       "      <td>1.592500e+10</td>\n",
       "    </tr>\n",
       "  </tbody>\n",
       "</table>\n",
       "</div>"
      ],
      "text/plain": [
       "   EMPNO   ENAME   SAL  running_prod\n",
       "0   7934  MILLER  1300  1.300000e+03\n",
       "1   7782   CLARK  2450  3.185000e+06\n",
       "2   7839    KING  5000  1.592500e+10"
      ]
     },
     "execution_count": 81,
     "metadata": {},
     "output_type": "execute_result"
    }
   ],
   "source": [
    "c.execute('''\n",
    "select empno,ename,sal,\n",
    "exp(sum(ln(sal))over(order by sal,empno)) as running_prod\n",
    "from emp\n",
    "where deptno = 10;\n",
    "''')\n",
    "\n",
    "colnames = c.description\n",
    "colnames_list = []\n",
    "for row in colnames:\n",
    "    colnames_list.append(row[0])\n",
    "\n",
    "df = pd.DataFrame(c.fetchall(), columns=colnames_list)\n",
    "df"
   ]
  },
  {
   "cell_type": "markdown",
   "id": "83c3ea4e",
   "metadata": {},
   "source": [
    "7.8 Smoothing a Series of Values - it is okay if you skip"
   ]
  },
  {
   "cell_type": "markdown",
   "id": "2163c4f1",
   "metadata": {},
   "source": [
    "7.9 Calculating a Mode"
   ]
  },
  {
   "cell_type": "code",
   "execution_count": 82,
   "id": "f4c1d383",
   "metadata": {},
   "outputs": [
    {
     "data": {
      "text/html": [
       "<div>\n",
       "<style scoped>\n",
       "    .dataframe tbody tr th:only-of-type {\n",
       "        vertical-align: middle;\n",
       "    }\n",
       "\n",
       "    .dataframe tbody tr th {\n",
       "        vertical-align: top;\n",
       "    }\n",
       "\n",
       "    .dataframe thead th {\n",
       "        text-align: right;\n",
       "    }\n",
       "</style>\n",
       "<table border=\"1\" class=\"dataframe\">\n",
       "  <thead>\n",
       "    <tr style=\"text-align: right;\">\n",
       "      <th></th>\n",
       "      <th>SAL</th>\n",
       "    </tr>\n",
       "  </thead>\n",
       "  <tbody>\n",
       "    <tr>\n",
       "      <th>0</th>\n",
       "      <td>800</td>\n",
       "    </tr>\n",
       "    <tr>\n",
       "      <th>1</th>\n",
       "      <td>1100</td>\n",
       "    </tr>\n",
       "    <tr>\n",
       "      <th>2</th>\n",
       "      <td>2975</td>\n",
       "    </tr>\n",
       "    <tr>\n",
       "      <th>3</th>\n",
       "      <td>3000</td>\n",
       "    </tr>\n",
       "    <tr>\n",
       "      <th>4</th>\n",
       "      <td>3000</td>\n",
       "    </tr>\n",
       "  </tbody>\n",
       "</table>\n",
       "</div>"
      ],
      "text/plain": [
       "    SAL\n",
       "0   800\n",
       "1  1100\n",
       "2  2975\n",
       "3  3000\n",
       "4  3000"
      ]
     },
     "execution_count": 82,
     "metadata": {},
     "output_type": "execute_result"
    }
   ],
   "source": [
    "c.execute('''\n",
    "select sal\n",
    "from emp\n",
    "where deptno = 20\n",
    "order by sal;\n",
    "''')\n",
    "\n",
    "colnames = c.description\n",
    "colnames_list = []\n",
    "for row in colnames:\n",
    "    colnames_list.append(row[0])\n",
    "\n",
    "df = pd.DataFrame(c.fetchall(), columns=colnames_list)\n",
    "df"
   ]
  },
  {
   "cell_type": "code",
   "execution_count": 83,
   "id": "64a40eb9",
   "metadata": {},
   "outputs": [
    {
     "data": {
      "text/html": [
       "<div>\n",
       "<style scoped>\n",
       "    .dataframe tbody tr th:only-of-type {\n",
       "        vertical-align: middle;\n",
       "    }\n",
       "\n",
       "    .dataframe tbody tr th {\n",
       "        vertical-align: top;\n",
       "    }\n",
       "\n",
       "    .dataframe thead th {\n",
       "        text-align: right;\n",
       "    }\n",
       "</style>\n",
       "<table border=\"1\" class=\"dataframe\">\n",
       "  <thead>\n",
       "    <tr style=\"text-align: right;\">\n",
       "      <th></th>\n",
       "      <th>sal</th>\n",
       "    </tr>\n",
       "  </thead>\n",
       "  <tbody>\n",
       "    <tr>\n",
       "      <th>0</th>\n",
       "      <td>3000</td>\n",
       "    </tr>\n",
       "  </tbody>\n",
       "</table>\n",
       "</div>"
      ],
      "text/plain": [
       "    sal\n",
       "0  3000"
      ]
     },
     "execution_count": 83,
     "metadata": {},
     "output_type": "execute_result"
    }
   ],
   "source": [
    "# Mode is 3000\n",
    "c.execute('''\n",
    "    select sal\n",
    "    from (\n",
    "    select sal,\n",
    "     dense_rank()over( order by cnt desc) as rnk\n",
    "    from (\n",
    "    select sal, count(*) as cnt\n",
    "    from emp\n",
    "    where deptno = 20\n",
    "    group by sal\n",
    "    ) x\n",
    "    ) y\n",
    "    where rnk = 1;\n",
    "''')\n",
    "\n",
    "colnames = c.description\n",
    "colnames_list = []\n",
    "for row in colnames:\n",
    "    colnames_list.append(row[0])\n",
    "\n",
    "df = pd.DataFrame(c.fetchall(), columns=colnames_list)\n",
    "df"
   ]
  },
  {
   "cell_type": "code",
   "execution_count": 84,
   "id": "f34de312",
   "metadata": {},
   "outputs": [
    {
     "data": {
      "text/html": [
       "<div>\n",
       "<style scoped>\n",
       "    .dataframe tbody tr th:only-of-type {\n",
       "        vertical-align: middle;\n",
       "    }\n",
       "\n",
       "    .dataframe tbody tr th {\n",
       "        vertical-align: top;\n",
       "    }\n",
       "\n",
       "    .dataframe thead th {\n",
       "        text-align: right;\n",
       "    }\n",
       "</style>\n",
       "<table border=\"1\" class=\"dataframe\">\n",
       "  <thead>\n",
       "    <tr style=\"text-align: right;\">\n",
       "      <th></th>\n",
       "      <th>sal</th>\n",
       "      <th>rnk</th>\n",
       "    </tr>\n",
       "  </thead>\n",
       "  <tbody>\n",
       "    <tr>\n",
       "      <th>0</th>\n",
       "      <td>3000</td>\n",
       "      <td>1</td>\n",
       "    </tr>\n",
       "    <tr>\n",
       "      <th>1</th>\n",
       "      <td>800</td>\n",
       "      <td>2</td>\n",
       "    </tr>\n",
       "    <tr>\n",
       "      <th>2</th>\n",
       "      <td>1100</td>\n",
       "      <td>2</td>\n",
       "    </tr>\n",
       "    <tr>\n",
       "      <th>3</th>\n",
       "      <td>2975</td>\n",
       "      <td>2</td>\n",
       "    </tr>\n",
       "  </tbody>\n",
       "</table>\n",
       "</div>"
      ],
      "text/plain": [
       "    sal  rnk\n",
       "0  3000    1\n",
       "1   800    2\n",
       "2  1100    2\n",
       "3  2975    2"
      ]
     },
     "execution_count": 84,
     "metadata": {},
     "output_type": "execute_result"
    }
   ],
   "source": [
    "c.execute('''\n",
    "select sal,\n",
    "dense_rank()over(order by cnt desc) as rnk\n",
    "from (\n",
    "select sal,count(*) as cnt\n",
    "from emp\n",
    "where deptno = 20\n",
    "group by sal\n",
    ") x;\n",
    "''')\n",
    "\n",
    "colnames = c.description\n",
    "colnames_list = []\n",
    "for row in colnames:\n",
    "    colnames_list.append(row[0])\n",
    "\n",
    "df = pd.DataFrame(c.fetchall(), columns=colnames_list)\n",
    "df"
   ]
  },
  {
   "cell_type": "markdown",
   "id": "923d9b02",
   "metadata": {},
   "source": [
    "7.10 Calculating a Median\n"
   ]
  },
  {
   "cell_type": "code",
   "execution_count": 85,
   "id": "25e49643",
   "metadata": {},
   "outputs": [
    {
     "data": {
      "text/html": [
       "<div>\n",
       "<style scoped>\n",
       "    .dataframe tbody tr th:only-of-type {\n",
       "        vertical-align: middle;\n",
       "    }\n",
       "\n",
       "    .dataframe tbody tr th {\n",
       "        vertical-align: top;\n",
       "    }\n",
       "\n",
       "    .dataframe thead th {\n",
       "        text-align: right;\n",
       "    }\n",
       "</style>\n",
       "<table border=\"1\" class=\"dataframe\">\n",
       "  <thead>\n",
       "    <tr style=\"text-align: right;\">\n",
       "      <th></th>\n",
       "      <th>SAL</th>\n",
       "    </tr>\n",
       "  </thead>\n",
       "  <tbody>\n",
       "    <tr>\n",
       "      <th>0</th>\n",
       "      <td>800</td>\n",
       "    </tr>\n",
       "    <tr>\n",
       "      <th>1</th>\n",
       "      <td>1100</td>\n",
       "    </tr>\n",
       "    <tr>\n",
       "      <th>2</th>\n",
       "      <td>2975</td>\n",
       "    </tr>\n",
       "    <tr>\n",
       "      <th>3</th>\n",
       "      <td>3000</td>\n",
       "    </tr>\n",
       "    <tr>\n",
       "      <th>4</th>\n",
       "      <td>3000</td>\n",
       "    </tr>\n",
       "  </tbody>\n",
       "</table>\n",
       "</div>"
      ],
      "text/plain": [
       "    SAL\n",
       "0   800\n",
       "1  1100\n",
       "2  2975\n",
       "3  3000\n",
       "4  3000"
      ]
     },
     "execution_count": 85,
     "metadata": {},
     "output_type": "execute_result"
    }
   ],
   "source": [
    "c.execute('''\n",
    "select sal\n",
    "from emp\n",
    "where deptno = 20\n",
    "order by sal;\n",
    "''')\n",
    "\n",
    "colnames = c.description\n",
    "colnames_list = []\n",
    "for row in colnames:\n",
    "    colnames_list.append(row[0])\n",
    "\n",
    "df = pd.DataFrame(c.fetchall(), columns=colnames_list)\n",
    "df"
   ]
  },
  {
   "cell_type": "code",
   "execution_count": 86,
   "id": "8f1306cf",
   "metadata": {},
   "outputs": [
    {
     "data": {
      "text/html": [
       "<div>\n",
       "<style scoped>\n",
       "    .dataframe tbody tr th:only-of-type {\n",
       "        vertical-align: middle;\n",
       "    }\n",
       "\n",
       "    .dataframe tbody tr th {\n",
       "        vertical-align: top;\n",
       "    }\n",
       "\n",
       "    .dataframe thead th {\n",
       "        text-align: right;\n",
       "    }\n",
       "</style>\n",
       "<table border=\"1\" class=\"dataframe\">\n",
       "  <thead>\n",
       "    <tr style=\"text-align: right;\">\n",
       "      <th></th>\n",
       "      <th>MedianSal</th>\n",
       "    </tr>\n",
       "  </thead>\n",
       "  <tbody>\n",
       "    <tr>\n",
       "      <th>0</th>\n",
       "      <td>1968.75</td>\n",
       "    </tr>\n",
       "  </tbody>\n",
       "</table>\n",
       "</div>"
      ],
      "text/plain": [
       "   MedianSal\n",
       "0    1968.75"
      ]
     },
     "execution_count": 86,
     "metadata": {},
     "output_type": "execute_result"
    }
   ],
   "source": [
    "c.execute('''\n",
    "with rank_tab (sal, rank_sal) as\n",
    "(\n",
    "select sal, cume_dist() over (order by sal)\n",
    "from emp\n",
    "where deptno=20\n",
    "),\n",
    "inter as\n",
    "(\n",
    "select sal, rank_sal from rank_tab\n",
    "where rank_sal>=0.5\n",
    "union\n",
    "select sal, rank_sal from rank_tab\n",
    "where rank_sal<=0.5\n",
    ")\n",
    "select avg(sal) as MedianSal\n",
    "from inter;\n",
    "''')\n",
    "\n",
    "colnames = c.description\n",
    "colnames_list = []\n",
    "for row in colnames:\n",
    "    colnames_list.append(row[0])\n",
    "\n",
    "df = pd.DataFrame(c.fetchall(), columns=colnames_list)\n",
    "df"
   ]
  },
  {
   "cell_type": "markdown",
   "id": "ed43936b",
   "metadata": {},
   "source": [
    "7.11 Determining the Percentage of a Total"
   ]
  },
  {
   "cell_type": "code",
   "execution_count": 87,
   "id": "c157aa45",
   "metadata": {},
   "outputs": [
    {
     "data": {
      "text/html": [
       "<div>\n",
       "<style scoped>\n",
       "    .dataframe tbody tr th:only-of-type {\n",
       "        vertical-align: middle;\n",
       "    }\n",
       "\n",
       "    .dataframe tbody tr th {\n",
       "        vertical-align: top;\n",
       "    }\n",
       "\n",
       "    .dataframe thead th {\n",
       "        text-align: right;\n",
       "    }\n",
       "</style>\n",
       "<table border=\"1\" class=\"dataframe\">\n",
       "  <thead>\n",
       "    <tr style=\"text-align: right;\">\n",
       "      <th></th>\n",
       "      <th>EMPNO</th>\n",
       "      <th>ENAME</th>\n",
       "      <th>JOB</th>\n",
       "      <th>MGR</th>\n",
       "      <th>HIREDATE</th>\n",
       "      <th>SAL</th>\n",
       "      <th>COMM</th>\n",
       "      <th>DEPTNO</th>\n",
       "    </tr>\n",
       "  </thead>\n",
       "  <tbody>\n",
       "    <tr>\n",
       "      <th>0</th>\n",
       "      <td>7782</td>\n",
       "      <td>CLARK</td>\n",
       "      <td>MANAGER</td>\n",
       "      <td>7839.0</td>\n",
       "      <td>9-Jun-06</td>\n",
       "      <td>2450</td>\n",
       "      <td>None</td>\n",
       "      <td>10</td>\n",
       "    </tr>\n",
       "    <tr>\n",
       "      <th>1</th>\n",
       "      <td>7839</td>\n",
       "      <td>KING</td>\n",
       "      <td>PRESIDENT</td>\n",
       "      <td>NaN</td>\n",
       "      <td>17-Nov-06</td>\n",
       "      <td>5000</td>\n",
       "      <td>None</td>\n",
       "      <td>10</td>\n",
       "    </tr>\n",
       "    <tr>\n",
       "      <th>2</th>\n",
       "      <td>7934</td>\n",
       "      <td>MILLER</td>\n",
       "      <td>CLERK</td>\n",
       "      <td>7782.0</td>\n",
       "      <td>23-Jan-07</td>\n",
       "      <td>1300</td>\n",
       "      <td>None</td>\n",
       "      <td>10</td>\n",
       "    </tr>\n",
       "  </tbody>\n",
       "</table>\n",
       "</div>"
      ],
      "text/plain": [
       "   EMPNO   ENAME        JOB     MGR   HIREDATE   SAL  COMM  DEPTNO\n",
       "0   7782   CLARK    MANAGER  7839.0   9-Jun-06  2450  None      10\n",
       "1   7839    KING  PRESIDENT     NaN  17-Nov-06  5000  None      10\n",
       "2   7934  MILLER      CLERK  7782.0  23-Jan-07  1300  None      10"
      ]
     },
     "execution_count": 87,
     "metadata": {},
     "output_type": "execute_result"
    }
   ],
   "source": [
    "c.execute('''\n",
    "select *\n",
    "from emp where deptno=10;\n",
    "''')\n",
    "\n",
    "colnames = c.description\n",
    "colnames_list = []\n",
    "for row in colnames:\n",
    "    colnames_list.append(row[0])\n",
    "\n",
    "df = pd.DataFrame(c.fetchall(), columns=colnames_list)\n",
    "df"
   ]
  },
  {
   "cell_type": "code",
   "execution_count": 88,
   "id": "fd204cb2",
   "metadata": {},
   "outputs": [
    {
     "data": {
      "text/html": [
       "<div>\n",
       "<style scoped>\n",
       "    .dataframe tbody tr th:only-of-type {\n",
       "        vertical-align: middle;\n",
       "    }\n",
       "\n",
       "    .dataframe tbody tr th {\n",
       "        vertical-align: top;\n",
       "    }\n",
       "\n",
       "    .dataframe thead th {\n",
       "        text-align: right;\n",
       "    }\n",
       "</style>\n",
       "<table border=\"1\" class=\"dataframe\">\n",
       "  <thead>\n",
       "    <tr style=\"text-align: right;\">\n",
       "      <th></th>\n",
       "      <th>pct</th>\n",
       "    </tr>\n",
       "  </thead>\n",
       "  <tbody>\n",
       "    <tr>\n",
       "      <th>0</th>\n",
       "      <td>30.146425</td>\n",
       "    </tr>\n",
       "  </tbody>\n",
       "</table>\n",
       "</div>"
      ],
      "text/plain": [
       "         pct\n",
       "0  30.146425"
      ]
     },
     "execution_count": 88,
     "metadata": {},
     "output_type": "execute_result"
    }
   ],
   "source": [
    "c.execute('''\n",
    "select (CAST(sum(case when deptno = 10 then sal end) AS FLOAT)/CAST(sum(sal) AS FLOAT)\n",
    ")*100 as pct\n",
    "from emp;\n",
    "''')\n",
    "\n",
    "colnames = c.description\n",
    "colnames_list = []\n",
    "for row in colnames:\n",
    "    colnames_list.append(row[0])\n",
    "\n",
    "df = pd.DataFrame(c.fetchall(), columns=colnames_list)\n",
    "df"
   ]
  },
  {
   "cell_type": "code",
   "execution_count": 89,
   "id": "76a87fad",
   "metadata": {},
   "outputs": [
    {
     "data": {
      "text/html": [
       "<div>\n",
       "<style scoped>\n",
       "    .dataframe tbody tr th:only-of-type {\n",
       "        vertical-align: middle;\n",
       "    }\n",
       "\n",
       "    .dataframe tbody tr th {\n",
       "        vertical-align: top;\n",
       "    }\n",
       "\n",
       "    .dataframe thead th {\n",
       "        text-align: right;\n",
       "    }\n",
       "</style>\n",
       "<table border=\"1\" class=\"dataframe\">\n",
       "  <thead>\n",
       "    <tr style=\"text-align: right;\">\n",
       "      <th></th>\n",
       "      <th>d10</th>\n",
       "      <th>sum(sal)</th>\n",
       "    </tr>\n",
       "  </thead>\n",
       "  <tbody>\n",
       "    <tr>\n",
       "      <th>0</th>\n",
       "      <td>8750</td>\n",
       "      <td>29025</td>\n",
       "    </tr>\n",
       "  </tbody>\n",
       "</table>\n",
       "</div>"
      ],
      "text/plain": [
       "    d10  sum(sal)\n",
       "0  8750     29025"
      ]
     },
     "execution_count": 89,
     "metadata": {},
     "output_type": "execute_result"
    }
   ],
   "source": [
    "c.execute('''\n",
    "select sum(case when deptno = 10 then sal end) as d10,\n",
    "sum(sal)\n",
    "from emp;\n",
    "''')\n",
    "\n",
    "colnames = c.description\n",
    "colnames_list = []\n",
    "for row in colnames:\n",
    "    colnames_list.append(row[0])\n",
    "\n",
    "df = pd.DataFrame(c.fetchall(), columns=colnames_list)\n",
    "df"
   ]
  },
  {
   "cell_type": "code",
   "execution_count": 90,
   "id": "223caeff",
   "metadata": {},
   "outputs": [
    {
     "data": {
      "text/html": [
       "<div>\n",
       "<style scoped>\n",
       "    .dataframe tbody tr th:only-of-type {\n",
       "        vertical-align: middle;\n",
       "    }\n",
       "\n",
       "    .dataframe tbody tr th {\n",
       "        vertical-align: top;\n",
       "    }\n",
       "\n",
       "    .dataframe thead th {\n",
       "        text-align: right;\n",
       "    }\n",
       "</style>\n",
       "<table border=\"1\" class=\"dataframe\">\n",
       "  <thead>\n",
       "    <tr style=\"text-align: right;\">\n",
       "      <th></th>\n",
       "      <th>pct</th>\n",
       "    </tr>\n",
       "  </thead>\n",
       "  <tbody>\n",
       "    <tr>\n",
       "      <th>0</th>\n",
       "      <td>30.146425</td>\n",
       "    </tr>\n",
       "  </tbody>\n",
       "</table>\n",
       "</div>"
      ],
      "text/plain": [
       "         pct\n",
       "0  30.146425"
      ]
     },
     "execution_count": 90,
     "metadata": {},
     "output_type": "execute_result"
    }
   ],
   "source": [
    "c.execute('''\n",
    "select (cast(\n",
    "sum(case when deptno = 10 then sal end)\n",
    "as FLOAT))/CAST(sum(sal) AS FLOAT\n",
    ")*100 as pct\n",
    "from emp;\n",
    "''')\n",
    "\n",
    "colnames = c.description\n",
    "colnames_list = []\n",
    "for row in colnames:\n",
    "    colnames_list.append(row[0])\n",
    "\n",
    "df = pd.DataFrame(c.fetchall(), columns=colnames_list)\n",
    "df"
   ]
  },
  {
   "cell_type": "code",
   "execution_count": 91,
   "id": "f7a5488c",
   "metadata": {},
   "outputs": [
    {
     "data": {
      "text/html": [
       "<div>\n",
       "<style scoped>\n",
       "    .dataframe tbody tr th:only-of-type {\n",
       "        vertical-align: middle;\n",
       "    }\n",
       "\n",
       "    .dataframe tbody tr th {\n",
       "        vertical-align: top;\n",
       "    }\n",
       "\n",
       "    .dataframe thead th {\n",
       "        text-align: right;\n",
       "    }\n",
       "</style>\n",
       "<table border=\"1\" class=\"dataframe\">\n",
       "  <thead>\n",
       "    <tr style=\"text-align: right;\">\n",
       "      <th></th>\n",
       "      <th>DEPTNO</th>\n",
       "      <th>total</th>\n",
       "      <th>d10</th>\n",
       "    </tr>\n",
       "  </thead>\n",
       "  <tbody>\n",
       "    <tr>\n",
       "      <th>0</th>\n",
       "      <td>10</td>\n",
       "      <td>29025</td>\n",
       "      <td>8750</td>\n",
       "    </tr>\n",
       "    <tr>\n",
       "      <th>1</th>\n",
       "      <td>10</td>\n",
       "      <td>29025</td>\n",
       "      <td>8750</td>\n",
       "    </tr>\n",
       "    <tr>\n",
       "      <th>2</th>\n",
       "      <td>10</td>\n",
       "      <td>29025</td>\n",
       "      <td>8750</td>\n",
       "    </tr>\n",
       "    <tr>\n",
       "      <th>3</th>\n",
       "      <td>20</td>\n",
       "      <td>29025</td>\n",
       "      <td>10875</td>\n",
       "    </tr>\n",
       "    <tr>\n",
       "      <th>4</th>\n",
       "      <td>20</td>\n",
       "      <td>29025</td>\n",
       "      <td>10875</td>\n",
       "    </tr>\n",
       "    <tr>\n",
       "      <th>5</th>\n",
       "      <td>20</td>\n",
       "      <td>29025</td>\n",
       "      <td>10875</td>\n",
       "    </tr>\n",
       "    <tr>\n",
       "      <th>6</th>\n",
       "      <td>20</td>\n",
       "      <td>29025</td>\n",
       "      <td>10875</td>\n",
       "    </tr>\n",
       "    <tr>\n",
       "      <th>7</th>\n",
       "      <td>20</td>\n",
       "      <td>29025</td>\n",
       "      <td>10875</td>\n",
       "    </tr>\n",
       "    <tr>\n",
       "      <th>8</th>\n",
       "      <td>30</td>\n",
       "      <td>29025</td>\n",
       "      <td>9400</td>\n",
       "    </tr>\n",
       "    <tr>\n",
       "      <th>9</th>\n",
       "      <td>30</td>\n",
       "      <td>29025</td>\n",
       "      <td>9400</td>\n",
       "    </tr>\n",
       "    <tr>\n",
       "      <th>10</th>\n",
       "      <td>30</td>\n",
       "      <td>29025</td>\n",
       "      <td>9400</td>\n",
       "    </tr>\n",
       "    <tr>\n",
       "      <th>11</th>\n",
       "      <td>30</td>\n",
       "      <td>29025</td>\n",
       "      <td>9400</td>\n",
       "    </tr>\n",
       "    <tr>\n",
       "      <th>12</th>\n",
       "      <td>30</td>\n",
       "      <td>29025</td>\n",
       "      <td>9400</td>\n",
       "    </tr>\n",
       "    <tr>\n",
       "      <th>13</th>\n",
       "      <td>30</td>\n",
       "      <td>29025</td>\n",
       "      <td>9400</td>\n",
       "    </tr>\n",
       "  </tbody>\n",
       "</table>\n",
       "</div>"
      ],
      "text/plain": [
       "    DEPTNO  total    d10\n",
       "0       10  29025   8750\n",
       "1       10  29025   8750\n",
       "2       10  29025   8750\n",
       "3       20  29025  10875\n",
       "4       20  29025  10875\n",
       "5       20  29025  10875\n",
       "6       20  29025  10875\n",
       "7       20  29025  10875\n",
       "8       30  29025   9400\n",
       "9       30  29025   9400\n",
       "10      30  29025   9400\n",
       "11      30  29025   9400\n",
       "12      30  29025   9400\n",
       "13      30  29025   9400"
      ]
     },
     "execution_count": 91,
     "metadata": {},
     "output_type": "execute_result"
    }
   ],
   "source": [
    "c.execute('''\n",
    "select deptno,\n",
    "sum(sal)over() total,\n",
    "sum(sal)over(partition by deptno) d10\n",
    "from emp;\n",
    "''')\n",
    "\n",
    "colnames = c.description\n",
    "colnames_list = []\n",
    "for row in colnames:\n",
    "    colnames_list.append(row[0])\n",
    "\n",
    "df = pd.DataFrame(c.fetchall(), columns=colnames_list)\n",
    "df"
   ]
  },
  {
   "cell_type": "code",
   "execution_count": 92,
   "id": "58fea09a",
   "metadata": {},
   "outputs": [
    {
     "data": {
      "text/html": [
       "<div>\n",
       "<style scoped>\n",
       "    .dataframe tbody tr th:only-of-type {\n",
       "        vertical-align: middle;\n",
       "    }\n",
       "\n",
       "    .dataframe tbody tr th {\n",
       "        vertical-align: top;\n",
       "    }\n",
       "\n",
       "    .dataframe thead th {\n",
       "        text-align: right;\n",
       "    }\n",
       "</style>\n",
       "<table border=\"1\" class=\"dataframe\">\n",
       "  <thead>\n",
       "    <tr style=\"text-align: right;\">\n",
       "      <th></th>\n",
       "      <th>DEPTNO</th>\n",
       "      <th>total</th>\n",
       "      <th>d10</th>\n",
       "    </tr>\n",
       "  </thead>\n",
       "  <tbody>\n",
       "    <tr>\n",
       "      <th>0</th>\n",
       "      <td>10</td>\n",
       "      <td>8750</td>\n",
       "      <td>8750</td>\n",
       "    </tr>\n",
       "    <tr>\n",
       "      <th>1</th>\n",
       "      <td>10</td>\n",
       "      <td>8750</td>\n",
       "      <td>8750</td>\n",
       "    </tr>\n",
       "    <tr>\n",
       "      <th>2</th>\n",
       "      <td>10</td>\n",
       "      <td>8750</td>\n",
       "      <td>8750</td>\n",
       "    </tr>\n",
       "  </tbody>\n",
       "</table>\n",
       "</div>"
      ],
      "text/plain": [
       "   DEPTNO  total   d10\n",
       "0      10   8750  8750\n",
       "1      10   8750  8750\n",
       "2      10   8750  8750"
      ]
     },
     "execution_count": 92,
     "metadata": {},
     "output_type": "execute_result"
    }
   ],
   "source": [
    "c.execute('''\n",
    "select deptno,\n",
    "sum(sal)over() total,\n",
    "sum(sal)over(partition by deptno) d10\n",
    "from emp\n",
    "where deptno=10;\n",
    "''')\n",
    "\n",
    "colnames = c.description\n",
    "colnames_list = []\n",
    "for row in colnames:\n",
    "    colnames_list.append(row[0])\n",
    "\n",
    "df = pd.DataFrame(c.fetchall(), columns=colnames_list)\n",
    "df"
   ]
  },
  {
   "cell_type": "markdown",
   "id": "06854eb0",
   "metadata": {},
   "source": [
    "7.12 Aggregating Nullable Columns"
   ]
  },
  {
   "cell_type": "code",
   "execution_count": 93,
   "id": "c49e7e8c",
   "metadata": {},
   "outputs": [
    {
     "data": {
      "text/html": [
       "<div>\n",
       "<style scoped>\n",
       "    .dataframe tbody tr th:only-of-type {\n",
       "        vertical-align: middle;\n",
       "    }\n",
       "\n",
       "    .dataframe tbody tr th {\n",
       "        vertical-align: top;\n",
       "    }\n",
       "\n",
       "    .dataframe thead th {\n",
       "        text-align: right;\n",
       "    }\n",
       "</style>\n",
       "<table border=\"1\" class=\"dataframe\">\n",
       "  <thead>\n",
       "    <tr style=\"text-align: right;\">\n",
       "      <th></th>\n",
       "      <th>avg_comm</th>\n",
       "    </tr>\n",
       "  </thead>\n",
       "  <tbody>\n",
       "    <tr>\n",
       "      <th>0</th>\n",
       "      <td>366.666667</td>\n",
       "    </tr>\n",
       "  </tbody>\n",
       "</table>\n",
       "</div>"
      ],
      "text/plain": [
       "     avg_comm\n",
       "0  366.666667"
      ]
     },
     "execution_count": 93,
     "metadata": {},
     "output_type": "execute_result"
    }
   ],
   "source": [
    "c.execute('''\n",
    "select avg(coalesce(comm,0)) as avg_comm\n",
    "from emp\n",
    "where deptno=30;\n",
    "''')\n",
    "\n",
    "colnames = c.description\n",
    "colnames_list = []\n",
    "for row in colnames:\n",
    "    colnames_list.append(row[0])\n",
    "\n",
    "df = pd.DataFrame(c.fetchall(), columns=colnames_list)\n",
    "df"
   ]
  },
  {
   "cell_type": "code",
   "execution_count": 94,
   "id": "94f66ff8",
   "metadata": {},
   "outputs": [
    {
     "data": {
      "text/html": [
       "<div>\n",
       "<style scoped>\n",
       "    .dataframe tbody tr th:only-of-type {\n",
       "        vertical-align: middle;\n",
       "    }\n",
       "\n",
       "    .dataframe tbody tr th {\n",
       "        vertical-align: top;\n",
       "    }\n",
       "\n",
       "    .dataframe thead th {\n",
       "        text-align: right;\n",
       "    }\n",
       "</style>\n",
       "<table border=\"1\" class=\"dataframe\">\n",
       "  <thead>\n",
       "    <tr style=\"text-align: right;\">\n",
       "      <th></th>\n",
       "      <th>avg(comm)</th>\n",
       "    </tr>\n",
       "  </thead>\n",
       "  <tbody>\n",
       "    <tr>\n",
       "      <th>0</th>\n",
       "      <td>550.0</td>\n",
       "    </tr>\n",
       "  </tbody>\n",
       "</table>\n",
       "</div>"
      ],
      "text/plain": [
       "   avg(comm)\n",
       "0      550.0"
      ]
     },
     "execution_count": 94,
     "metadata": {},
     "output_type": "execute_result"
    }
   ],
   "source": [
    "c.execute('''\n",
    "select avg(comm)\n",
    "from emp\n",
    "where deptno=30;\n",
    "''')\n",
    "\n",
    "colnames = c.description\n",
    "colnames_list = []\n",
    "for row in colnames:\n",
    "    colnames_list.append(row[0])\n",
    "\n",
    "df = pd.DataFrame(c.fetchall(), columns=colnames_list)\n",
    "df"
   ]
  },
  {
   "cell_type": "code",
   "execution_count": 95,
   "id": "7b5f6718",
   "metadata": {},
   "outputs": [
    {
     "data": {
      "text/html": [
       "<div>\n",
       "<style scoped>\n",
       "    .dataframe tbody tr th:only-of-type {\n",
       "        vertical-align: middle;\n",
       "    }\n",
       "\n",
       "    .dataframe tbody tr th {\n",
       "        vertical-align: top;\n",
       "    }\n",
       "\n",
       "    .dataframe thead th {\n",
       "        text-align: right;\n",
       "    }\n",
       "</style>\n",
       "<table border=\"1\" class=\"dataframe\">\n",
       "  <thead>\n",
       "    <tr style=\"text-align: right;\">\n",
       "      <th></th>\n",
       "      <th>ENAME</th>\n",
       "      <th>COMM</th>\n",
       "    </tr>\n",
       "  </thead>\n",
       "  <tbody>\n",
       "    <tr>\n",
       "      <th>0</th>\n",
       "      <td>MARTIN</td>\n",
       "      <td>1400.0</td>\n",
       "    </tr>\n",
       "    <tr>\n",
       "      <th>1</th>\n",
       "      <td>WARD</td>\n",
       "      <td>500.0</td>\n",
       "    </tr>\n",
       "    <tr>\n",
       "      <th>2</th>\n",
       "      <td>ALLEN</td>\n",
       "      <td>300.0</td>\n",
       "    </tr>\n",
       "    <tr>\n",
       "      <th>3</th>\n",
       "      <td>TURNER</td>\n",
       "      <td>0.0</td>\n",
       "    </tr>\n",
       "    <tr>\n",
       "      <th>4</th>\n",
       "      <td>BLAKE</td>\n",
       "      <td>NaN</td>\n",
       "    </tr>\n",
       "    <tr>\n",
       "      <th>5</th>\n",
       "      <td>JAMES</td>\n",
       "      <td>NaN</td>\n",
       "    </tr>\n",
       "  </tbody>\n",
       "</table>\n",
       "</div>"
      ],
      "text/plain": [
       "    ENAME    COMM\n",
       "0  MARTIN  1400.0\n",
       "1    WARD   500.0\n",
       "2   ALLEN   300.0\n",
       "3  TURNER     0.0\n",
       "4   BLAKE     NaN\n",
       "5   JAMES     NaN"
      ]
     },
     "execution_count": 95,
     "metadata": {},
     "output_type": "execute_result"
    }
   ],
   "source": [
    "c.execute('''\n",
    "select ename, comm\n",
    "from emp\n",
    "where deptno=30\n",
    "order by comm desc;\n",
    "''')\n",
    "\n",
    "colnames = c.description\n",
    "colnames_list = []\n",
    "for row in colnames:\n",
    "    colnames_list.append(row[0])\n",
    "\n",
    "df = pd.DataFrame(c.fetchall(), columns=colnames_list)\n",
    "df"
   ]
  },
  {
   "cell_type": "markdown",
   "id": "a2e78a62",
   "metadata": {},
   "source": [
    "7.13 Computing Averages Without High and Low Values"
   ]
  },
  {
   "cell_type": "code",
   "execution_count": 96,
   "id": "c41373c9",
   "metadata": {},
   "outputs": [
    {
     "data": {
      "text/html": [
       "<div>\n",
       "<style scoped>\n",
       "    .dataframe tbody tr th:only-of-type {\n",
       "        vertical-align: middle;\n",
       "    }\n",
       "\n",
       "    .dataframe tbody tr th {\n",
       "        vertical-align: top;\n",
       "    }\n",
       "\n",
       "    .dataframe thead th {\n",
       "        text-align: right;\n",
       "    }\n",
       "</style>\n",
       "<table border=\"1\" class=\"dataframe\">\n",
       "  <thead>\n",
       "    <tr style=\"text-align: right;\">\n",
       "      <th></th>\n",
       "      <th>avg(sal)</th>\n",
       "    </tr>\n",
       "  </thead>\n",
       "  <tbody>\n",
       "    <tr>\n",
       "      <th>0</th>\n",
       "      <td>1935.416667</td>\n",
       "    </tr>\n",
       "  </tbody>\n",
       "</table>\n",
       "</div>"
      ],
      "text/plain": [
       "      avg(sal)\n",
       "0  1935.416667"
      ]
     },
     "execution_count": 96,
     "metadata": {},
     "output_type": "execute_result"
    }
   ],
   "source": [
    "c.execute('''\n",
    "select avg(sal)\n",
    "from emp\n",
    "where sal not in (\n",
    "(select min(sal) from emp),\n",
    "(select max(sal) from emp)\n",
    ");\n",
    "''')\n",
    "\n",
    "colnames = c.description\n",
    "colnames_list = []\n",
    "for row in colnames:\n",
    "    colnames_list.append(row[0])\n",
    "\n",
    "df = pd.DataFrame(c.fetchall(), columns=colnames_list)\n",
    "df"
   ]
  },
  {
   "cell_type": "code",
   "execution_count": 97,
   "id": "2840bad8",
   "metadata": {},
   "outputs": [
    {
     "data": {
      "text/html": [
       "<div>\n",
       "<style scoped>\n",
       "    .dataframe tbody tr th:only-of-type {\n",
       "        vertical-align: middle;\n",
       "    }\n",
       "\n",
       "    .dataframe tbody tr th {\n",
       "        vertical-align: top;\n",
       "    }\n",
       "\n",
       "    .dataframe thead th {\n",
       "        text-align: right;\n",
       "    }\n",
       "</style>\n",
       "<table border=\"1\" class=\"dataframe\">\n",
       "  <thead>\n",
       "    <tr style=\"text-align: right;\">\n",
       "      <th></th>\n",
       "      <th>cnt</th>\n",
       "    </tr>\n",
       "  </thead>\n",
       "  <tbody>\n",
       "    <tr>\n",
       "      <th>0</th>\n",
       "      <td>1935</td>\n",
       "    </tr>\n",
       "  </tbody>\n",
       "</table>\n",
       "</div>"
      ],
      "text/plain": [
       "    cnt\n",
       "0  1935"
      ]
     },
     "execution_count": 97,
     "metadata": {},
     "output_type": "execute_result"
    }
   ],
   "source": [
    "c.execute('''\n",
    "select (sum(sal)-min(sal)-max(sal))/(count(*)-2) AS cnt\n",
    "from emp;\n",
    "''')\n",
    "\n",
    "colnames = c.description\n",
    "colnames_list = []\n",
    "for row in colnames:\n",
    "    colnames_list.append(row[0])\n",
    "\n",
    "df = pd.DataFrame(c.fetchall(), columns=colnames_list)\n",
    "df"
   ]
  },
  {
   "cell_type": "code",
   "execution_count": 98,
   "id": "264ea2bc",
   "metadata": {},
   "outputs": [
    {
     "data": {
      "text/html": [
       "<div>\n",
       "<style scoped>\n",
       "    .dataframe tbody tr th:only-of-type {\n",
       "        vertical-align: middle;\n",
       "    }\n",
       "\n",
       "    .dataframe tbody tr th {\n",
       "        vertical-align: top;\n",
       "    }\n",
       "\n",
       "    .dataframe thead th {\n",
       "        text-align: right;\n",
       "    }\n",
       "</style>\n",
       "<table border=\"1\" class=\"dataframe\">\n",
       "  <thead>\n",
       "    <tr style=\"text-align: right;\">\n",
       "      <th></th>\n",
       "      <th>SAL</th>\n",
       "      <th>min_sal</th>\n",
       "      <th>max_sal</th>\n",
       "    </tr>\n",
       "  </thead>\n",
       "  <tbody>\n",
       "    <tr>\n",
       "      <th>0</th>\n",
       "      <td>800</td>\n",
       "      <td>800</td>\n",
       "      <td>5000</td>\n",
       "    </tr>\n",
       "    <tr>\n",
       "      <th>1</th>\n",
       "      <td>1600</td>\n",
       "      <td>800</td>\n",
       "      <td>5000</td>\n",
       "    </tr>\n",
       "    <tr>\n",
       "      <th>2</th>\n",
       "      <td>1250</td>\n",
       "      <td>800</td>\n",
       "      <td>5000</td>\n",
       "    </tr>\n",
       "    <tr>\n",
       "      <th>3</th>\n",
       "      <td>2975</td>\n",
       "      <td>800</td>\n",
       "      <td>5000</td>\n",
       "    </tr>\n",
       "    <tr>\n",
       "      <th>4</th>\n",
       "      <td>1250</td>\n",
       "      <td>800</td>\n",
       "      <td>5000</td>\n",
       "    </tr>\n",
       "    <tr>\n",
       "      <th>5</th>\n",
       "      <td>2850</td>\n",
       "      <td>800</td>\n",
       "      <td>5000</td>\n",
       "    </tr>\n",
       "    <tr>\n",
       "      <th>6</th>\n",
       "      <td>2450</td>\n",
       "      <td>800</td>\n",
       "      <td>5000</td>\n",
       "    </tr>\n",
       "    <tr>\n",
       "      <th>7</th>\n",
       "      <td>3000</td>\n",
       "      <td>800</td>\n",
       "      <td>5000</td>\n",
       "    </tr>\n",
       "    <tr>\n",
       "      <th>8</th>\n",
       "      <td>5000</td>\n",
       "      <td>800</td>\n",
       "      <td>5000</td>\n",
       "    </tr>\n",
       "    <tr>\n",
       "      <th>9</th>\n",
       "      <td>1500</td>\n",
       "      <td>800</td>\n",
       "      <td>5000</td>\n",
       "    </tr>\n",
       "    <tr>\n",
       "      <th>10</th>\n",
       "      <td>1100</td>\n",
       "      <td>800</td>\n",
       "      <td>5000</td>\n",
       "    </tr>\n",
       "    <tr>\n",
       "      <th>11</th>\n",
       "      <td>950</td>\n",
       "      <td>800</td>\n",
       "      <td>5000</td>\n",
       "    </tr>\n",
       "    <tr>\n",
       "      <th>12</th>\n",
       "      <td>3000</td>\n",
       "      <td>800</td>\n",
       "      <td>5000</td>\n",
       "    </tr>\n",
       "    <tr>\n",
       "      <th>13</th>\n",
       "      <td>1300</td>\n",
       "      <td>800</td>\n",
       "      <td>5000</td>\n",
       "    </tr>\n",
       "  </tbody>\n",
       "</table>\n",
       "</div>"
      ],
      "text/plain": [
       "     SAL  min_sal  max_sal\n",
       "0    800      800     5000\n",
       "1   1600      800     5000\n",
       "2   1250      800     5000\n",
       "3   2975      800     5000\n",
       "4   1250      800     5000\n",
       "5   2850      800     5000\n",
       "6   2450      800     5000\n",
       "7   3000      800     5000\n",
       "8   5000      800     5000\n",
       "9   1500      800     5000\n",
       "10  1100      800     5000\n",
       "11   950      800     5000\n",
       "12  3000      800     5000\n",
       "13  1300      800     5000"
      ]
     },
     "execution_count": 98,
     "metadata": {},
     "output_type": "execute_result"
    }
   ],
   "source": [
    "c.execute('''\n",
    "select sal, min(sal)over() min_sal, max(sal)over() max_sal\n",
    "from emp;\n",
    "''')\n",
    "\n",
    "colnames = c.description\n",
    "colnames_list = []\n",
    "for row in colnames:\n",
    "    colnames_list.append(row[0])\n",
    "\n",
    "df = pd.DataFrame(c.fetchall(), columns=colnames_list)\n",
    "df"
   ]
  },
  {
   "cell_type": "markdown",
   "id": "a6edc70f",
   "metadata": {},
   "source": [
    "Skip 7.14, 7.15 as it uses traslate function"
   ]
  },
  {
   "cell_type": "markdown",
   "id": "43dcd0f5",
   "metadata": {},
   "source": [
    "7.16 Finding Outliers Using the Median Absolute\n",
    "Deviation"
   ]
  },
  {
   "cell_type": "code",
   "execution_count": 99,
   "id": "8d120489",
   "metadata": {},
   "outputs": [
    {
     "data": {
      "text/html": [
       "<div>\n",
       "<style scoped>\n",
       "    .dataframe tbody tr th:only-of-type {\n",
       "        vertical-align: middle;\n",
       "    }\n",
       "\n",
       "    .dataframe tbody tr th {\n",
       "        vertical-align: top;\n",
       "    }\n",
       "\n",
       "    .dataframe thead th {\n",
       "        text-align: right;\n",
       "    }\n",
       "</style>\n",
       "<table border=\"1\" class=\"dataframe\">\n",
       "  <thead>\n",
       "    <tr style=\"text-align: right;\">\n",
       "      <th></th>\n",
       "      <th>SAL</th>\n",
       "      <th>MedianAbsoluteDeviance</th>\n",
       "      <th>ratio</th>\n",
       "    </tr>\n",
       "  </thead>\n",
       "  <tbody>\n",
       "    <tr>\n",
       "      <th>0</th>\n",
       "      <td>800</td>\n",
       "      <td>600</td>\n",
       "      <td>-2</td>\n",
       "    </tr>\n",
       "    <tr>\n",
       "      <th>1</th>\n",
       "      <td>1600</td>\n",
       "      <td>600</td>\n",
       "      <td>0</td>\n",
       "    </tr>\n",
       "    <tr>\n",
       "      <th>2</th>\n",
       "      <td>1250</td>\n",
       "      <td>600</td>\n",
       "      <td>0</td>\n",
       "    </tr>\n",
       "    <tr>\n",
       "      <th>3</th>\n",
       "      <td>1250</td>\n",
       "      <td>600</td>\n",
       "      <td>0</td>\n",
       "    </tr>\n",
       "    <tr>\n",
       "      <th>4</th>\n",
       "      <td>2975</td>\n",
       "      <td>600</td>\n",
       "      <td>4</td>\n",
       "    </tr>\n",
       "    <tr>\n",
       "      <th>5</th>\n",
       "      <td>1250</td>\n",
       "      <td>600</td>\n",
       "      <td>0</td>\n",
       "    </tr>\n",
       "    <tr>\n",
       "      <th>6</th>\n",
       "      <td>1250</td>\n",
       "      <td>600</td>\n",
       "      <td>0</td>\n",
       "    </tr>\n",
       "    <tr>\n",
       "      <th>7</th>\n",
       "      <td>2850</td>\n",
       "      <td>600</td>\n",
       "      <td>4</td>\n",
       "    </tr>\n",
       "    <tr>\n",
       "      <th>8</th>\n",
       "      <td>2450</td>\n",
       "      <td>600</td>\n",
       "      <td>3</td>\n",
       "    </tr>\n",
       "    <tr>\n",
       "      <th>9</th>\n",
       "      <td>3000</td>\n",
       "      <td>600</td>\n",
       "      <td>4</td>\n",
       "    </tr>\n",
       "    <tr>\n",
       "      <th>10</th>\n",
       "      <td>3000</td>\n",
       "      <td>600</td>\n",
       "      <td>4</td>\n",
       "    </tr>\n",
       "    <tr>\n",
       "      <th>11</th>\n",
       "      <td>5000</td>\n",
       "      <td>600</td>\n",
       "      <td>4</td>\n",
       "    </tr>\n",
       "    <tr>\n",
       "      <th>12</th>\n",
       "      <td>1500</td>\n",
       "      <td>600</td>\n",
       "      <td>0</td>\n",
       "    </tr>\n",
       "    <tr>\n",
       "      <th>13</th>\n",
       "      <td>1100</td>\n",
       "      <td>600</td>\n",
       "      <td>-1</td>\n",
       "    </tr>\n",
       "    <tr>\n",
       "      <th>14</th>\n",
       "      <td>950</td>\n",
       "      <td>600</td>\n",
       "      <td>-1</td>\n",
       "    </tr>\n",
       "    <tr>\n",
       "      <th>15</th>\n",
       "      <td>3000</td>\n",
       "      <td>600</td>\n",
       "      <td>4</td>\n",
       "    </tr>\n",
       "    <tr>\n",
       "      <th>16</th>\n",
       "      <td>3000</td>\n",
       "      <td>600</td>\n",
       "      <td>4</td>\n",
       "    </tr>\n",
       "    <tr>\n",
       "      <th>17</th>\n",
       "      <td>1300</td>\n",
       "      <td>600</td>\n",
       "      <td>0</td>\n",
       "    </tr>\n",
       "  </tbody>\n",
       "</table>\n",
       "</div>"
      ],
      "text/plain": [
       "     SAL  MedianAbsoluteDeviance  ratio\n",
       "0    800                     600     -2\n",
       "1   1600                     600      0\n",
       "2   1250                     600      0\n",
       "3   1250                     600      0\n",
       "4   2975                     600      4\n",
       "5   1250                     600      0\n",
       "6   1250                     600      0\n",
       "7   2850                     600      4\n",
       "8   2450                     600      3\n",
       "9   3000                     600      4\n",
       "10  3000                     600      4\n",
       "11  5000                     600      4\n",
       "12  1500                     600      0\n",
       "13  1100                     600     -1\n",
       "14   950                     600     -1\n",
       "15  3000                     600      4\n",
       "16  3000                     600      4\n",
       "17  1300                     600      0"
      ]
     },
     "execution_count": 99,
     "metadata": {},
     "output_type": "execute_result"
    }
   ],
   "source": [
    "c.execute('''\n",
    "    with rank_tab (sal, rank_sal) as (\n",
    "    select sal, cume_dist() over (order by sal)\n",
    "    from emp),\n",
    "    inter as\n",
    "    (\n",
    "    select sal, rank_sal from rank_tab\n",
    "    where rank_sal>=0.5\n",
    "    union\n",
    "    select sal, rank_sal from rank_tab\n",
    "    where rank_sal<=0.5\n",
    "    )\n",
    "    ,\n",
    "    medianSal (medianSal) as\n",
    "    (\n",
    "    select (max(sal)+min(sal))/2\n",
    "    from inter),\n",
    "    deviationSal (Sal,deviationSal) as\n",
    "    (select Sal,abs(sal-medianSal)\n",
    "    from emp join medianSal\n",
    "    on 1=1\n",
    "    )\n",
    "    ,\n",
    "    distDevSal (sal,deviationSal,distDeviationSal) as\n",
    "    (\n",
    "    select sal,deviationSal,cume_dist() over (order by deviationSal)\n",
    "    from deviationSal\n",
    "    ),\n",
    "    DevInter (DevInter, sal) as\n",
    "    (\n",
    "    select min(deviationSal), sal\n",
    "    from distDevSal\n",
    "    where distDeviationSal >= 0.5\n",
    "    union\n",
    "    select max(DeviationSal), sal\n",
    "    from distDevSal\n",
    "    where distDeviationSal <= 0.5\n",
    "    ),\n",
    "    MAD (MedianAbsoluteDeviance) as\n",
    "    (\n",
    "    select abs(emp.sal-(min(devInter)+max(devInter))/2)\n",
    "    from emp join DevInter on 1=1\n",
    "    )\n",
    "    select emp.sal,MedianAbsoluteDeviance,\n",
    "    (emp.sal-deviationSal)/MedianAbsoluteDeviance as ratio\n",
    "    from (emp join MAD on 1=1)\n",
    "    join deviationSal on emp.sal=deviationSal.sal;\n",
    "''')\n",
    "\n",
    "colnames = c.description\n",
    "colnames_list = []\n",
    "for row in colnames:\n",
    "    colnames_list.append(row[0])\n",
    "\n",
    "df = pd.DataFrame(c.fetchall(), columns=colnames_list)\n",
    "df"
   ]
  },
  {
   "cell_type": "markdown",
   "id": "5eed0712",
   "metadata": {},
   "source": [
    "Skip 7.17 Finding Anomalies Using Benford’s Law"
   ]
  },
  {
   "cell_type": "code",
   "execution_count": 100,
   "id": "7d287311",
   "metadata": {},
   "outputs": [],
   "source": [
    "conn.close()"
   ]
  },
  {
   "cell_type": "code",
   "execution_count": null,
   "id": "037c9ec4",
   "metadata": {},
   "outputs": [],
   "source": []
  },
  {
   "cell_type": "code",
   "execution_count": null,
   "id": "3930212f",
   "metadata": {},
   "outputs": [],
   "source": []
  }
 ],
 "metadata": {
  "kernelspec": {
   "display_name": "Python 3",
   "language": "python",
   "name": "python3"
  },
  "language_info": {
   "codemirror_mode": {
    "name": "ipython",
    "version": 3
   },
   "file_extension": ".py",
   "mimetype": "text/x-python",
   "name": "python",
   "nbconvert_exporter": "python",
   "pygments_lexer": "ipython3",
   "version": "3.9.6"
  },
  "vscode": {
   "interpreter": {
    "hash": "31f2aee4e71d21fbe5cf8b01ff0e069b9275f58929596ceb00d14d90e3e16cd6"
   }
  }
 },
 "nbformat": 4,
 "nbformat_minor": 5
}
